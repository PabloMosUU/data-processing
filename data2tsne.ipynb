{
 "cells": [
  {
   "cell_type": "code",
   "execution_count": null,
   "metadata": {
    "collapsed": true
   },
   "outputs": [],
   "source": [
    "import csv\n",
    "import sys\n",
    "\n",
    "ASDIR = \"../usb/ovk/data/eriktks/AS/text\"\n",
    "ESDIR = \"../usb/ovk/data/eriktks/ES/text\"\n",
    "REVERSEDFILENAME = \"reversed.txt\"\n",
    "MAILFILENAME = \"mails.csv\"\n",
    "SEPARATOR = \",\"\n",
    "CLIENT = \"client-id\"\n",
    "COUNSELOR = \"counselor\"\n",
    "DATE = \"date\"\n",
    "SENDER = \"sender\""
   ]
  },
  {
   "cell_type": "code",
   "execution_count": null,
   "metadata": {},
   "outputs": [],
   "source": [
    "def readFirstMails(inDir):\n",
    "    mails = {}\n",
    "    inFileName = inDir+\"/\"+MAILFILENAME\n",
    "    try: inFile = open(inFileName,\"r\")\n",
    "    except Exception as e: sys.exit(\"cannot read file \"+inFileName+\" \"+str(e))\n",
    "    csvReader = csv.DictReader(inFile,delimiter=SEPARATOR)\n",
    "    for row in csvReader:\n",
    "        try:\n",
    "            client = row[CLIENT]\n",
    "            date = row[DATE]\n",
    "            sender = row[SENDER]\n",
    "            if sender == \"CLIENT\" and \\\n",
    "               (not client in mails or \n",
    "                (mails[client][DATE] > date and date != \"\")):\n",
    "                mails[client] = dict(row)\n",
    "        except Exception as e: sys.exit(\"error: \"+str(e))      \n",
    "    inFile.close()\n",
    "    return(mails)\n",
    "asMails = readFirstMails(ASDIR)\n",
    "esMails = readFirstMails(ESDIR)"
   ]
  },
  {
   "cell_type": "code",
   "execution_count": null,
   "metadata": {},
   "outputs": [],
   "source": [
    "tokens = {}\n",
    "for client in asMails.keys():\n",
    "    mailTokens = {}\n",
    "    for token in asMails[client][\"text\"].split(): mailTokens[token] = True\n",
    "    for token in mailTokens.keys():\n",
    "        if token in tokens: tokens[token] += 1\n",
    "        else: tokens[token] = 1\n",
    "features = list(tokens.keys())\n",
    "featureIds = {}\n",
    "for f in range(0,len(features)): featureIds[features[f]] = f"
   ]
  },
  {
   "cell_type": "code",
   "execution_count": null,
   "metadata": {},
   "outputs": [],
   "source": [
    "OUTFILENAME=\"data2tsne.txt\"\n",
    "try: outFile = open(OUTFILENAME,\"w\")\n",
    "except Exception as e: sys.exit(\"error: cannot write file \"+OUTFILENAME+\": \"+str(e))\n",
    "for client in asMails.keys():\n",
    "    mailTokens = {}\n",
    "    for token in asMails[client][\"text\"].split(): mailTokens[token] = True\n",
    "    for i in range(0,len(features)):\n",
    "        if features[i] in mailTokens: print(1.0,end=\" \",file=outFile)\n",
    "        else: print(0.0,end=\" \",file=outFile)\n",
    "    print(\"\",file=outFile)\n",
    "outFile.close()"
   ]
  },
  {
   "cell_type": "code",
   "execution_count": null,
   "metadata": {
    "collapsed": true
   },
   "outputs": [],
   "source": []
  }
 ],
 "metadata": {
  "kernelspec": {
   "display_name": "Python 3",
   "language": "python",
   "name": "python3"
  },
  "language_info": {
   "codemirror_mode": {
    "name": "ipython",
    "version": 3
   },
   "file_extension": ".py",
   "mimetype": "text/x-python",
   "name": "python",
   "nbconvert_exporter": "python",
   "pygments_lexer": "ipython3",
   "version": "3.6.1"
  }
 },
 "nbformat": 4,
 "nbformat_minor": 2
}
