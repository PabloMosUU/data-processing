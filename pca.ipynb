{
 "cells": [
  {
   "cell_type": "code",
   "execution_count": null,
   "metadata": {
    "collapsed": true
   },
   "outputs": [],
   "source": [
    "# read mails from files and store in array mails\n",
    "\n",
    "import csv\n",
    "import os\n",
    "import re\n",
    "import sys\n",
    "import xml.etree.ElementTree as ET\n",
    "\n",
    "\n",
    "INFILENAMES = [ \"../usb/ovk/data/eriktks/AS/text/AS-mails.csv\",\"../usb/ovk/data/eriktks/ES/text/ES-mails.csv\", \\\n",
    "                \"../usb/ovk/data/eriktks/othertexts/genesis.csv\" ]\n",
    "CLIENT = \"CLIENT\"\n",
    "GENESIS = \"GENESIS\"\n",
    "COUNSELOR = \"counselor\"\n",
    "ID = \"client-id\"\n",
    "NBROFCHARS = \"nbrOfCharsInWords\"\n",
    "NBROFSENTS = \"nbrOfSents\"\n",
    "NBROFWORDS = \"nbrOfWords\"\n",
    "SENDER = \"sender\"\n",
    "SEPARATOR = \",\"\n",
    "TEXT = \"text\"\n",
    "\n",
    "(counselors,ids,mails,nbrOfChars,senders) = ([],[],[],[],[])\n",
    "for inFileName in INFILENAMES:\n",
    "    try: inFile = open(inFileName,\"r\")\n",
    "    except: sys.exit(\"cannot read file \"+INFILENAME)\n",
    "    csvReader = csv.DictReader(inFile,delimiter=SEPARATOR)\n",
    "    for row in csvReader:\n",
    "        try:\n",
    "            if True:\n",
    "                mails.append(row[TEXT])\n",
    "                senders.append(row[SENDER])\n",
    "                nbrOfChars.append(int(row[NBROFCHARS]))\n",
    "                counselors.append(row[COUNSELOR])\n",
    "                ids.append(row[ID]+\",\"+row[COUNSELOR]+\",\"+row[NBROFWORDS]+\",\"+row[NBROFCHARS]+\",\"+row[NBROFSENTS]+\",\"+row[SENDER])\n",
    "        except: sys.exit(\"unexpected row in file \"+INFILENAME+\": \"+str(row))\n",
    "    inFile.close()"
   ]
  },
  {
   "cell_type": "code",
   "execution_count": null,
   "metadata": {
    "collapsed": true
   },
   "outputs": [],
   "source": [
    "# create tfidf vectors for each mail text\n",
    "\n",
    "from sklearn.feature_extraction.text import TfidfVectorizer\n",
    "\n",
    "tfidf_vectorizer = TfidfVectorizer(max_df=0.8,max_features=200000, \\\n",
    "                                   min_df=0.2,use_idf=True)\n",
    "tfidf_matrix = tfidf_vectorizer.fit_transform(mails)"
   ]
  },
  {
   "cell_type": "code",
   "execution_count": null,
   "metadata": {
    "collapsed": true
   },
   "outputs": [],
   "source": [
    "# convert tfidf vectors to principal components (n=2)\n",
    "\n",
    "from sklearn.decomposition import PCA\n",
    "\n",
    "pca = PCA(n_components=4)\n",
    "pca.fit(tfidf_matrix.toarray())\n",
    "newSpace = pca.transform(tfidf_matrix.toarray())"
   ]
  },
  {
   "cell_type": "code",
   "execution_count": null,
   "metadata": {
    "scrolled": false
   },
   "outputs": [],
   "source": [
    "# draw graph of pca data: red: from client; blue: from counselor\n",
    "\n",
    "%matplotlib notebook\n",
    "import matplotlib.pyplot as plt\n",
    "import random\n",
    "import re\n",
    "\n",
    "EXPERIMENT = \"Emails\"\n",
    "THRESHOLD = 5\n",
    "RANDOMFACTOR=0.00\n",
    "(idsCli,idsCouns,idsGen,xCli,xCouns,xGen,yCli,yCouns,yGen) = ([],[],[],[],[],[],[],[],[])\n",
    "random.seed()\n",
    "for i in range(0,len(newSpace)):\n",
    "    if senders[i] == CLIENT:\n",
    "        xCli.append(newSpace[i][0]+random.random()*RANDOMFACTOR)\n",
    "        yCli.append(newSpace[i][1]+random.random()*RANDOMFACTOR)\n",
    "        idsCli.append(ids[i])\n",
    "    elif senders[i] == GENESIS:\n",
    "        xGen.append(newSpace[i][0]+random.random()*RANDOMFACTOR)\n",
    "        yGen.append(newSpace[i][1]+random.random()*RANDOMFACTOR)\n",
    "        idsGen.append(ids[i])\n",
    "    else:\n",
    "        xCouns.append(newSpace[i][0]+random.random()*RANDOMFACTOR)\n",
    "        yCouns.append(newSpace[i][1]+random.random()*RANDOMFACTOR)\n",
    "        idsCouns.append(ids[i])\n",
    "fig = plt.figure(figsize=(9,5))\n",
    "plt.gca().set_title(EXPERIMENT+\": Click in the graph to see the relevant document ids\")\n",
    "counsDots = plt.scatter(xCouns,yCouns,s=1,color=\"blue\",picker=2,label=\"from counselor (\"+str(len(idsCouns))+\")\".format(THRESHOLD))\n",
    "cliDots = plt.scatter(xCli,yCli,s=1,color=\"red\",picker=2,label=\"from client (\"+str(len(idsCli))+\")\".format(THRESHOLD))\n",
    "genDots = plt.scatter(xGen,yGen,s=1,color=\"green\",picker=2,label=\"from Genesis (\"+str(len(idsGen))+\")\".format(THRESHOLD))\n",
    "unknownDots = -1\n",
    "plt.legend(fontsize=8)\n",
    "\n",
    "def pickScatter(event):\n",
    "    dataIds = []\n",
    "    for i in range(0,len(event.ind)): \n",
    "        if event.artist == cliDots: dataIds.append(idsCli[event.ind[i]])\n",
    "        elif event.artist == genDots: dataIds.append(idsGen[event.ind[i]])\n",
    "        else: dataIds.append(idsCouns[event.ind[i]])\n",
    "    plt.gca().set_title(EXPERIMENT+str(dataIds),fontsize=12)\n",
    "plt.gcf().canvas.mpl_connect(\"pick_event\",pickScatter)"
   ]
  },
  {
   "cell_type": "code",
   "execution_count": null,
   "metadata": {
    "collapsed": true
   },
   "outputs": [],
   "source": []
  }
 ],
 "metadata": {
  "kernelspec": {
   "display_name": "Python 3",
   "language": "python",
   "name": "python3"
  },
  "language_info": {
   "codemirror_mode": {
    "name": "ipython",
    "version": 3
   },
   "file_extension": ".py",
   "mimetype": "text/x-python",
   "name": "python",
   "nbconvert_exporter": "python",
   "pygments_lexer": "ipython3",
   "version": "3.6.1"
  }
 },
 "nbformat": 4,
 "nbformat_minor": 2
}
