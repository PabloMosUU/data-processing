{
 "cells": [
  {
   "cell_type": "markdown",
   "metadata": {},
   "source": [
    "# Convert Tactus xml files to csv files"
   ]
  },
  {
   "cell_type": "code",
   "execution_count": 1,
   "metadata": {},
   "outputs": [],
   "source": [
    "import gzip\n",
    "import matplotlib\n",
    "import matplotlib.pyplot as plt\n",
    "import numpy as np\n",
    "import os\n",
    "import pandas as pd\n",
    "import re\n",
    "import xml.etree.ElementTree as ET\n",
    "from nltk import word_tokenize"
   ]
  },
  {
   "cell_type": "code",
   "execution_count": 2,
   "metadata": {},
   "outputs": [],
   "source": [
    "CLIENT = \"client\"\n",
    "COUNSELOR = \"counselor\"\n",
    "DATADIR = \"../usb/tmp/20190917/\"\n",
    "FILEPATTERN = \"AdB.*xml.gz\"\n",
    "OUTDIR = \"../usb/releases/20201018/\""
   ]
  },
  {
   "cell_type": "code",
   "execution_count": 3,
   "metadata": {},
   "outputs": [],
   "source": [
    "TACTUSMAIL = \"alcoholdebaas@tactus.nl\"\n",
    "EMAIL = \"Email\"\n",
    "\n",
    "def dictToString(data):\n",
    "    string = \"\"\n",
    "    for key in sorted(data.keys()):\n",
    "        string += key+\":\"+data[key]+\" \"\n",
    "    return(string)\n",
    "\n",
    "def inExcludedCounselors(counselorString):\n",
    "    return(not re.search(EMAIL+\":\",counselorString,flags=re.IGNORECASE) or \\\n",
    "           re.search(TACTUSMAIL,counselorString,flags=re.IGNORECASE))\n",
    "\n",
    "def fileNameToId(fileName):\n",
    "    return(fileName.split(\".\")[0].split(\"-\")[0])\n",
    "\n",
    "def readGzippedXmlFile(inFileName):\n",
    "    inFile = gzip.open(inFileName)\n",
    "    inFileContent = inFile.read()\n",
    "    inFile.close()\n",
    "    root = ET.fromstring(inFileContent)\n",
    "    return(root)\n",
    "\n",
    "def cleanupText(text):\n",
    "    return(re.sub(\"\\n\",r\" \\\\n \",text.strip()))"
   ]
  },
  {
   "cell_type": "code",
   "execution_count": 4,
   "metadata": {},
   "outputs": [],
   "source": [
    "def showValueFrequencies(answerDataDf):\n",
    "    x = sorted(set(answerDataDf[CLIENT]))\n",
    "    answerDataDfGroups = answerDataDf.groupby([CLIENT])\n",
    "    y = [len(answerDataDfGroups.groups[client]) for client in x]\n",
    "    yCounts = {yValue:y.count(yValue) for yValue in y}\n",
    "    yCountsSorted = {yValue:yCounts[yValue] for yValue in sorted(yCounts.keys(),key=lambda yValue:yCounts[yValue],reverse=True)}\n",
    "    return(yCountsSorted)"
   ]
  },
  {
   "cell_type": "markdown",
   "metadata": {},
   "source": [
    "## Process tag AssignedCounselor (counselors.csv)"
   ]
  },
  {
   "cell_type": "code",
   "execution_count": 5,
   "metadata": {},
   "outputs": [],
   "source": [
    "COUNSELORQUERY = \"./AssignedCounselor\"\n",
    "OUTFILENAME = \"counselors.csv.gz\"\n",
    "\n",
    "def getCounselorData():\n",
    "    inFileNames = sorted(os.listdir(DATADIR))\n",
    "    clientList = []\n",
    "    counselorDict = {\"\":0}\n",
    "    for inFileName in inFileNames:\n",
    "        if re.search(FILEPATTERN,inFileName):\n",
    "            root = readGzippedXmlFile(DATADIR+inFileName)\n",
    "            for counselor in root.findall(COUNSELORQUERY):\n",
    "                counselorData = {}\n",
    "                for i in range(0,len(counselor)):\n",
    "                    try:\n",
    "                        counselorData[counselor[i].tag.strip()] = counselor[i].text.strip()\n",
    "                    except: pass\n",
    "            counselorString = dictToString(counselorData)\n",
    "            if not counselorString in counselorDict:\n",
    "                counselorDict[counselorString] = len(counselorDict)\n",
    "            clientList.append((fileNameToId(inFileName),counselorDict[counselorString]))\n",
    "    return(clientList,counselorDict)"
   ]
  },
  {
   "cell_type": "code",
   "execution_count": 6,
   "metadata": {},
   "outputs": [],
   "source": [
    "PLOTFILENAME = \"AssignedCounselor.png\"\n",
    "\n",
    "def clientDictToCounselorDf(clientDict):\n",
    "    counselorDf = pd.DataFrame(clientDict,index=[0]).T.rename(columns={0:COUNSELOR})\n",
    "    counselorDf.index.name = CLIENT\n",
    "    return(counselorDf)\n",
    "\n",
    "def saveCounselorDf(counselorDf,outFileName=OUTFILENAME):\n",
    "    counselorDf.to_csv(OUTDIR+outFileName)\n",
    "    \n",
    "def visualizeCounselorDf(counselorDf,counselorDict):\n",
    "    counselorGroups = counselorDf.groupby(COUNSELOR).groups\n",
    "    counselorDictT = {counselorDict[c]:c for c in counselorDict}\n",
    "    x = [c for c in sorted(counselorGroups.keys()) if not inExcludedCounselors(counselorDictT[c])]\n",
    "    y = [len(counselorGroups[g]) for g in x]\n",
    "    plt.figure(figsize=(10,5))\n",
    "    matplotlib.rc(\"font\",**{\"size\":12})\n",
    "    plt.bar(x,y)\n",
    "    plt.xlabel(\"counselor id\")\n",
    "    plt.title(f\"Number of clients per counselor (average: {round(np.average(y),1)}; standard deviation: {round(np.std(y))})\")\n",
    "    plt.savefig(PLOTFILENAME)\n",
    "    plt.show()\n",
    "    \n",
    "def showExcludedCounselors(counselorDf,counselorDict):\n",
    "    counselorGroups = counselorDf.groupby(COUNSELOR).groups\n",
    "    for c in counselorDict:\n",
    "        if inExcludedCounselors(c):\n",
    "            print(f\"id: {counselorDict[c]}; frequency: {len(counselorGroups[counselorDict[c]])}; data: {c}\")\n",
    "    "
   ]
  },
  {
   "cell_type": "code",
   "execution_count": 7,
   "metadata": {},
   "outputs": [
    {
     "name": "stdout",
     "output_type": "stream",
     "text": [
      "number of client-counselor pairs: total: 1983; one per client: 1983\n"
     ]
    }
   ],
   "source": [
    "clientList,counselorDict = getCounselorData()\n",
    "clientDict = {key:value for (key,value) in clientList}\n",
    "counselorDf = clientDictToCounselorDf(clientDict)\n",
    "saveCounselorDf(counselorDf,outFileName=OUTFILENAME)\n",
    "print(f\"number of client-counselor pairs: total: {len(clientList)}; one per client: {len(clientDict.keys())}\")"
   ]
  },
  {
   "cell_type": "code",
   "execution_count": 8,
   "metadata": {},
   "outputs": [
    {
     "data": {
      "image/png": "[encoded data removed]",
      "text/plain": [
       "<Figure size 720x360 with 1 Axes>"
      ]
     },
     "metadata": {
      "needs_background": "light"
     },
     "output_type": "display_data"
    }
   ],
   "source": [
    "visualizeCounselorDf(counselorDf,counselorDict)"
   ]
  },
  {
   "cell_type": "code",
   "execution_count": 9,
   "metadata": {},
   "outputs": [
    {
     "name": "stdout",
     "output_type": "stream",
     "text": [
      "id: 0; frequency: 763; data: \n",
      "id: 3; frequency: 254; data: Email:alcoholdebaas@tactus.nl FirstName:Geen LastName:Hulpverlener \n",
      "id: 19; frequency: 1; data: Email:alcoholdebaas@tactus.nl FirstName:Aangehouden LastName:cliënten \n",
      "id: 45; frequency: 1; data: Email:alcoholdebaas@tactus.nl FirstName:Niet LastName:Gestart \n"
     ]
    }
   ],
   "source": [
    "showExcludedCounselors(counselorDf,counselorDict)"
   ]
  },
  {
   "cell_type": "markdown",
   "metadata": {},
   "source": [
    "## Process tag Intake (clients.csv)"
   ]
  },
  {
   "cell_type": "code",
   "execution_count": 5,
   "metadata": {},
   "outputs": [],
   "source": [
    "TITLE = \"title\"\n",
    "TITLECAPS = \"Title\"\n",
    "QUESTIONNUMBER = \"questionNumber\"\n",
    "ANSWER = \"answer\"\n",
    "ANSWERID = \"answerId\"\n",
    "ANSWERTEXT = \"answerText\"\n",
    "ANSWERTITLE = \"answerTitle\"\n",
    "ID = \"ID\"\n",
    "INTAKE = \"Intake\"\n",
    "QUERYINTAKE = \"./Intake\"\n",
    "QUERYQUESTION = \".//question\"\n",
    "QUERYTITLE = \"./\"+TITLE\n",
    "QUERYQUESTIONNUMBER = \"./\"+QUESTIONNUMBER\n",
    "QUERYANSWER = \"./\"+ANSWER\n",
    "QUERYANSWERTEXT = \"./\"+ANSWERTEXT\n",
    "OUTFILENAME = \"clients.csv.gz\"\n",
    "PLOTFILENAME = \"Intake.png\"\n",
    "TITLESTRING = \"Number of questions per client in Intake forms\"\n",
    "TREATMENTTITLE = \"treatmentTitle\""
   ]
  },
  {
   "cell_type": "code",
   "execution_count": 6,
   "metadata": {},
   "outputs": [],
   "source": [
    "def getAnswerDataList(querySection=QUERYINTAKE):\n",
    "    inFileNames = sorted(os.listdir(DATADIR))\n",
    "    answerDataList = []\n",
    "    for inFileName in inFileNames:\n",
    "        if re.search(FILEPATTERN,inFileName):\n",
    "            root = readGzippedXmlFile(DATADIR+inFileName)\n",
    "            for section in root.findall(querySection):\n",
    "                for question in section.findall(QUERYQUESTION):\n",
    "                    answerDict = {CLIENT:fileNameToId(inFileName),TREATMENTTITLE:INTAKE}\n",
    "                    try:\n",
    "                        answerDict[TITLE] = list(question.findall(QUERYTITLE))[0].text.strip()\n",
    "                    except: pass\n",
    "                    try:\n",
    "                        answerDict[QUESTIONNUMBER] = list(question.findall(QUERYQUESTIONNUMBER))[0].text.strip()\n",
    "                    except: pass\n",
    "                    for answer in question.findall(QUERYANSWER):\n",
    "                        answerDictCopy = dict(answerDict)\n",
    "                        answerDictCopy[ANSWERID] = answer.attrib[ID]\n",
    "                        try:\n",
    "                            answerDictCopy[ANSWERTEXT] = list(answer.findall(QUERYANSWERTEXT))[0].text.strip()\n",
    "                        except: pass\n",
    "                        try:\n",
    "                            answerDictCopy[ANSWERTITLE] = list(answer.findall(QUERYTITLE))[0].text.strip()\n",
    "                        except: pass\n",
    "                        answerDataList.append(answerDictCopy)\n",
    "    return(answerDataList)"
   ]
  },
  {
   "cell_type": "code",
   "execution_count": 7,
   "metadata": {},
   "outputs": [],
   "source": [
    "DATAFREQUENCYTHRESHOLD = 5\n",
    "REMOVED = \"REMOVED\"\n",
    "\n",
    "def makeAnswerId(answer):\n",
    "    if not QUESTIONNUMBER in answer: questionNumber = \"\"\n",
    "    else: questionNumber = answer[QUESTIONNUMBER]\n",
    "    if not ANSWERID in answer: answerId = \"\"\n",
    "    else: answerId = answer[ANSWERID]\n",
    "    return(questionNumber+\"-\"+answerId)\n",
    "\n",
    "def countAnswerTexts(answerDataList):\n",
    "    answerTextFreqs = {}\n",
    "    for i in range(0,len(answerDataList)):\n",
    "        answerId = makeAnswerId(answerDataList[i])\n",
    "        try:\n",
    "            answerText = answerDataList[i][ANSWERTEXT]\n",
    "        except: answerText = \"\"\n",
    "        if not answerId in answerTextFreqs: answerTextFreqs[answerId] = {}\n",
    "        for token in answerText.split():\n",
    "            if not token in answerTextFreqs[answerId]: answerTextFreqs[answerId][token] = 0\n",
    "            answerTextFreqs[answerId][token] += 1\n",
    "    return(answerTextFreqs)\n",
    "\n",
    "def removeRareDataValues(answerDataList,answerFreqs):\n",
    "    for i in range(0,len(answerDataList)):\n",
    "        answerId = makeAnswerId(answerDataList[i])\n",
    "        if ANSWERTEXT in answerDataList[i] and \\\n",
    "           answerDataList[i][ANSWERTEXT] != \"\":\n",
    "            for token in answerDataList[i][ANSWERTEXT].split():\n",
    "                if answerFreqs[answerId][token] < DATAFREQUENCYTHRESHOLD:\n",
    "                    answerDataList[i][ANSWERTEXT] = REMOVED\n",
    "    return(answerDataList)"
   ]
  },
  {
   "cell_type": "code",
   "execution_count": 8,
   "metadata": {},
   "outputs": [],
   "source": [
    "def answerDataListToDf(answerDataList):\n",
    "    return(pd.DataFrame(answerDataList))\n",
    "\n",
    "def saveAnswerDataDf(answerDataDf,outFileName=OUTFILENAME):\n",
    "    answerDataDf.to_csv(OUTDIR+outFileName,index=None)"
   ]
  },
  {
   "cell_type": "code",
   "execution_count": 9,
   "metadata": {},
   "outputs": [],
   "source": [
    "def visualizeAnswerDataDf(answerDataDf,titleString=TITLESTRING,plotFileName=PLOTFILENAME):\n",
    "    x = sorted(set(answerDataDf[CLIENT]))\n",
    "    answerDataDfGroups = answerDataDf.groupby([CLIENT])\n",
    "    y = [len(answerDataDfGroups.groups[client]) for client in x]\n",
    "    plt.figure(figsize=(16,5))\n",
    "    matplotlib.rc(\"font\",**{\"size\":20})\n",
    "    plt.bar(x,y)\n",
    "    plt.title(titleString)\n",
    "    plt.xlabel(\"client id\")\n",
    "    plt.tick_params(axis='x',which='both',bottom=False,labelbottom=False)\n",
    "    plt.savefig(plotFileName)\n",
    "    plt.show()"
   ]
  },
  {
   "cell_type": "code",
   "execution_count": 10,
   "metadata": {},
   "outputs": [],
   "source": [
    "GESLACHT = \"geslacht\"\n",
    "GESLACHT0 = \"geslacht0\"\n",
    "GESLACHTT0 = \"geslachtt0\"\n",
    "NONQUESTIONS = \"^(goTo[0-9]|ltgeslacht1|doel)$\"\n",
    "EXCEPTIONANSWERID = \"mdoel\"\n",
    "ANSWERIDORIGINAL = \"answerId_original\"\n",
    "ANSWERIDNORMALIZED = \"answerId_normalized\"\n",
    "\n",
    "def normalize_answer_id(answer_id, first_answer_id):\n",
    "    if first_answer_id == GESLACHT: \n",
    "        new_answer_id = answer_id\n",
    "    elif first_answer_id == GESLACHT0:\n",
    "        if re.search(\"0h$\",answer_id):\n",
    "            new_answer_id = re.sub(\"0h$\",\"h\",answer_id)\n",
    "        else:\n",
    "            new_answer_id = re.sub(\"0$\",\"\",answer_id)\n",
    "    elif first_answer_id == GESLACHTT0: \n",
    "        new_answer_id = re.sub(\"t0$\",\"\",answer_id)\n",
    "    else: \n",
    "        sys.exit(f\"unknown first answer id: {first_answer_id}!\")\n",
    "    if re.search(\"^(goTo[0-9]|ltgeslacht1|doel)$\",answer_id):\n",
    "        return(\"\")\n",
    "    if (first_answer_id != GESLACHT and new_answer_id == answer_id and \n",
    "        not answer_id == EXCEPTIONANSWERID and not re.search(NONQUESTIONS,answer_id)):\n",
    "        sys.exit(f\"first answer id {first_answer_id} did not change {answer_id}!\")\n",
    "    return(new_answer_id)\n",
    "\n",
    "def normalize_all_answer_ids(df):\n",
    "    current_client_id = \"\"\n",
    "    first_answer_id = \"\"\n",
    "    answer_ids_normalized = []\n",
    "    for i,row in df.iterrows():\n",
    "        client_id = row[CLIENT]\n",
    "        answer_id = row[ANSWERID]\n",
    "        if client_id != current_client_id:\n",
    "            current_client_id = client_id\n",
    "            first_answer_id = answer_id\n",
    "        answer_ids_normalized.append(normalize_answer_id(answer_id,first_answer_id))\n",
    "    df.rename(columns={ANSWERID:ANSWERIDORIGINAL},inplace=True)\n",
    "    df[ANSWERIDNORMALIZED] = answer_ids_normalized\n",
    "    return(df)"
   ]
  },
  {
   "cell_type": "code",
   "execution_count": 24,
   "metadata": {},
   "outputs": [],
   "source": [
    "def remove_text_from_alcohol_intake(answer_data_list):\n",
    "    new_answer_data_list = []\n",
    "    for row in answer_data_list:\n",
    "        if re.search(\"^dag[0-9]\",row[\"answerId\"]) or re.search(\"^week\",row[\"answerId\"]):\n",
    "            row[\"answerText\"] = re.sub(\"^.*: *\",\"\",row[\"answerText\"])\n",
    "            row[\"answerText\"] = re.sub(\"^± *\",\"\",row[\"answerText\"])\n",
    "        new_answer_data_list.append(dict(row))\n",
    "    return(new_answer_data_list)"
   ]
  },
  {
   "cell_type": "code",
   "execution_count": 26,
   "metadata": {},
   "outputs": [],
   "source": [
    "answerDataList = getAnswerDataList()\n",
    "asnwerDataList = remove_text_from_alcohol_intake(answerDataList)\n",
    "answerTextFreqs = countAnswerTexts(answerDataList)\n",
    "answerDataList = removeRareDataValues(answerDataList,answerTextFreqs)\n",
    "answerDataDf = answerDataListToDf(answerDataList)\n",
    "answerDataDfNormalized = normalize_all_answer_ids(answerDataDf)\n",
    "saveAnswerDataDf(answerDataDfNormalized,outFileName=OUTFILENAME)"
   ]
  },
  {
   "cell_type": "code",
   "execution_count": 29,
   "metadata": {},
   "outputs": [
    {
     "data": {
      "image/png": "[encoded data removed]",
      "text/plain": [
       "<Figure size 1152x360 with 1 Axes>"
      ]
     },
     "metadata": {
      "needs_background": "light"
     },
     "output_type": "display_data"
    }
   ],
   "source": [
    "visualizeAnswerDataDf(answerDataDf)"
   ]
  },
  {
   "cell_type": "code",
   "execution_count": 30,
   "metadata": {},
   "outputs": [
    {
     "data": {
      "text/plain": [
       "{259: 1014, 140: 881, 27: 46, 236: 42}"
      ]
     },
     "execution_count": 30,
     "metadata": {},
     "output_type": "execute_result"
    }
   ],
   "source": [
    "showValueFrequencies(answerDataDf)"
   ]
  },
  {
   "cell_type": "markdown",
   "metadata": {},
   "source": [
    "## Process tag Treatment (treatments.csv)\n",
    "\n",
    "Uses Intake functions"
   ]
  },
  {
   "cell_type": "code",
   "execution_count": 18,
   "metadata": {},
   "outputs": [],
   "source": [
    "QUERYTREATMENT = \"./Treatment\"\n",
    "QUERYTREATMENTSTEP = \".//TreatmentStep\"\n",
    "OUTFILENAME = \"treatments.csv.gz\"\n",
    "TITLESTRING = \"Number of questions per client in treatment steps\"\n",
    "TREATMENTTITLE = \"treatmentTitle\"\n",
    "PLOTFILENAME = \"Treatment.png\""
   ]
  },
  {
   "cell_type": "code",
   "execution_count": 19,
   "metadata": {},
   "outputs": [],
   "source": [
    "def getAnswerDataListTreatments(querySection=QUERYINTAKE):\n",
    "    inFileNames = sorted(os.listdir(DATADIR))\n",
    "    answerDataList = []\n",
    "    for inFileName in inFileNames:\n",
    "        if re.search(FILEPATTERN,inFileName):\n",
    "            root = readGzippedXmlFile(DATADIR+inFileName)\n",
    "            for section in root.findall(querySection):\n",
    "                for treatmentStep in section.findall(QUERYTREATMENTSTEP):\n",
    "                    titleList = treatmentStep.findall(\"./\"+TITLECAPS)\n",
    "                    if not titleList is None and len(titleList) > 0 and not titleList[0].text is None:\n",
    "                        treatmentTitle = titleList[0].text.strip()\n",
    "                    else: treatmentTitle = \"\"\n",
    "                    for question in treatmentStep.findall(QUERYQUESTION):\n",
    "                        answerDict = {CLIENT:fileNameToId(inFileName),TREATMENTTITLE:treatmentTitle}\n",
    "                        try:\n",
    "                            answerDict[TITLE] = list(question.findall(QUERYTITLE))[0].text.strip()\n",
    "                        except: pass\n",
    "                        try:\n",
    "                            answerDict[QUESTIONNUMBER] = list(question.findall(QUERYQUESTIONNUMBER))[0].text.strip()\n",
    "                        except: pass\n",
    "                        for answer in question.findall(QUERYANSWER):\n",
    "                            answerDictCopy = dict(answerDict)\n",
    "                            answerDictCopy[ANSWERID] = answer.attrib[ID]\n",
    "                            try:\n",
    "                                answerDictCopy[ANSWERTEXT] = list(answer.findall(QUERYANSWERTEXT))[0].text.strip()\n",
    "                            except: pass\n",
    "                            try:\n",
    "                                answerDictCopy[ANSWERTITLE] = list(answer.findall(QUERYTITLE))[0].text.strip()\n",
    "                            except: pass\n",
    "                            answerDataList.append(answerDictCopy)\n",
    "    return(answerDataList)"
   ]
  },
  {
   "cell_type": "code",
   "execution_count": 20,
   "metadata": {},
   "outputs": [],
   "source": [
    "answerDataList = getAnswerDataListTreatments(querySection=QUERYTREATMENT)\n",
    "answerTextFreqs = countAnswerTexts(answerDataList)\n",
    "answerDataList = removeRareDataValues(answerDataList,answerTextFreqs)\n",
    "answerDataDf = answerDataListToDf(answerDataList)\n",
    "saveAnswerDataDf(answerDataDf,outFileName=OUTFILENAME)"
   ]
  },
  {
   "cell_type": "code",
   "execution_count": 21,
   "metadata": {},
   "outputs": [
    {
     "data": {
      "image/png": "[encoded data removed]",
      "text/plain": [
       "<Figure size 1152x360 with 1 Axes>"
      ]
     },
     "metadata": {
      "needs_background": "light"
     },
     "output_type": "display_data"
    }
   ],
   "source": [
    "visualizeAnswerDataDf(answerDataDf,titleString=TITLESTRING,plotFileName=PLOTFILENAME)"
   ]
  },
  {
   "cell_type": "code",
   "execution_count": 22,
   "metadata": {},
   "outputs": [
    {
     "data": {
      "text/plain": [
       "{8: 174,\n",
       " 369: 141,\n",
       " 9: 76,\n",
       " 304: 56,\n",
       " 337: 55,\n",
       " 108: 45,\n",
       " 142: 41,\n",
       " 210: 39,\n",
       " 224: 27,\n",
       " 179: 26,\n",
       " 189: 26,\n",
       " 151: 20,\n",
       " 199: 19,\n",
       " 682: 9,\n",
       " 645: 8,\n",
       " 467: 7,\n",
       " 742: 7,\n",
       " 217: 6,\n",
       " 422: 5,\n",
       " 552: 5,\n",
       " 182: 4,\n",
       " 223: 3,\n",
       " 429: 3,\n",
       " 631: 3,\n",
       " 434: 3,\n",
       " 37: 3,\n",
       " 135: 2,\n",
       " 214: 2,\n",
       " 297: 2,\n",
       " 428: 2,\n",
       " 689: 2,\n",
       " 394: 2,\n",
       " 488: 2,\n",
       " 192: 2,\n",
       " 228: 2,\n",
       " 172: 2,\n",
       " 654: 2,\n",
       " 530: 2,\n",
       " 203: 2,\n",
       " 387: 1,\n",
       " 279: 1,\n",
       " 556: 1,\n",
       " 290: 1,\n",
       " 663: 1,\n",
       " 559: 1,\n",
       " 88: 1,\n",
       " 340: 1,\n",
       " 254: 1,\n",
       " 165: 1,\n",
       " 516: 1,\n",
       " 427: 1,\n",
       " 213: 1,\n",
       " 550: 1,\n",
       " 29: 1,\n",
       " 335: 1,\n",
       " 233: 1,\n",
       " 154: 1,\n",
       " 35: 1,\n",
       " 205: 1,\n",
       " 349: 1,\n",
       " 268: 1,\n",
       " 384: 1,\n",
       " 272: 1,\n",
       " 139: 1,\n",
       " 144: 1}"
      ]
     },
     "execution_count": 22,
     "metadata": {},
     "output_type": "execute_result"
    }
   ],
   "source": [
    "showValueFrequencies(answerDataDf)"
   ]
  },
  {
   "cell_type": "code",
   "execution_count": 23,
   "metadata": {},
   "outputs": [
    {
     "data": {
      "text/plain": [
       "{'answer': 179958,\n",
       " 'answerText': 179958,\n",
       " 'title': 108423,\n",
       " 'question': 65265,\n",
       " 'questionNumber': 62285,\n",
       " 'Title': 12180,\n",
       " 'TreatmentStep': 6821,\n",
       " 'SubmissionDate': 6821,\n",
       " 'ApprovalDate': 6821,\n",
       " 'ApprovingCounselor': 6821,\n",
       " 'FirstName': 6154,\n",
       " 'LastName': 6154,\n",
       " 'Questionnaire': 5375,\n",
       " 'Type': 5375,\n",
       " 'Content': 5375,\n",
       " 'Status': 1983,\n",
       " 'StartDate': 1983,\n",
       " 'EndDate': 1983,\n",
       " 'TreatmentSteps': 1983}"
      ]
     },
     "execution_count": 23,
     "metadata": {},
     "output_type": "execute_result"
    }
   ],
   "source": [
    "inFileNames = sorted(os.listdir(DATADIR))\n",
    "tags= {}\n",
    "for inFileName in inFileNames:\n",
    "    if re.search(FILEPATTERN,inFileName):\n",
    "        root = readGzippedXmlFile(DATADIR+inFileName)\n",
    "        for section in root.findall(QUERYTREATMENT):\n",
    "            for tag in section.findall(\".//*\"):\n",
    "                if not tag.tag in tags: tags[tag.tag] = 0\n",
    "                tags[tag.tag] += 1\n",
    "{tag:tags[tag] for tag in sorted(tags.keys(),key=lambda t:tags[t],reverse=True)}"
   ]
  },
  {
   "cell_type": "code",
   "execution_count": 24,
   "metadata": {},
   "outputs": [
    {
     "data": {
      "text/plain": [
       "179958"
      ]
     },
     "execution_count": 24,
     "metadata": {},
     "output_type": "execute_result"
    }
   ],
   "source": [
    "len(answerDataList)"
   ]
  },
  {
   "cell_type": "code",
   "execution_count": 25,
   "metadata": {},
   "outputs": [],
   "source": [
    "import sys\n",
    "\n",
    "QUERYTREATMENTSTEP = \"./TreatmentSteps/TreatmentStep\"\n",
    "QUERYTITLE = \"./Title\"\n",
    "QUERYANSWER = \".//\"+ANSWER"
   ]
  },
  {
   "cell_type": "markdown",
   "metadata": {},
   "source": [
    "Most common treatment step order:\n",
    "\n",
    "1. Voordelen, nadelen\n",
    "2. Alcoholschrift bijhouden\n",
    "3. Situaties analyseren\n",
    "4. Meten en weten\n",
    "5. Doel stellen\n",
    "6. Gewoontes doorbreken\n",
    "7. Anders denken\n",
    "8. Anders doen\n",
    "9. Beslissingen\n",
    "10. Actieplan\n",
    "11. Afsluiting\n",
    "12. Na 3 maanden\n",
    "13. Na half jaar\n",
    "14. Na 9 maanden"
   ]
  },
  {
   "cell_type": "code",
   "execution_count": 26,
   "metadata": {},
   "outputs": [
    {
     "data": {
      "text/plain": [
       "{'Voordelen, nadelen': 922,\n",
       " 'Alcoholschrift bijhouden': 749,\n",
       " 'Doel stellen': 689,\n",
       " 'Situaties analyseren': 627,\n",
       " 'Meten en weten': 574,\n",
       " 'Gewoontes doorbreken': 497,\n",
       " 'Anders denken': 472,\n",
       " 'Anders doen': 442,\n",
       " 'Afsluiting': 419,\n",
       " 'Beslissingen': 418,\n",
       " 'Actieplan': 396,\n",
       " 'Na 3 maanden': 326,\n",
       " 'Na half jaar': 264,\n",
       " 'Na 9 maanden': 9,\n",
       " 'Intake': 1}"
      ]
     },
     "execution_count": 26,
     "metadata": {},
     "output_type": "execute_result"
    }
   ],
   "source": [
    "inFileNames = sorted(os.listdir(DATADIR))\n",
    "titles= {}\n",
    "for inFileName in inFileNames:\n",
    "    if re.search(FILEPATTERN,inFileName):\n",
    "        root = readGzippedXmlFile(DATADIR+inFileName)\n",
    "        questionCount = 0\n",
    "        for section in root.findall(QUERYTREATMENT):\n",
    "            questionCountAll = len(section.findall(QUERYANSWER))\n",
    "            for treatmentStep in section.findall(QUERYTREATMENTSTEP):\n",
    "                questionCount += len(treatmentStep.findall(QUERYANSWER))\n",
    "                for title in treatmentStep.findall(QUERYTITLE):\n",
    "                    titleText = cleanupText(title.text) # +\" \"+str(questionCountAll)+\" \"+str(questionCount)\n",
    "                    if not titleText in titles: titles[titleText] = 0\n",
    "                    titles[titleText] += 1\n",
    "{titleText:titles[titleText] for titleText in sorted(titles.keys(),key=lambda t:titles[t],reverse=True)}"
   ]
  },
  {
   "cell_type": "markdown",
   "metadata": {},
   "source": [
    "## Process tag Diary (diaries.csv)"
   ]
  },
  {
   "cell_type": "code",
   "execution_count": 27,
   "metadata": {},
   "outputs": [],
   "source": [
    "OUTFILENAME = \"diaries.csv.gz\"\n",
    "QUERYDIARY = \"./Diary\"\n",
    "QUERYDIARYENTRY = \"./DiaryEntries/DiaryEntry\"\n",
    "UNKNOWN = \"-\"\n",
    "SEP = \"_\"\n",
    "\n",
    "def getAllTextFields(tag,prefix=\"\"):\n",
    "    textDict = {}\n",
    "    for child in tag.findall(\"./*\"):\n",
    "        if prefix == \"\": key = child.tag\n",
    "        else: key = prefix+SEP+child.tag\n",
    "        if child.text != None:\n",
    "            childText = cleanupText(child.text)\n",
    "            if childText != \"\" and childText != \"\" and childText != UNKNOWN:\n",
    "                textDict[key] = childText\n",
    "        textDict.update(getAllTextFields(child,prefix=key))\n",
    "    return(textDict)\n",
    "\n",
    "def readDiaries():\n",
    "    inFileNames = sorted(os.listdir(DATADIR))\n",
    "    dataList = []\n",
    "    for inFileName in inFileNames:\n",
    "        if re.search(FILEPATTERN,inFileName):\n",
    "            root = readGzippedXmlFile(DATADIR+inFileName)\n",
    "            for section in root.findall(QUERYDIARY):\n",
    "                for diaryEntry in section.findall(QUERYDIARYENTRY):\n",
    "                    clientDictData = {CLIENT:fileNameToId(inFileName)}\n",
    "                    diaryEntryDict = getAllTextFields(diaryEntry)\n",
    "                    clientDictData.update(diaryEntryDict)\n",
    "                    dataList.append(clientDictData)\n",
    "    return(dataList)"
   ]
  },
  {
   "cell_type": "code",
   "execution_count": 28,
   "metadata": {},
   "outputs": [],
   "source": [
    "MINIMALDUPLICATEVALUES = 5\n",
    "REMOVED = \"REMOVED\"\n",
    "\n",
    "def countValues(listOfDict):\n",
    "    countsDict = {}\n",
    "    for i in range(0,len(listOfDict)):\n",
    "        for dictKey in listOfDict[i].keys():\n",
    "            if not dictKey in countsDict: countsDict[dictKey] = {}\n",
    "            for token in word_tokenize(listOfDict[i][dictKey]):\n",
    "                if not token in countsDict[dictKey]: countsDict[dictKey][token] = 0\n",
    "                countsDict[dictKey][token] += 1\n",
    "    return(countsDict)\n",
    "\n",
    "def anonymize(listOfDict,countsDict,minimalDuplicateValues=MINIMALDUPLICATEVALUES):\n",
    "    for i in range(0,len(listOfDict)):\n",
    "        for dictKey in listOfDict[i].keys():\n",
    "            tokenizedTextList = word_tokenize(listOfDict[i][dictKey])\n",
    "            for j in range(0,len(tokenizedTextList)):\n",
    "                if countsDict[dictKey][tokenizedTextList[j]] < minimalDuplicateValues and dictKey != CLIENT:\n",
    "                    tokenizedTextList[j] = REMOVED\n",
    "            listOfDict[i][dictKey] = \" \".join(tokenizedTextList)\n",
    "    return(listOfDict)"
   ]
  },
  {
   "cell_type": "code",
   "execution_count": 29,
   "metadata": {},
   "outputs": [
    {
     "name": "stdout",
     "output_type": "stream",
     "text": [
      "Number of entries in list: 122330\n"
     ]
    }
   ],
   "source": [
    "dataList = readDiaries()\n",
    "countsDict = countValues(dataList)\n",
    "dataListAnonymized = anonymize(dataList,countsDict)\n",
    "saveAnswerDataDf(answerDataListToDf(dataListAnonymized),outFileName=OUTFILENAME)\n",
    "print(f\"Number of entries in list: {len(dataListAnonymized)}\")"
   ]
  },
  {
   "cell_type": "code",
   "execution_count": 30,
   "metadata": {},
   "outputs": [
    {
     "data": {
      "image/png": "[encoded data removed]",
      "text/plain": [
       "<Figure size 2160x720 with 1 Axes>"
      ]
     },
     "metadata": {
      "needs_background": "light"
     },
     "output_type": "display_data"
    }
   ],
   "source": [
    "PLOTFILENAME = \"Diary.png\"\n",
    "\n",
    "def showNumberOfDiaryEntriesPerClient():\n",
    "    groups = pd.DataFrame(dataListAnonymized).groupby(CLIENT).groups\n",
    "    x = groups.keys()\n",
    "    y = [len(groups[client]) for client in x]\n",
    "\n",
    "    font = {\"size\":24}\n",
    "    matplotlib.rc(\"font\",**font)\n",
    "    plt.figure(figsize=(30,10))\n",
    "    plt.bar(x,y)\n",
    "    plt.title(\"diary entries per client\")\n",
    "    plt.xlabel(\"client id\")\n",
    "    plt.tick_params(axis='x',which='both',bottom=False,labelbottom=False)\n",
    "    plt.savefig(PLOTFILENAME)\n",
    "    plt.show()\n",
    "    \n",
    "showNumberOfDiaryEntriesPerClient()"
   ]
  },
  {
   "cell_type": "code",
   "execution_count": 31,
   "metadata": {},
   "outputs": [
    {
     "name": "stdout",
     "output_type": "stream",
     "text": [
      "1245 398 854 391\n"
     ]
    }
   ],
   "source": [
    "valueFrequencies = showValueFrequencies(pd.DataFrame(dataListAnonymized))\n",
    "print(sum([valueFrequencies[k] for k in list(valueFrequencies.keys())]),\n",
    "      sum([valueFrequencies[k] for k in list(valueFrequencies.keys()) if k < 10]),\n",
    "      sum([valueFrequencies[k] for k in list(valueFrequencies.keys()) if k < 100]),\n",
    "      sum([valueFrequencies[k] for k in list(valueFrequencies.keys()) if k >= 100]))"
   ]
  },
  {
   "cell_type": "markdown",
   "metadata": {},
   "source": [
    "* 1983-1245 = 738 empty diaries\n",
    "* 398 more diaries with fewer than 10 entries\n",
    "* 854-398 = 456 more diaries with fewer than 100 entries\n",
    "* 391 diaries with 100 entries or more (max 1961)"
   ]
  },
  {
   "cell_type": "code",
   "execution_count": 32,
   "metadata": {},
   "outputs": [
    {
     "data": {
      "text/plain": [
       "{'DiaryEntry': 122330,\n",
       " 'Date': 122330,\n",
       " 'Time': 122330,\n",
       " 'Urge': 122330,\n",
       " 'StandardUnits': 122330,\n",
       " 'Quantity': 82118,\n",
       " 'MeasurementUnitName': 72465,\n",
       " 'Snapshot': 18090,\n",
       " 'Situation': 18090,\n",
       " 'Location': 18090,\n",
       " 'Companion': 18090,\n",
       " 'Activity': 18090,\n",
       " 'Occasion': 18090,\n",
       " 'Thoughts': 18090,\n",
       " 'Feeling': 18090,\n",
       " 'Type': 18090,\n",
       " 'Emotion': 18090,\n",
       " 'Description': 18090,\n",
       " 'Behavior': 18090,\n",
       " 'BehaviorDetails': 18090,\n",
       " 'DayTarget': 9653,\n",
       " 'dayOfWeek': 9653,\n",
       " 'DiaryEntries': 1983,\n",
       " 'Targets': 1983,\n",
       " 'DateLastOpenedByClient': 1983,\n",
       " 'Target': 1379,\n",
       " 'StartDate': 1379,\n",
       " 'WeekTargetQuantity': 1379}"
      ]
     },
     "execution_count": 32,
     "metadata": {},
     "output_type": "execute_result"
    }
   ],
   "source": [
    "QUERYDIARY = \"./Diary\"\n",
    "\n",
    "def showDiaryTextFieldFrequencies():\n",
    "    inFileNames = sorted(os.listdir(DATADIR))\n",
    "    tags= {}\n",
    "    for inFileName in inFileNames:\n",
    "        if re.search(FILEPATTERN,inFileName):\n",
    "            root = readGzippedXmlFile(DATADIR+inFileName)\n",
    "            for section in root.findall(QUERYDIARY):\n",
    "                for tag in section.findall(\".//*\"):\n",
    "                    if not tag.tag in tags: tags[tag.tag] = 0\n",
    "                    tags[tag.tag] += 1\n",
    "    return(tags)\n",
    "\n",
    "tags = showDiaryTextFieldFrequencies()\n",
    "{tag:tags[tag] for tag in sorted(tags.keys(),key=lambda t:tags[t],reverse=True)}"
   ]
  },
  {
   "cell_type": "markdown",
   "metadata": {},
   "source": [
    "## Process tag Messages (emails.csv)"
   ]
  },
  {
   "cell_type": "code",
   "execution_count": 33,
   "metadata": {},
   "outputs": [],
   "source": [
    "DATADIRANONYMIZED = \"../usb/releases/20200320/\"\n",
    "DATESENT = \"DateSent\"\n",
    "OUTFILENAME = \"emails.csv.gz\"\n",
    "QUERYMESSAGES = \"./Messages\"\n",
    "QUERYMESSAGESENTRY = \"./Message\"\n",
    "\n",
    "def readMessages():\n",
    "    inFileNames = sorted(os.listdir(DATADIRANONYMIZED))\n",
    "    dataList = []\n",
    "    for inFileName in inFileNames:\n",
    "        if re.search(FILEPATTERN,inFileName):\n",
    "            root = readGzippedXmlFile(DATADIRANONYMIZED+inFileName)\n",
    "            messages = []\n",
    "            for section in root.findall(QUERYMESSAGES):\n",
    "                for message in section.findall(QUERYMESSAGESENTRY):\n",
    "                    clientDictData = {CLIENT:fileNameToId(inFileName)}\n",
    "                    messagesDict = getAllTextFields(message)\n",
    "                    clientDictData.update(messagesDict)\n",
    "                    messages.append(clientDictData)\n",
    "            dataList.extend([message for message in sorted(messages,key=lambda m:m[DATESENT])])\n",
    "    return(dataList)"
   ]
  },
  {
   "cell_type": "code",
   "execution_count": 34,
   "metadata": {},
   "outputs": [
    {
     "name": "stdout",
     "output_type": "stream",
     "text": [
      "Number of entries in list: 45469\n"
     ]
    }
   ],
   "source": [
    "dataListAnonymized = readMessages()\n",
    "saveAnswerDataDf(answerDataListToDf(dataListAnonymized),outFileName=OUTFILENAME)\n",
    "print(f\"Number of entries in list: {len(dataListAnonymized)}\")"
   ]
  },
  {
   "cell_type": "code",
   "execution_count": 35,
   "metadata": {},
   "outputs": [
    {
     "data": {
      "image/png": "[encoded data removed]",
      "text/plain": [
       "<Figure size 2160x720 with 1 Axes>"
      ]
     },
     "metadata": {
      "needs_background": "light"
     },
     "output_type": "display_data"
    }
   ],
   "source": [
    "PLOTFILENAME = \"Messages.png\"\n",
    "\n",
    "groups = pd.DataFrame(dataListAnonymized).groupby(CLIENT).groups\n",
    "x = groups.keys()\n",
    "y = [len(groups[client]) for client in x]\n",
    "\n",
    "font = {\"size\":24}\n",
    "matplotlib.rc(\"font\",**font)\n",
    "plt.figure(figsize=(30,10))\n",
    "plt.bar(x,y)\n",
    "plt.title(\"messages per client\")\n",
    "plt.xlabel(\"client id\")\n",
    "plt.tick_params(axis='x',which='both',bottom=False,labelbottom=False)\n",
    "plt.savefig(PLOTFILENAME)\n",
    "plt.show()"
   ]
  },
  {
   "cell_type": "code",
   "execution_count": 36,
   "metadata": {},
   "outputs": [],
   "source": [
    "valueFrequencies = showValueFrequencies(pd.DataFrame(dataListAnonymized))"
   ]
  },
  {
   "cell_type": "code",
   "execution_count": 37,
   "metadata": {},
   "outputs": [
    {
     "name": "stdout",
     "output_type": "stream",
     "text": [
      "1982 789 1595 387 240\n"
     ]
    }
   ],
   "source": [
    "print(sum([valueFrequencies[k] for k in list(valueFrequencies.keys())]),\n",
    "      sum([valueFrequencies[k] for k in list(valueFrequencies.keys()) if k < 5]),\n",
    "      sum([valueFrequencies[k] for k in list(valueFrequencies.keys()) if k < 50]),\n",
    "      sum([valueFrequencies[k] for k in list(valueFrequencies.keys()) if k >= 50]),\n",
    "      max([k for k in list(valueFrequencies.keys())]))"
   ]
  },
  {
   "cell_type": "markdown",
   "metadata": {},
   "source": [
    "* 1983-1982 = 1 client with no mails\n",
    "* 789 more clients with fewer than 5 mails\n",
    "* 1595-789 = 806 more clients with fewer than 50 mails\n",
    "* 387 clients with 50 mails or more (max 240)"
   ]
  },
  {
   "cell_type": "code",
   "execution_count": 38,
   "metadata": {},
   "outputs": [
    {
     "data": {
      "text/plain": [
       "{'Message': 45469,\n",
       " 'Sender': 45469,\n",
       " 'Recipients': 45469,\n",
       " 'DateSent': 45469,\n",
       " 'Subject': 45469,\n",
       " 'Body': 45469,\n",
       " 'IsReplied': 45469,\n",
       " 'Location': 45469,\n",
       " 'TreatmentStep': 7017,\n",
       " 'Attachments': 1894}"
      ]
     },
     "execution_count": 38,
     "metadata": {},
     "output_type": "execute_result"
    }
   ],
   "source": [
    "QUERYMESSAGES = \"./Messages\"\n",
    "\n",
    "def showMessageTextFieldFrequencies():\n",
    "    inFileNames = sorted(os.listdir(DATADIRANONYMIZED))\n",
    "    tags= {}\n",
    "    for inFileName in inFileNames:\n",
    "        if re.search(FILEPATTERN,inFileName):\n",
    "            root = readGzippedXmlFile(DATADIRANONYMIZED+inFileName)\n",
    "            for section in root.findall(QUERYMESSAGES):\n",
    "                for tag in section.findall(\".//*\"):\n",
    "                    if not tag.tag in tags: tags[tag.tag] = 0\n",
    "                    tags[tag.tag] += 1\n",
    "    return(tags)\n",
    "\n",
    "tags = showMessageTextFieldFrequencies()\n",
    "{tag:tags[tag] for tag in sorted(tags.keys(),key=lambda t:tags[t],reverse=True)}"
   ]
  },
  {
   "cell_type": "code",
   "execution_count": null,
   "metadata": {},
   "outputs": [],
   "source": []
  }
 ],
 "metadata": {
  "kernelspec": {
   "display_name": "Python 3",
   "language": "python",
   "name": "python3"
  },
  "language_info": {
   "codemirror_mode": {
    "name": "ipython",
    "version": 3
   },
   "file_extension": ".py",
   "mimetype": "text/x-python",
   "name": "python",
   "nbconvert_exporter": "python",
   "pygments_lexer": "ipython3",
   "version": "3.6.11"
  }
 },
 "nbformat": 4,
 "nbformat_minor": 4
}
