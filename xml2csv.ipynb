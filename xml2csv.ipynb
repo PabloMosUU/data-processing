{
 "cells": [
  {
   "cell_type": "markdown",
   "metadata": {},
   "source": [
    "# Convert Tactus xml files to csv files"
   ]
  },
  {
   "cell_type": "code",
   "execution_count": 1,
   "metadata": {},
   "outputs": [],
   "source": [
    "import gzip\n",
    "import matplotlib.pyplot as plt\n",
    "import os\n",
    "import pandas as pd\n",
    "import re\n",
    "import xml.etree.ElementTree as ET"
   ]
  },
  {
   "cell_type": "code",
   "execution_count": 2,
   "metadata": {},
   "outputs": [],
   "source": [
    "CLIENT = \"client\"\n",
    "COUNSELOR = \"counselor\"\n",
    "DATADIR = \"../usb/tmp/20190917/\"\n",
    "FILEPATTERN = \"AdB.*xml.gz\""
   ]
  },
  {
   "cell_type": "markdown",
   "metadata": {},
   "source": [
    "## Process tag AssignedCounselor"
   ]
  },
  {
   "cell_type": "code",
   "execution_count": 3,
   "metadata": {},
   "outputs": [],
   "source": [
    "def dictToString(data):\n",
    "    string = \"\"\n",
    "    for key in sorted(data.keys()):\n",
    "        string += key+\":\"+data[key]+\" \"\n",
    "    return(string)\n",
    "\n",
    "def fileNameToId(fileName):\n",
    "    return(fileName.split(\".\")[0])\n",
    "\n",
    "def readGzippedXmlFile(inFileName):\n",
    "    inFile = gzip.open(inFileName)\n",
    "    inFileContent = inFile.read()\n",
    "    inFile.close()\n",
    "    root = ET.fromstring(inFileContent)\n",
    "    return(root)"
   ]
  },
  {
   "cell_type": "code",
   "execution_count": 4,
   "metadata": {},
   "outputs": [],
   "source": [
    "COUNSELORQUERY = \"./AssignedCounselor\"\n",
    "OUTFILENAME = \"AssignedCounselor.csv\"\n",
    "\n",
    "inFileNames = sorted(os.listdir(DATADIR))\n",
    "clients = {}\n",
    "counselors = {\"\":0}\n",
    "for inFileName in inFileNames:\n",
    "    if re.search(FILEPATTERN,inFileName):\n",
    "        root = readGzippedXmlFile(DATADIR+inFileName)\n",
    "        for counselor in root.findall(COUNSELORQUERY):\n",
    "            counselorData = {}\n",
    "            for i in range(0,len(counselor)):\n",
    "                try:\n",
    "                    counselorData[counselor[i].tag.strip()] = counselor[i].text.strip()\n",
    "                except: pass\n",
    "        counselorString = dictToString(counselorData)\n",
    "        if not counselorString in counselors: counselors[counselorString] = len(counselors)\n",
    "        clients[fileNameToId(inFileName)] = counselors[counselorString]"
   ]
  },
  {
   "cell_type": "code",
   "execution_count": 5,
   "metadata": {},
   "outputs": [],
   "source": [
    "counselorsDf = pd.DataFrame(clients,index=[0]).T.rename(columns={0:COUNSELOR})\n",
    "counselorsDf.index.name = CLIENT\n",
    "counselorsDf.to_csv(OUTFILENAME)"
   ]
  },
  {
   "cell_type": "code",
   "execution_count": 6,
   "metadata": {},
   "outputs": [
    {
     "data": {
      "image/png": "[encoded data removed]",
      "text/plain": [
       "<Figure size 720x360 with 1 Axes>"
      ]
     },
     "metadata": {
      "needs_background": "light"
     },
     "output_type": "display_data"
    }
   ],
   "source": [
    "CODEEMPTY = 0\n",
    "CODENOCOUNSELOR = 3 \n",
    "\n",
    "counselorGroups = counselorsDf.groupby(COUNSELOR).groups\n",
    "x = [c for c in sorted(counselorGroups.keys()) if c != CODEEMPTY and c != CODENOCOUNSELOR] \n",
    "y = [len(counselorGroups[g]) for g in x]\n",
    "plt.figure(figsize=(10,5))\n",
    "plt.bar(x,y)\n",
    "plt.xlabel(\"counselor id\")\n",
    "plt.title(\"Number of clients per counselor\")\n",
    "plt.show()"
   ]
  },
  {
   "cell_type": "code",
   "execution_count": 7,
   "metadata": {},
   "outputs": [
    {
     "data": {
      "text/plain": [
       "{0: '',\n",
       " 3: 'Email:alcoholdebaas@tactus.nl FirstName:Geen LastName:Hulpverlener '}"
      ]
     },
     "execution_count": 7,
     "metadata": {},
     "output_type": "execute_result"
    }
   ],
   "source": [
    "{counselors[c]:c for c in counselors if counselors[c] == CODEEMPTY or counselors[c] == CODENOCOUNSELOR} "
   ]
  },
  {
   "cell_type": "code",
   "execution_count": null,
   "metadata": {},
   "outputs": [],
   "source": []
  }
 ],
 "metadata": {
  "kernelspec": {
   "display_name": "Python 3",
   "language": "python",
   "name": "python3"
  },
  "language_info": {
   "codemirror_mode": {
    "name": "ipython",
    "version": 3
   },
   "file_extension": ".py",
   "mimetype": "text/x-python",
   "name": "python",
   "nbconvert_exporter": "python",
   "pygments_lexer": "ipython3",
   "version": "3.7.3"
  }
 },
 "nbformat": 4,
 "nbformat_minor": 4
}
