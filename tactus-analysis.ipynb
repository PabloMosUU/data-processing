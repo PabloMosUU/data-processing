{
 "cells": [
  {
   "cell_type": "markdown",
   "metadata": {},
   "source": [
    "# Tactus analysis\n",
    "\n",
    "Analysis of Tactus AdB data for data paper (2020)."
   ]
  },
  {
   "cell_type": "code",
   "execution_count": 1,
   "metadata": {},
   "outputs": [],
   "source": [
    "import os\n",
    "import re\n",
    "import sys\n",
    "import xml.etree.ElementTree as ET\n",
    "sys.path.insert(1, '/home/erikt/project/e-mental-health/data-processing')\n",
    "import tactus2table"
   ]
  },
  {
   "cell_type": "code",
   "execution_count": 2,
   "metadata": {},
   "outputs": [],
   "source": [
    "DATADIR = \"/home/erikt/projects/e-mental-health/usb/tmp/20190917/\"\n",
    "INTAKE = \"Intake\""
   ]
  },
  {
   "cell_type": "markdown",
   "metadata": {},
   "source": [
    "## 1. How many clients have a therapy start date in their profile?"
   ]
  },
  {
   "cell_type": "code",
   "execution_count": 3,
   "metadata": {},
   "outputs": [
    {
     "data": {
      "text/plain": [
       "{'STARTDATE': 923, 'NONE': 1060}"
      ]
     },
     "execution_count": 3,
     "metadata": {},
     "output_type": "execute_result"
    }
   ],
   "source": [
    "FILEPATTERN = r\"^A.*z$\"\n",
    "QUERY1 = \"./Treatment/StartDate\"\n",
    "STARTDATE = \"STARTDATE\"\n",
    "NONE = \"NONE\"\n",
    "\n",
    "def query1(root,query):\n",
    "    try: text = root.findall(query)[0].text\n",
    "    except: text = None\n",
    "    if text is None: text = NONE\n",
    "    elif text.strip() == \"\": text = NONE \n",
    "    else: text = STARTDATE\n",
    "    return(text)\n",
    "\n",
    "files = sorted(os.listdir(DATADIR))\n",
    "\n",
    "data = {}\n",
    "for inFileName in files:\n",
    "    if re.search(FILEPATTERN,inFileName):\n",
    "        root = tactus2table.readRootFromFile(DATADIR+inFileName)\n",
    "        text1 = query1(root,QUERY1)\n",
    "        if text1 in data: data[text1] += 1\n",
    "        else: data[text1] = 1\n",
    "data"
   ]
  },
  {
   "cell_type": "markdown",
   "metadata": {},
   "source": [
    "## 2. How many clients sent an email to the counselor?"
   ]
  },
  {
   "cell_type": "code",
   "execution_count": 4,
   "metadata": {},
   "outputs": [
    {
     "data": {
      "text/plain": [
       "{'CLIENTMAIL': 1125, 'NOCLIENTMAIL': 858}"
      ]
     },
     "execution_count": 4,
     "metadata": {},
     "output_type": "execute_result"
    }
   ],
   "source": [
    "FILEPATTERN = r\"^A.*z$\"\n",
    "QUERY2 = \"./Messages/Message/Sender\"\n",
    "CLIENT = \"CLIENT\"\n",
    "CLIENTMAIL = \"CLIENTMAIL\"\n",
    "NOCLIENTMAIL = \"NOCLIENTMAIL\"\n",
    "\n",
    "def query2(root,query):\n",
    "    clientMail = NOCLIENTMAIL\n",
    "    for node in root.findall(query): \n",
    "        text = node.text.strip()\n",
    "        if text == CLIENT:\n",
    "            clientMail = CLIENTMAIL\n",
    "            break\n",
    "    return(clientMail)\n",
    "\n",
    "files = sorted(os.listdir(DATADIR))\n",
    "\n",
    "data = {CLIENTMAIL:0,NOCLIENTMAIL:0}\n",
    "for inFileName in files:\n",
    "    if re.search(FILEPATTERN,inFileName):\n",
    "        root = tactus2table.readRootFromFile(DATADIR+inFileName)\n",
    "        text2 = query2(root,QUERY2)\n",
    "        data[text2] += 1\n",
    "data"
   ]
  },
  {
   "cell_type": "markdown",
   "metadata": {},
   "source": [
    "## 3. How many of the intake forms have the title Vragenlijst?"
   ]
  },
  {
   "cell_type": "code",
   "execution_count": 5,
   "metadata": {},
   "outputs": [
    {
     "data": {
      "text/plain": [
       "{'Intake': 1937, 'Vragenlijst': 46}"
      ]
     },
     "execution_count": 5,
     "metadata": {},
     "output_type": "execute_result"
    }
   ],
   "source": [
    "FILEPATTERN = r\"^A.*z$\"\n",
    "QUERY3 = \"./Intake/Questionnaire/Title\"\n",
    "\n",
    "def query3(root,query):\n",
    "    try: text = root.findall(query)[0].text.strip()\n",
    "    except: text = NONE\n",
    "    return(text)\n",
    "\n",
    "files = sorted(os.listdir(DATADIR))\n",
    "\n",
    "data = {}\n",
    "for inFileName in files:\n",
    "    if re.search(FILEPATTERN,inFileName):\n",
    "        root = tactus2table.readRootFromFile(DATADIR+inFileName)\n",
    "        text3 = query3(root,QUERY3)\n",
    "        if text3 in data: data[text3] += 1\n",
    "        else: data[text3] = 1\n",
    "data"
   ]
  },
  {
   "cell_type": "markdown",
   "metadata": {},
   "source": [
    "## 4. Combination of 1, 2 and 3"
   ]
  },
  {
   "cell_type": "code",
   "execution_count": 6,
   "metadata": {},
   "outputs": [
    {
     "data": {
      "text/plain": [
       "{'STARTDATE CLIENTMAIL Intake': 770,\n",
       " 'NONE NOCLIENTMAIL Intake': 716,\n",
       " 'STARTDATE NOCLIENTMAIL Intake': 131,\n",
       " 'NONE CLIENTMAIL Intake': 320,\n",
       " 'NONE CLIENTMAIL Vragenlijst': 14,\n",
       " 'NONE NOCLIENTMAIL Vragenlijst': 10,\n",
       " 'STARTDATE CLIENTMAIL Vragenlijst': 21,\n",
       " 'STARTDATE NOCLIENTMAIL Vragenlijst': 1}"
      ]
     },
     "execution_count": 6,
     "metadata": {},
     "output_type": "execute_result"
    }
   ],
   "source": [
    "data = {}\n",
    "for inFileName in files:\n",
    "    if re.search(FILEPATTERN,inFileName):\n",
    "        root = tactus2table.readRootFromFile(DATADIR+inFileName)\n",
    "        text1 = query1(root,QUERY1)\n",
    "        text2 = query2(root,QUERY2)\n",
    "        text3 = query3(root,QUERY3)\n",
    "        text4 = \" \".join([text1,text2,text3])\n",
    "        if text4 in data: data[text4] += 1\n",
    "        else: data[text4] = 1\n",
    "data"
   ]
  },
  {
   "cell_type": "code",
   "execution_count": null,
   "metadata": {},
   "outputs": [],
   "source": []
  }
 ],
 "metadata": {
  "kernelspec": {
   "display_name": "Python 3",
   "language": "python",
   "name": "python3"
  },
  "language_info": {
   "codemirror_mode": {
    "name": "ipython",
    "version": 3
   },
   "file_extension": ".py",
   "mimetype": "text/x-python",
   "name": "python",
   "nbconvert_exporter": "python",
   "pygments_lexer": "ipython3",
   "version": "3.7.3"
  }
 },
 "nbformat": 4,
 "nbformat_minor": 4
}
