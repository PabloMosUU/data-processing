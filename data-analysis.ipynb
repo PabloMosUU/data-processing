{
 "cells": [
  {
   "cell_type": "code",
   "execution_count": null,
   "metadata": {
    "collapsed": true
   },
   "outputs": [],
   "source": [
    "import csv\n",
    "import sys\n",
    "\n",
    "ASFILE = \"../usb/ovk/data/eriktks/AS/text/AS-mails.csv\"\n",
    "ESFILE = \"../usb/ovk/data/eriktks/ES/text/ES-mails.csv\"\n",
    "SEPARATOR = \",\"\n",
    "CLIENT = \"client-id\"\n",
    "COUNSELOR = \"counselor\""
   ]
  },
  {
   "cell_type": "code",
   "execution_count": null,
   "metadata": {
    "collapsed": true
   },
   "outputs": [],
   "source": [
    "OVKMETAFILE = \"../usb/ovk/data/eriktks/spss/opve.csv\"\n",
    "IDFIELDNAME = \"onderzoeksnummer1\"\n",
    "EXITFIELDNAME = \"Redenstoppen\"\n",
    "\n",
    "def readMetaData():\n",
    "    exitData = {}\n",
    "    cesdDiff = {}\n",
    "    mhcDiff = {}\n",
    "\n",
    "    try: inFile = open(OVKMETAFILE,\"r\")\n",
    "    except Exception as e: sys.exit(\"cannot read file \"+OVKMETAFILE+\": \"+str(e))\n",
    "    csvReader = csv.DictReader(inFile,delimiter=SEPARATOR)\n",
    "    for row in csvReader: \n",
    "        exitData[row[IDFIELDNAME]] = row[EXITFIELDNAME].strip()\n",
    "        if row[\"CESD_TOT_t0\"] != \"NA\" and row[\"CESD_TOT_t1\"] != \"NA\": \n",
    "            cesdDiff[row[IDFIELDNAME]] = int(row[\"CESD_TOT_t1\"])-int(row[\"CESD_TOT_t0\"])\n",
    "        if row[\"MHCtot_t0\"] != \"NA\" and row[\"MHCtot_t1\"] != \"NA\": \n",
    "            mhcDiff[row[IDFIELDNAME]] = float(row[\"MHCtot_t1\"])-float(row[\"MHCtot_t0\"])\n",
    "    inFile.close()\n",
    "    return(exitData,cesdDiff,mhcDiff)\n",
    "\n",
    "exitData,cesdDiff,mhcDiff = readMetaData()"
   ]
  },
  {
   "cell_type": "code",
   "execution_count": null,
   "metadata": {},
   "outputs": [],
   "source": [
    "def readData():\n",
    "    clientMails = {\"unknown\":{},\"finished\":{},\"stopped\":{}}\n",
    "    counselorMails = {\"unknown\":{},\"finished\":{},\"stopped\":{}}\n",
    "    counselorClients = {\"unknown\":{},\"finished\":{},\"stopped\":{}}\n",
    "    for inFileName in [ASFILE,ESFILE]:\n",
    "        try: inFile = open(inFileName,\"r\")\n",
    "        except Exception as e: sys.exit(str(e)+\" Cannot read file \"+inFileName+\": \"+str(e))\n",
    "        csvReader = csv.DictReader(inFile,delimiter=SEPARATOR)\n",
    "        for row in csvReader:\n",
    "            try:\n",
    "                client = row[CLIENT]\n",
    "                counselor = row[COUNSELOR]\n",
    "                if not client in exitData: treatmentStatus = \"unknown\"\n",
    "                elif exitData[client] == \"\": treatmentStatus = \"finished\"\n",
    "                else: treatmentStatus = \"stopped\"\n",
    "                if not client in clientMails[treatmentStatus]: clientMails[treatmentStatus][client] = 0\n",
    "                clientMails[treatmentStatus][client] += 1\n",
    "                if not counselor in counselorMails[treatmentStatus]: counselorMails[treatmentStatus][counselor] = 0\n",
    "                counselorMails[treatmentStatus][counselor] += 1\n",
    "                if not counselor in counselorClients[treatmentStatus]: counselorClients[treatmentStatus][counselor] = {}\n",
    "                if not client in counselorClients[treatmentStatus][counselor]: \n",
    "                    counselorClients[treatmentStatus][counselor][client] = True\n",
    "            except Exception as e: sys.exit(str(e)+\" Unexpected row in file \"+inFileName+\": \"+str(row))\n",
    "        inFile.close()\n",
    "    return(clientMails,counselorMails,counselorClients)\n",
    "\n",
    "def fillEmptySpots(myDict,filler):\n",
    "    for ts1 in myDict:\n",
    "        for key in myDict[ts]:\n",
    "            for ts2 in myDict:\n",
    "                if ts2 != ts1 and not key in myDict[ts2]:\n",
    "                    myDict[ts2][key] = filler\n",
    "    return(myDict)\n",
    "\n",
    "clientMails,counselorMails,counselorClients = readData()\n",
    "counselorMails = fillEmptySpots(counselorMails,0)\n",
    "counselorClients = fillEmptySpots(counselorClients,{})"
   ]
  },
  {
   "cell_type": "code",
   "execution_count": null,
   "metadata": {},
   "outputs": [],
   "source": [
    "import numpy as np\n",
    "import matplotlib.pyplot as plt\n",
    "\n",
    "COLORS = { \"unknown\":\"grey\",\"finished\":\"blue\",\"stopped\":\"red\"}\n",
    "\n",
    "def computeAverage(myDict):\n",
    "    myValues = {}\n",
    "    for key1 in myDict:\n",
    "        for key2 in myDict[key1]:\n",
    "            if not key2 in myValues: myValues[key2] = myDict[key1][key2]\n",
    "            else: myValues[key2] += myDict[key1][key2]\n",
    "    return(np.average(list(myValues.values())))\n",
    "\n",
    "def computeMinMax(myDict):\n",
    "    myMin = None\n",
    "    myMax = None\n",
    "    for key in myDict:\n",
    "        if len(myDict[key]) > 0:\n",
    "            minList = min(myDict[key].keys())\n",
    "            maxList = max(myDict[key].keys())\n",
    "            if myMin == None or myMin > minList: myMin = minList\n",
    "            if myMax == None or myMax < maxList: myMax = maxList\n",
    "    return(myMin,myMax)"
   ]
  },
  {
   "cell_type": "code",
   "execution_count": null,
   "metadata": {},
   "outputs": [],
   "source": [
    "plt.figure(figsize=(15,8))\n",
    "plt.subplot(2,1,1)\n",
    "nbrOfClients = np.sum([len(clientMails[x]) for x in clientMails])\n",
    "average = computeAverage(clientMails)\n",
    "plt.title(\"OVK data: Number of mails per client: \"+str(nbrOfClients)+\" clients; \"+str(len(clientMails[\"stopped\"]))+\n",
    "          \" stopped; average number of mails per client: \"+str(int(average)))\n",
    "for ts in clientMails:\n",
    "    plt.bar([int(x) for x in clientMails[ts].keys()],[x for x in clientMails[ts].values()],color=COLORS[ts])\n",
    "myMin,myMax = computeMinMax(clientMails)\n",
    "plt.plot((int(myMin),int(myMax)),(average,average),\"y\")\n",
    "\n",
    "plt.subplot(2,2,3)\n",
    "average = computeAverage(counselorMails)\n",
    "plt.title(\"Mails per counselor (average: \"+str(int(average))+\")\")\n",
    "countsUnknown = [x for x in counselorMails[\"unknown\"].values()]\n",
    "countsStopped = [x for x in counselorMails[\"stopped\"].values()]\n",
    "countsFinished = [x for x in counselorMails[\"finished\"].values()]\n",
    "countsUnknownStopped = np.add(countsUnknown,countsStopped)\n",
    "plt.bar([x for x in range(1,len(countsUnknown)+1)],countsUnknown,color=COLORS[\"unknown\"])\n",
    "plt.bar([x for x in range(1,len(countsStopped)+1)],countsStopped,color=COLORS[\"stopped\"],bottom=countsUnknown)\n",
    "plt.bar([x for x in range(1,len(countsFinished)+1)],countsFinished,color=COLORS[\"finished\"],bottom=countsUnknownStopped)\n",
    "#plt.bar([i for i in range(0,len(counselorMails[\"finished\"]))],[x for x in counselorMails[\"finished\"].values()])\n",
    "plt.plot((0.5,[len(counselorMails[x]) for x in counselorMails][0]+0.5),(average,average),\"y\")\n",
    "\n",
    "plt.subplot(2,2,4)\n",
    "countsUnknown = [len(x) for x in counselorClients[\"unknown\"].values()]\n",
    "countsStopped = [len(x) for x in counselorClients[\"stopped\"].values()]\n",
    "countsFinished = [len(x) for x in counselorClients[\"finished\"].values()]\n",
    "countsUnknownStopped = np.add(countsUnknown,countsStopped)\n",
    "average = np.average(np.add(countsUnknown,np.add(countsStopped,countsFinished)))\n",
    "plt.title(\"Clients per counselor (average: \"+str(int(average))+\")\")\n",
    "plt.bar([x for x in range(1,len(countsUnknown)+1)],countsUnknown,color=COLORS[\"unknown\"])\n",
    "plt.bar([x for x in range(1,len(countsStopped)+1)],countsStopped,color=COLORS[\"stopped\"],bottom=countsUnknown)\n",
    "plt.bar([x for x in range(1,len(countsFinished)+1)],countsFinished,color=COLORS[\"finished\"],bottom=countsUnknownStopped)\n",
    "plt.plot((0.5,[len(counselorClients[x]) for x in counselorClients][0]+0.5),(average,average),\"y\")\n",
    "\n",
    "plt.show()"
   ]
  },
  {
   "cell_type": "code",
   "execution_count": null,
   "metadata": {
    "collapsed": true
   },
   "outputs": [],
   "source": []
  }
 ],
 "metadata": {
  "kernelspec": {
   "display_name": "Python 3",
   "language": "python",
   "name": "python3"
  },
  "language_info": {
   "codemirror_mode": {
    "name": "ipython",
    "version": 3
   },
   "file_extension": ".py",
   "mimetype": "text/x-python",
   "name": "python",
   "nbconvert_exporter": "python",
   "pygments_lexer": "ipython3",
   "version": "3.6.1"
  }
 },
 "nbformat": 4,
 "nbformat_minor": 2
}
