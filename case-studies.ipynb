{
 "cells": [
  {
   "cell_type": "markdown",
   "metadata": {},
   "source": [
    "# Case studies"
   ]
  },
  {
   "cell_type": "code",
   "execution_count": 89,
   "metadata": {},
   "outputs": [],
   "source": [
    "import numpy as np\n",
    "import pandas as pd\n",
    "import re"
   ]
  },
  {
   "cell_type": "code",
   "execution_count": 52,
   "metadata": {},
   "outputs": [],
   "source": [
    "DATADIR = \"../usb/releases/20201018/\"\n",
    "DROPOUTDATADIR = \"../usb/releases/20200302/\"\n",
    "CLIENTSFILE = \"clients.csv.gz\"\n",
    "DROPOUTFILE = \"dropout.csv.gz\"\n",
    "ANSWERID = \"answerId\"\n",
    "ANSWERTEXT = \"answerText\"\n",
    "CLIENT = \"client\"\n",
    "CLIENTID = \"clientID\"\n",
    "DROPOUT = \"dropout\"\n",
    "QUESTIONNUMBER = \"questionNumber\"\n",
    "COMPLETERCODE = \"2\"\n",
    "DROPOUTCODE = \"1\""
   ]
  },
  {
   "cell_type": "code",
   "execution_count": 13,
   "metadata": {},
   "outputs": [],
   "source": [
    "dropout = pd.read_csv(DROPOUTDATADIR+DROPOUTFILE)\n",
    "dropouts = list(dropout[dropout[DROPOUT]==DROPOUTCODE][CLIENTID])\n",
    "completers = list(dropout[dropout[DROPOUT]==COMPLETERCODE][CLIENTID])"
   ]
  },
  {
   "cell_type": "code",
   "execution_count": 210,
   "metadata": {},
   "outputs": [
    {
     "data": {
      "text/plain": [
       "(653, 359)"
      ]
     },
     "execution_count": 210,
     "metadata": {},
     "output_type": "execute_result"
    }
   ],
   "source": [
    "len(dropouts),len(completers)"
   ]
  },
  {
   "cell_type": "markdown",
   "metadata": {},
   "source": [
    "## Case study 1: compare metadata of dropouts and completers"
   ]
  },
  {
   "cell_type": "code",
   "execution_count": 185,
   "metadata": {},
   "outputs": [],
   "source": [
    "GENDER = \"geslacht\"\n",
    "AGE = \"leeftijd\"\n",
    "EDUCATION = \"opleidng\"\n",
    "YESNO = \"YESNO\"\n",
    "YESNOIDS = [\"dagritme\",\"dsm2\",\"dsm3\",\"dsm4\",\"dsm5\",\"dsm6\",\"dsm7\",\"dsm8\",\"dsm9\",\"dsm11\",\n",
    "            \"medicijn\",\"drugs\",\"eetdrang\",\"insult\",\"psych\"]\n",
    "COLUMNS = [GENDER,EDUCATION,DAY1,AGE]+YESNOIDS\n",
    "DAY1 = \"dag1\"\n",
    "CONVERSION = { GENDER: {WOMAN:0,MAN:1},\n",
    "               EDUCATION: {\"Basisschool\":0,\"LBO/MAVO\":1,\"MBO\":2,\"HAVO/VWO\":3,\"HBO\":4,\"WO\":5,\"REMOVED\":np.nan},\n",
    "               YESNO: {\"Nee\":0,\"Ja\":1}}\n",
    "MAN = \"Man\"\n",
    "WOMAN = \"Vrouw\"\n",
    "\n",
    "def make_numeric(df):\n",
    "    row_nbrs = {}\n",
    "    data_table = []\n",
    "    for i in range(0,len(df)):\n",
    "        row = df.iloc[i]\n",
    "        client = row[CLIENT]\n",
    "        if not client in row_nbrs:\n",
    "            row_nbrs[client] = len(data_table)\n",
    "            data_table.append((4+len(YESNOIDS))*[np.nan])\n",
    "        if row[ANSWERID] == GENDER or row[ANSWERID] == GENDER+\"0\" or row[ANSWERID] == GENDER+\"t0\":\n",
    "            data_table[row_nbrs[client]][0] = CONVERSION[GENDER][row[ANSWERTEXT]]\n",
    "        if row[ANSWERID] == EDUCATION  or row[ANSWERID] == EDUCATION+\"0\" or row[ANSWERID] == EDUCATION+\"t0\":\n",
    "            data_table[row_nbrs[client]][1] = CONVERSION[EDUCATION][row[ANSWERTEXT]]\n",
    "        if row[ANSWERID] == DAY1:\n",
    "            try:\n",
    "                number_word = row[ANSWERTEXT].split(\":\")[1].split()[0]\n",
    "                if number_word == \"Niet\": number_word = \"0\"\n",
    "                data_table[row_nbrs[client]][2] = int(number_word)\n",
    "            except: pass\n",
    "        if row[ANSWERID] == AGE or row[ANSWERID] == AGE+\"0\" or row[ANSWERID] == AGE+\"t0\":\n",
    "            try:\n",
    "                data_table[row_nbrs[client]][3] = int(re.sub(\"\\D\",\"\",row[ANSWERTEXT]))\n",
    "            except: pass\n",
    "        for j in range(0,len(YESNOIDS)):\n",
    "            if row[ANSWERID] == YESNOIDS[j] or row[ANSWERID] == YESNOIDS[j]+\"0\" or row[ANSWERID] == YESNOIDS[j]+\"t0\":\n",
    "                data_table[row_nbrs[client]][4+j] = CONVERSION[YESNO][row[ANSWERTEXT]]\n",
    "\n",
    "    return(data_table)"
   ]
  },
  {
   "cell_type": "code",
   "execution_count": 155,
   "metadata": {},
   "outputs": [],
   "source": [
    "client_data = pd.read_csv(DATADIR+CLIENTSFILE)\n",
    "dropout_data = client_data[client_data[CLIENT].isin(dropouts)]\n",
    "completer_data = client_data[client_data[CLIENT].isin(completers)]"
   ]
  },
  {
   "cell_type": "code",
   "execution_count": 138,
   "metadata": {},
   "outputs": [
    {
     "name": "stdout",
     "output_type": "stream",
     "text": [
      "geslacht ['Vrouw', 'Man']\n",
      "dagritme ['Ja', 'Nee']\n",
      "verhaal [nan, 'REMOVED']\n",
      "dsm1 ['Nee', 'Ja']\n",
      "dsm2 ['Ja', 'Nee']\n",
      "dsm3 ['Ja', 'Nee']\n",
      "dsm4 ['Ja', 'Nee']\n",
      "dsm5 ['Nee', 'Ja']\n",
      "dsm6 ['Nee', 'Ja']\n",
      "dsm7 ['Nee', 'Ja']\n",
      "dsm8 ['Ja', 'Nee']\n",
      "dsm9 ['Nee', 'Ja']\n",
      "dsm10 ['Nee', 'Ja']\n",
      "dsm11 ['Nee', 'Ja']\n",
      "medicijn ['Nee', 'Ja']\n",
      "medi3 [nan, 'REMOVED']\n",
      "medi4 [nan, 'REMOVED']\n",
      "medi5 [nan, 'REMOVED']\n",
      "medivr3 [nan, 'REMOVED']\n",
      "medivr5 [nan, 'REMOVED']\n",
      "medidos5 [nan, 'REMOVED']\n",
      "drugs ['Nee', 'Ja']\n",
      "drugs2 [nan, 'REMOVED']\n",
      "drugs3 [nan, 'REMOVED']\n",
      "drugs4 [nan, 'REMOVED']\n",
      "drugs5 [nan, 'REMOVED']\n",
      "drugsvk3 [nan, 'REMOVED']\n",
      "drugsvk4 [nan, 'REMOVED']\n",
      "drugsvk5 [nan, 'REMOVED']\n",
      "drugsln2 [nan, 'REMOVED']\n",
      "drugsln3 [nan, 'REMOVED']\n",
      "drugsln4 [nan, 'REMOVED']\n",
      "drugsln5 [nan, 'REMOVED']\n",
      "eetdrang ['Nee', 'Ja']\n",
      "insult ['Nee', 'Ja']\n",
      "delirium ['Nee', 'Ja']\n",
      "psych ['Nee', 'Ja']\n",
      "psywaar3 [nan, 'REMOVED']\n",
      "psywaar4 [nan, 'REMOVED']\n",
      "psywaar5 [nan, 'REMOVED']\n",
      "psyvoor4 [nan, 'REMOVED']\n",
      "psyvoor5 [nan, 'REMOVED']\n",
      "psytijd3 [nan, 'REMOVED']\n",
      "psytijd4 [nan, 'REMOVED']\n",
      "psytijd5 [nan, 'REMOVED']\n",
      "geslacht0 ['Man', 'Vrouw']\n",
      "kind0 ['Nee', 'Ja']\n",
      "dagritme0 ['Nee', 'Ja']\n",
      "verhaal0 [nan, 'REMOVED']\n",
      "dsm20 ['Ja', 'Nee']\n",
      "dsm30 ['Nee', 'Ja']\n",
      "dsm40 ['Ja', 'Nee']\n",
      "dsm50 ['Nee', 'Ja']\n",
      "dsm60 ['Nee', 'Ja']\n",
      "dsm70 ['Nee', 'Ja']\n",
      "dsm80 ['Nee', 'Ja']\n",
      "dsm90 ['Nee', 'Ja']\n",
      "dsm100 ['Nee', 'Ja']\n",
      "dsm110 ['Nee', 'Ja']\n",
      "tabak0 ['Ja', 'Nee']\n",
      "canna0 ['Nee', 'Ja']\n",
      "coca0 ['Nee', 'Ja']\n",
      "speed0 ['Nee', 'Ja']\n",
      "xtc0 ['Nee', 'Ja']\n",
      "ghb0 ['Nee', 'Ja']\n",
      "ghbjr0 [nan, '0 jaren']\n",
      "opiat0 ['Nee', 'Ja']\n",
      "slaap0 ['Nee', 'Ja']\n",
      "gok0 ['Nee', 'Ja']\n",
      "speeddg0 [nan, 'REMOVED']\n",
      "speedhv0 [nan, '1 gram']\n",
      "ghbdg0 [nan, 'REMOVED']\n",
      "ghbhv0 [nan, 'REMOVED']\n",
      "opiatdg0 [nan, 'REMOVED']\n",
      "opiathv0 [nan, 'REMOVED']\n",
      "drugsdg0 [nan, 'REMOVED']\n",
      "drugshv0 [nan, 'REMOVED']\n",
      "gokhv0 [nan, 'REMOVED']\n",
      "eetdrang0 ['Nee', 'Ja']\n",
      "tabak0h ['1', '0']\n",
      "canna0h ['0', '1']\n",
      "coca0h ['0', '1']\n",
      "speed0h ['0', '1']\n",
      "xtc0h ['0', '1']\n",
      "ghb0h ['0', '1']\n",
      "opiat0h ['0', '1']\n",
      "drugs0h ['0', '1']\n",
      "slaap0h ['0', '1']\n",
      "gok0h ['0', '1']\n",
      "medi20 [nan, 'REMOVED']\n",
      "medi30 [nan, 'REMOVED']\n",
      "medi40 [nan, 'REMOVED']\n",
      "medi50 [nan, 'REMOVED']\n",
      "medivr50 [nan, 'REMOVED']\n",
      "medidos50 [nan, 'REMOVED']\n",
      "ltgeslacht1 ['1', '2']\n",
      "goTo2 ['24', '-1']\n",
      "behversl0 ['Nee', 'Ja']\n",
      "insult0 ['Nee', 'Ja']\n",
      "delirium0 ['Nee', 'Ja']\n",
      "psych0 ['Nee', 'Ja']\n",
      "psywaar20 [nan, 'REMOVED']\n",
      "psywaar30 [nan, 'REMOVED']\n",
      "psywaar40 [nan, 'REMOVED']\n",
      "psywaar50 [nan, 'REMOVED']\n",
      "psyvoor20 [nan, 'REMOVED']\n",
      "psyvoor30 [nan, 'REMOVED']\n",
      "psyvoor40 [nan, 'REMOVED']\n",
      "psyvoor50 [nan, 'REMOVED']\n",
      "psytijd20 [nan, 'REMOVED']\n",
      "psytijd30 [nan, 'REMOVED']\n",
      "psytijd40 [nan, 'REMOVED']\n",
      "psytijd50 [nan, 'REMOVED']\n",
      "suicide10 ['Nee', 'Ja']\n",
      "halluci0 ['Nee', 'Ja']\n",
      "wanen0 ['Nee', 'Ja']\n",
      "eq10 ['Ik heb geen problemen met lopen', 'Ik heb enige problemen met lopen']\n",
      "benniet0 ['Ja', 'Nee']\n",
      "smsnr0 ['REMOVED', nan]\n",
      "telnr0 [nan, 'REMOVED']\n",
      "geslachtt0 ['Vrouw', 'Man']\n",
      "dagritmet0 ['Ja', 'Nee']\n",
      "dsm1t0 ['Ja', 'Nee']\n",
      "dsm3t0 ['Ja', 'Nee']\n",
      "dsm4t0 ['Ja', 'REMOVED']\n",
      "dsm5t0 ['Nee', 'Ja']\n",
      "dsm6t0 ['Ja', 'Nee']\n",
      "dsm7t0 ['Nee', 'Ja']\n",
      "dsm8t0 ['Nee', 'Ja']\n",
      "dsm9t0 ['Nee', 'Ja']\n",
      "dsm11t0 ['Ja', 'Nee']\n",
      "dag1t0 ['REMOVED', 'dinsdag 14 oktober (Gisteren): 7']\n",
      "dag2t0 ['REMOVED', 'zaterdag 11 oktober: 7']\n",
      "dag4t0 ['REMOVED', 'zaterdag 11 oktober: 6']\n",
      "typischt0 ['Ja, dit is ongeveer evenveel.', 'REMOVED']\n",
      "medicijnt0 ['Nee', 'Ja']\n",
      "medi0t0 [nan, 'REMOVED']\n",
      "medi1t0 [nan, 'REMOVED']\n",
      "medi2t0 [nan, 'REMOVED']\n",
      "medi3t0 [nan, 'REMOVED']\n",
      "medivr0t0 [nan, 'REMOVED']\n",
      "medivr1t0 [nan, 'REMOVED']\n",
      "medivr2t0 [nan, 'REMOVED']\n",
      "medivr3t0 [nan, 'REMOVED']\n",
      "mediln0t0 [nan, 'REMOVED']\n",
      "mediln1t0 [nan, 'REMOVED']\n",
      "mediln2t0 [nan, 'REMOVED']\n",
      "mediln3t0 [nan, 'REMOVED']\n",
      "medidos1t0 [nan, 'REMOVED']\n",
      "medidos2t0 [nan, 'REMOVED']\n",
      "medidos3t0 [nan, 'REMOVED']\n",
      "rodagt0 [nan, 'REMOVED']\n",
      "romaandt0 [nan, 'REMOVED']\n",
      "eetdrangt0 ['Nee', 'Ja']\n",
      "ghqa2t0 ['Helemaal niet', 'REMOVED']\n",
      "ghqc3t0 ['Ongeveer net zo goed als gewoonlijk', 'Minder goed dan gewoonlijk']\n",
      "ghqd6t0 ['Helemaal niet', 'REMOVED']\n",
      "ghqd7t0 ['Zeer zeker niet', 'Ik dacht van niet']\n",
      "hypert0 ['REMOVED', 'Hyperventilatie: helemaal niet']\n",
      "eq1t0 ['Ik heb geen problemen met lopen', 'REMOVED']\n",
      "eq3t0 [nan, 'Ik heb enige problemen met mijn dagelijkse activiteiten']\n",
      "eq4t0 ['Ik heb geen pijn of andere klachten', 'Ik heb enige pijn of andere klachten']\n",
      "eq6t0 ['Ongeveer hetzelfde', 'Slechter']\n",
      "dass7t0 ['Helemaal niet of nooit', 'Een beetje of soms']\n",
      "dass9t0 ['Helemaal niet of nooit', 'Een beetje of soms']\n",
      "stresst0 ['REMOVED', '14']\n",
      "dasstott0 ['REMOVED', '14']\n",
      "maaltdt0 ['REMOVED', '21 maaltijden']\n",
      "psycht0 ['Nee', 'Ja']\n",
      "psytijd0t0 [nan, 'REMOVED']\n",
      "rcq3t0 ['Helemaal mee eens', 'Mee eens']\n",
      "rcq7t0 ['Helemaal mee eens', 'Mee eens']\n",
      "rcq10t0 ['Helemaal mee eens', 'Mee eens']\n",
      "rcq11t0 ['Helemaal mee eens', 'Mee eens']\n",
      "toelicht0 [nan, 'REMOVED']\n",
      "mhfddoelt0 ['minder drinken', 'REMOVED']\n",
      "mpolitiet0 ['Helemaal niet mee eens', 'REMOVED']\n",
      "maanvult0 [nan, 'REMOVED']\n",
      "dh1t0 ['Helemaal mee eens', 'Mee eens']\n",
      "dh2t0 ['Mee eens', 'Helemaal mee eens']\n",
      "tr4t0 ['Helemaal niet mee eens', 'Niet mee eens']\n",
      "tr8t0 ['Helemaal mee eens', 'Mee eens']\n",
      "mopmerkt0 [nan, 'REMOVED']\n"
     ]
    }
   ],
   "source": [
    "answer_texts = {}\n",
    "for i in range(0,len(dropout_data)):\n",
    "    answer_text = dropout_data.iloc[i][ANSWERTEXT]\n",
    "    answer_id = dropout_data.iloc[i][ANSWERID]\n",
    "    if not answer_id in answer_texts.keys(): answer_texts[answer_id] = []\n",
    "    if not answer_text in answer_texts[answer_id]: answer_texts[answer_id].append(answer_text)\n",
    "for answer_id in answer_texts:\n",
    "    if len(answer_texts[answer_id]) == 2: \n",
    "        print(answer_id,answer_texts[answer_id])"
   ]
  },
  {
   "cell_type": "code",
   "execution_count": 116,
   "metadata": {},
   "outputs": [
    {
     "data": {
      "text/plain": [
       "answerText\n",
       "dinsdag 01 november (Gisteren): Niet gedronken     1\n",
       "dinsdag 01 september (Gisteren): 2                 1\n",
       "dinsdag 01 september (Gisteren): Niet gedronken    1\n",
       "dinsdag 03 januari (Gisteren): Niet gedronken      1\n",
       "dinsdag 03 november (Gisteren): 11 t/m 15          1\n",
       "                                                  ..\n",
       "zondag 29 maart (Gisteren): 7                      1\n",
       "zondag 29 maart (Gisteren): 9                      1\n",
       "zondag 29 maart (Gisteren): Niet gedronken         1\n",
       "zondag 30 augustus (Gisteren): 4                   1\n",
       "zondag 30 januari (Gisteren): Niet gedronken       1\n",
       "Name: client, Length: 399, dtype: int64"
      ]
     },
     "execution_count": 116,
     "metadata": {},
     "output_type": "execute_result"
    }
   ],
   "source": [
    "dropout_data[dropout_data[ANSWERID]==\"dag1\"].groupby(ANSWERTEXT).count()[CLIENT]"
   ]
  },
  {
   "cell_type": "code",
   "execution_count": 50,
   "metadata": {},
   "outputs": [
    {
     "data": {
      "text/plain": [
       "answerText\n",
       "Man      140\n",
       "Vrouw    219\n",
       "Name: client, dtype: int64"
      ]
     },
     "execution_count": 50,
     "metadata": {},
     "output_type": "execute_result"
    }
   ],
   "source": [
    "completer_data[completer_data[QUESTIONNUMBER]==1].groupby(ANSWERTEXT).count()[CLIENT]"
   ]
  },
  {
   "cell_type": "code",
   "execution_count": 168,
   "metadata": {},
   "outputs": [],
   "source": [
    "dropout_table = make_numeric(dropout_data[dropout_data[ANSWERID].isin([GENDER,EDUCATION,DAY1,AGE]+YESNOIDS)])\n",
    "completer_table = make_numeric(completer_data[completer_data[ANSWERID].isin([GENDER,EDUCATION,DAY1,AGE]+YESNOIDS)])"
   ]
  },
  {
   "cell_type": "code",
   "execution_count": 193,
   "metadata": {},
   "outputs": [],
   "source": [
    "X = dropout_table+completer_table\n",
    "y = len(dropout_table)*[DROPOUTCODE]+len(completer_table)*[COMPLETERCODE]"
   ]
  },
  {
   "cell_type": "code",
   "execution_count": 207,
   "metadata": {},
   "outputs": [],
   "source": [
    "def column_average(table,column_id):\n",
    "    return(round(np.average([row[column_id] for row in table if not np.isnan(row[column_id])]),2))"
   ]
  },
  {
   "cell_type": "code",
   "execution_count": 208,
   "metadata": {},
   "outputs": [
    {
     "data": {
      "text/plain": [
       "{'leeftijd': (4.6322007232081313e-07, 47.43, 43.56),\n",
       " 'dag1': (5.5049954236910925e-05, 4.93, 6.33),\n",
       " 'opleidng': (0.001102226979458426, 3.23, 2.89),\n",
       " 'geslacht': (0.0023978688268680983, 0.39, 0.51),\n",
       " 'dagritme': (0.004488127845409525, 0.8, 0.71),\n",
       " 'drugs': (0.008044668229341712, 0.07, 0.13),\n",
       " 'dsm11': (0.039930332834349436, 0.55, 0.62),\n",
       " 'dsm2': (0.04944763686709503, 0.95, 0.91),\n",
       " 'psych': (0.0653998948081495, 0.64, 0.57),\n",
       " 'dsm7': (0.07401935906521508, 0.23, 0.29),\n",
       " 'dsm5': (0.1001909920413593, 0.29, 0.35),\n",
       " 'dsm8': (0.10474548451394548, 0.36, 0.42),\n",
       " 'dsm9': (0.12421897072520555, 0.32, 0.37),\n",
       " 'insult': (0.16899087407186258, 0.01, 0.03),\n",
       " 'eetdrang': (0.29018157129260574, 0.11, 0.13),\n",
       " 'medicijn': (0.3115643877908566, 0.52, 0.56),\n",
       " 'dsm6': (0.3380403597181849, 0.87, 0.84),\n",
       " 'dsm3': (0.46550863926864083, 0.59, 0.62),\n",
       " 'dsm4': (0.800440951589716, 0.84, 0.84)}"
      ]
     },
     "execution_count": 208,
     "metadata": {},
     "output_type": "execute_result"
    }
   ],
   "source": [
    "from sklearn.feature_selection import f_classif\n",
    "import numpy as np\n",
    "from sklearn.impute import SimpleImputer\n",
    "\n",
    "imp = SimpleImputer(missing_values=np.nan, strategy='mean')\n",
    "imp.fit(X)\n",
    "F,p = f_classif(imp.transform(X),y)\n",
    "{COLUMNS[i]:(p[i],column_average(completer_table,i),column_average(dropout_table,i)) for i in sorted(range(0,len(p)),key=lambda i:p[i])}"
   ]
  },
  {
   "cell_type": "markdown",
   "metadata": {},
   "source": [
    "## Sandbox"
   ]
  },
  {
   "cell_type": "code",
   "execution_count": 169,
   "metadata": {},
   "outputs": [],
   "source": [
    "from sklearn.datasets import load_iris\n",
    "from sklearn.model_selection import train_test_split\n",
    "from sklearn.naive_bayes import GaussianNB\n",
    "\n",
    "X, y = load_iris(return_X_y=True)\n",
    "X_train, X_test, y_train, y_test = train_test_split(X, y, test_size=0.5, random_state=0)\n",
    "gnb = GaussianNB()\n",
    "y_pred = gnb.fit(X_train, y_train).predict(X_test)"
   ]
  },
  {
   "cell_type": "code",
   "execution_count": 170,
   "metadata": {},
   "outputs": [
    {
     "data": {
      "text/plain": [
       "array([2, 1, 0, 2, 0, 2, 0, 1, 1, 1, 1, 1, 1, 1, 1, 0, 1, 1, 0, 0, 2, 1,\n",
       "       0, 0, 2, 0, 0, 1, 1, 0, 2, 1, 0, 2, 2, 1, 0, 1, 1, 1, 2, 0, 2, 0,\n",
       "       0, 1, 2, 2, 1, 2, 1, 2, 1, 1, 2, 1, 1, 2, 1, 2, 1, 0, 2, 1, 1, 1,\n",
       "       1, 2, 0, 0, 2, 1, 0, 0, 1])"
      ]
     },
     "execution_count": 170,
     "metadata": {},
     "output_type": "execute_result"
    }
   ],
   "source": [
    "y_pred"
   ]
  },
  {
   "cell_type": "code",
   "execution_count": 172,
   "metadata": {},
   "outputs": [
    {
     "data": {
      "text/plain": [
       "array([2, 1, 0, 2, 0, 2, 0, 1, 1, 1, 2, 1, 1, 1, 1, 0, 1, 1, 0, 0, 2, 1,\n",
       "       0, 0, 2, 0, 0, 1, 1, 0, 2, 1, 0, 2, 2, 1, 0, 1, 1, 1, 2, 0, 2, 0,\n",
       "       0, 1, 2, 2, 2, 2, 1, 2, 1, 1, 2, 2, 2, 2, 1, 2, 1, 0, 2, 1, 1, 1,\n",
       "       1, 2, 0, 0, 2, 1, 0, 0, 1])"
      ]
     },
     "execution_count": 172,
     "metadata": {},
     "output_type": "execute_result"
    }
   ],
   "source": [
    "y_test\n"
   ]
  },
  {
   "cell_type": "code",
   "execution_count": null,
   "metadata": {},
   "outputs": [],
   "source": []
  }
 ],
 "metadata": {
  "kernelspec": {
   "display_name": "Python 3",
   "language": "python",
   "name": "python3"
  },
  "language_info": {
   "codemirror_mode": {
    "name": "ipython",
    "version": 3
   },
   "file_extension": ".py",
   "mimetype": "text/x-python",
   "name": "python",
   "nbconvert_exporter": "python",
   "pygments_lexer": "ipython3",
   "version": "3.7.3"
  }
 },
 "nbformat": 4,
 "nbformat_minor": 4
}
