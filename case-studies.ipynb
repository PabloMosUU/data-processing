{
 "cells": [
  {
   "cell_type": "markdown",
   "metadata": {},
   "source": [
    "# Case studies"
   ]
  },
  {
   "cell_type": "code",
   "execution_count": 1,
   "metadata": {},
   "outputs": [],
   "source": [
    "import numpy as np\n",
    "import pandas as pd\n",
    "import re\n",
    "import sys"
   ]
  },
  {
   "cell_type": "code",
   "execution_count": 2,
   "metadata": {},
   "outputs": [],
   "source": [
    "DATADIR = \"../usb/releases/20201018/\"\n",
    "DROPOUTDATADIR = \"../usb/releases/20200302/\"\n",
    "CLIENTSFILE = \"clients.csv.gz\"\n",
    "DROPOUTFILE = \"dropout.csv.gz\"\n",
    "ANSWERID = \"answerId\"\n",
    "ANSWERTEXT = \"answerText\"\n",
    "ANSWERTITLE = \"answerTitle\"\n",
    "CLIENT = \"client\"\n",
    "CLIENTID = \"clientID\"\n",
    "DROPOUT = \"dropout\"\n",
    "QUESTIONNUMBER = \"questionNumber\"\n",
    "REMOVED = \"REMOVED\"\n",
    "COMPLETERCODE = \"2\"\n",
    "DROPOUTCODE = \"1\""
   ]
  },
  {
   "cell_type": "code",
   "execution_count": 3,
   "metadata": {},
   "outputs": [],
   "source": [
    "def read_dropout_ids():\n",
    "    dropout = pd.read_csv(DROPOUTDATADIR+DROPOUTFILE)\n",
    "    dropout_ids = list(dropout[dropout[DROPOUT]==DROPOUTCODE][CLIENTID])\n",
    "    completer_ids = list(dropout[dropout[DROPOUT]==COMPLETERCODE][CLIENTID])\n",
    "    return(dropout_ids,completer_ids)"
   ]
  },
  {
   "cell_type": "code",
   "execution_count": 4,
   "metadata": {},
   "outputs": [
    {
     "data": {
      "text/plain": [
       "(653, 359)"
      ]
     },
     "execution_count": 4,
     "metadata": {},
     "output_type": "execute_result"
    }
   ],
   "source": [
    "dropout_ids,completer_ids = read_dropout_ids()\n",
    "len(dropout_ids),len(completer_ids)"
   ]
  },
  {
   "cell_type": "markdown",
   "metadata": {},
   "source": [
    "## Case study 1: compare metadata of dropouts and completers"
   ]
  },
  {
   "cell_type": "code",
   "execution_count": 74,
   "metadata": {},
   "outputs": [],
   "source": [
    "GENDER = \"geslacht\"\n",
    "AGE = \"leeftijd\"\n",
    "EDUCATION = \"opleidng\"\n",
    "DAY1 = \"dag1\"\n",
    "MAN = \"Man\"\n",
    "WOMAN = \"Vrouw\"\n",
    "ANSWER = \"answer\"\n",
    "COUNT = \"count\"\n",
    "YESNO = \"YESNO\"\n",
    "YESNOIDS = [\"dagritme\",\"dsm2\",\"dsm3\",\"dsm4\",\"dsm5\",\"dsm6\",\"dsm7\",\"dsm8\",\"dsm9\",\"dsm11\",\n",
    "            \"medicijn\",\"drugs\",\"eetdrang\",\"insult\",\"delirium\",\"psych\",\"tabak\",\"canna\",\n",
    "            \"coca\",\"speed\",\"xtc\",\"ghb\",\"opiat\",\"sleep\",\"gok\",\"behversl\",\"halluci\",\n",
    "            \"suicide\",\"wanen\",\"benniet\"]\n",
    "COLUMNS = [{ANSWER:answer, COUNT:1} for answer in [GENDER,EDUCATION,DAY1,AGE]+YESNOIDS]\n",
    "CONVERSION = { GENDER: {WOMAN:0,MAN:1},\n",
    "               EDUCATION: {\"Basisschool\":0,\"LBO/MAVO\":1,\"MBO\":2,\"HAVO/VWO\":3,\"HBO\":4,\"WO\":5,\"REMOVED\":np.nan},\n",
    "               YESNO: {\"Nee\":0,\"Ja\":1}}\n",
    "\n",
    "def make_numeric(df):\n",
    "    row_nbrs = {}\n",
    "    data_table = []\n",
    "    for i in range(0,len(df)):\n",
    "        row = df.iloc[i]\n",
    "        client = row[CLIENT]\n",
    "        if not client in row_nbrs:\n",
    "            row_nbrs[client] = len(data_table)\n",
    "            data_table.append((4+len(YESNOIDS))*[np.nan])\n",
    "        if row[ANSWERID] == GENDER or row[ANSWERID] == GENDER+\"0\" or row[ANSWERID] == GENDER+\"t0\":\n",
    "            data_table[row_nbrs[client]][0] = CONVERSION[GENDER][row[ANSWERTEXT]]\n",
    "        if row[ANSWERID] == EDUCATION  or row[ANSWERID] == EDUCATION+\"0\" or row[ANSWERID] == EDUCATION+\"t0\":\n",
    "            data_table[row_nbrs[client]][1] = CONVERSION[EDUCATION][row[ANSWERTEXT]]\n",
    "        if row[ANSWERID] == DAY1:\n",
    "            try:\n",
    "                number_word = row[ANSWERTEXT].split(\":\")[1].split()[0]\n",
    "                if number_word == \"Niet\": number_word = \"0\"\n",
    "                data_table[row_nbrs[client]][2] = int(number_word)\n",
    "            except: pass\n",
    "        if row[ANSWERID] == AGE or row[ANSWERID] == AGE+\"0\" or row[ANSWERID] == AGE+\"t0\":\n",
    "            try:\n",
    "                data_table[row_nbrs[client]][3] = int(re.sub(\"\\D\",\"\",row[ANSWERTEXT]))\n",
    "            except: pass\n",
    "        for j in range(0,len(YESNOIDS)):\n",
    "            if row[ANSWERID] == YESNOIDS[j] or row[ANSWERID] == YESNOIDS[j]+\"0\" or row[ANSWERID] == YESNOIDS[j]+\"t0\":\n",
    "                data_table[row_nbrs[client]][4+j] = CONVERSION[YESNO][row[ANSWERTEXT]]\n",
    "\n",
    "    return(data_table)"
   ]
  },
  {
   "cell_type": "code",
   "execution_count": 6,
   "metadata": {},
   "outputs": [],
   "source": [
    "def read_data(dropout_ids,completer_ids):\n",
    "    client_data = pd.read_csv(DATADIR+CLIENTSFILE)\n",
    "    dropout_data = client_data[client_data[CLIENT].isin(dropout_ids)]\n",
    "    completer_data = client_data[client_data[CLIENT].isin(completer_ids)]\n",
    "    return(dropout_data,completer_data)"
   ]
  },
  {
   "cell_type": "code",
   "execution_count": 7,
   "metadata": {},
   "outputs": [],
   "source": [
    "dropout_data,completer_data = read_data(dropout_ids,completer_ids)"
   ]
  },
  {
   "cell_type": "code",
   "execution_count": 148,
   "metadata": {},
   "outputs": [
    {
     "name": "stdout",
     "output_type": "stream",
     "text": [
      "missing dropout client id: AdB1263\n",
      "missing dropout client id: AdB1469\n"
     ]
    }
   ],
   "source": [
    "def verify_data_completeness(dropout_data,completer_data,dropout_ids,completer_ids):\n",
    "    dropout_data_ids = list(dropout_data[CLIENT])\n",
    "    for client_id in dropout_ids:\n",
    "        if client_id not in dropout_data_ids:\n",
    "            print(f\"missing dropout client id: {client_id}\")\n",
    "\n",
    "    completer_data_ids = list(completer_data[CLIENT])\n",
    "    for client_id in completer_ids:\n",
    "        if client_id not in completer_data_ids:\n",
    "            print(f\"missing completer client id: {client_id}\")\n",
    "            \n",
    "verify_data_completeness(dropout_data,completer_data,dropout_ids,completer_ids)"
   ]
  },
  {
   "cell_type": "markdown",
   "metadata": {},
   "source": [
    "### 1.1 Experiment with binary answer classes"
   ]
  },
  {
   "cell_type": "code",
   "execution_count": 260,
   "metadata": {},
   "outputs": [],
   "source": [
    "def cleanup_answer_text(text):\n",
    "    if pd.isna(text): return(text)\n",
    "    text = str(text).lower()\n",
    "    text = re.sub(\"\\s+\",\" \",text)\n",
    "    text = text.strip()\n",
    "    return(text)\n",
    "\n",
    "def normalize_answer_id(answer_id, first_answer_id):\n",
    "    if first_answer_id == GESLACHT: \n",
    "        new_answer_id = answer_id\n",
    "    elif first_answer_id == GESLACHT0:\n",
    "        if re.search(\"0h$\",answer_id):\n",
    "            new_answer_id = re.sub(\"0h$\",\"h\",answer_id)\n",
    "        else:\n",
    "            new_answer_id = re.sub(\"0$\",\"\",answer_id)\n",
    "    elif first_answer_id == GESLACHTT0: \n",
    "        new_answer_id = re.sub(\"t0$\",\"\",answer_id)\n",
    "    else: \n",
    "        sys.exit(f\"unknown first answer id: {first_answer_id}!\")\n",
    "    if re.search(\"^(goTo[0-9]|ltgeslacht1|doel)$\",answer_id):\n",
    "        return(\"\")\n",
    "    if (first_answer_id != GESLACHT and new_answer_id == answer_id and \n",
    "        not answer_id == EXCEPTIONANSWERID and not re.search(NONQUESTIONS,answer_id)):\n",
    "        sys.exit(f\"first answer id {first_answer_id} did not change {answer_id}!\")\n",
    "    return(new_answer_id)"
   ]
  },
  {
   "cell_type": "code",
   "execution_count": 261,
   "metadata": {},
   "outputs": [],
   "source": [
    "def find_binary_answer_classes(dropout_data,completer_data):\n",
    "    answer_texts = {}\n",
    "    questionnaire_types = {}\n",
    "    data = pd.concat([dropout_data,completer_data])\n",
    "    for i in range(0,len(data)):\n",
    "        if not client_id in questionnaire_types:\n",
    "            questionnaire_types[client_id] = data.iloc[i][ANSWERID]\n",
    "        answer_text = cleanup_answer_text(data.iloc[i][ANSWERTEXT])\n",
    "        answer_title = cleanup_answer_text(data.iloc[i][ANSWERTITLE])\n",
    "        if pd.isna(answer_title): answer_title = \"\"\n",
    "        answer_id = normalize_answer_id(data.iloc[i][ANSWERID],questionnaire_types[client_id])\n",
    "        answer_key = answer_id+\"#\"+answer_title\n",
    "        if not answer_key in answer_texts.keys(): answer_texts[answer_key] = []\n",
    "        if not answer_text in answer_texts[answer_key] and not pd.isna(answer_text) and not answer_text == \"removed\":\n",
    "            answer_texts[answer_key].append(answer_text)\n",
    "    results = []\n",
    "    for answer_key in answer_texts:\n",
    "        if len(answer_texts[answer_key]) == 2: \n",
    "            results.append((answer_key,answer_texts[answer_key]))\n",
    "    return(results)"
   ]
  },
  {
   "cell_type": "code",
   "execution_count": 263,
   "metadata": {},
   "outputs": [
    {
     "name": "stdout",
     "output_type": "stream",
     "text": [
      "geslacht# ['vrouw', 'man']\n",
      "dagritme# ['ja', 'nee']\n",
      "dsm1#1.heb je in de afgelopen 12 maanden gemerkt dat je veel meer alcohol nodig begon te hebben om hetzelfde effect te bereiken of dat dezelfde hoeveelheid minder effect had dan voorheen? ['nee', 'ja']\n",
      "dsm2#2.heb je in de afgelopen 12 maanden het verlangen gehad om te stoppen of zonder succes geprobeerd te stoppen of minderen met alcohol? ['ja', 'nee']\n",
      "dsm3#3.heb je in de afgelopen 12 maanden veel tijd besteed aan het gebruik, verkrijgen, of bijkomen van de effecten van alcohol? ['ja', 'nee']\n",
      "dsm4#4.heb je in de afgelopen 12 maanden vaak alcohol in grotere hoeveelheden of langer gebruikt dan je van plan was, of het moeilijk gevonden te stoppen met het gebruik van alcohol voor je dronken was? ['ja', 'nee']\n",
      "dsm5#5.voelde je je in de afgelopen 12 maanden ziek of onwel bij het stoppen of minderen met alcohol of gebruikte je alcohol om deze gevoelens te voorkomen? ['nee', 'ja']\n",
      "dsm6#6.ging je in de afgelopen 12 maanden door met het gebruik van alcohol terwijl je wist dat het gezondheidsproblemen of emotionele of psychische problemen bij je veroorzaakte? ['nee', 'ja']\n",
      "dsm7#7.heb je in de afgelopen 12 maanden belangrijke activiteiten (bijvoorbeeld sport, werk, omgaan met vrienden of familie) opgegeven of sterk verminderd om alcohol te kunnen verkrijgen of gebruiken? ['nee', 'ja']\n",
      "dsm8#8.belemmerde het gebruik van alcohol je in de afgelopen 12 maanden vaak in je werkzaamheden op school, in je baan of thuis? ['ja', 'nee']\n",
      "dsm9#9.zijn er in de afgelopen 12 maanden periodes geweest waarin je alcohol gebruikte in situaties waarin je gewond kon raken (bijvoorbeeld bij het fietsen, autorijden of varen, het bedienen van een machine of iets dergelijks)? ['nee', 'ja']\n",
      "dsm10#10.heeft het gebruik van alcohol in de afgelopen 12 maanden geleid tot problemen met de politie? ['nee', 'ja']\n",
      "dsm11#11.ging je in de afgelopen 12 maanden door met het gebruik van alcohol terwijl je wist dat dat problemen met je familie, vrienden, op je werk of op school voor je veroorzaakte? ['nee', 'ja']\n",
      "medicijn# ['nee', 'ja']\n",
      "mediln4# ['3 jaar', 'jaren']\n",
      "rovroe#heb je vroeger wel dagelijks gerookt? ['ja', 'nee']\n",
      "drugs# ['nee', 'ja']\n",
      "drugsln1# ['2 jaar', 'ongeveer 2 jaar']\n",
      "eetdrang# ['nee', 'ja']\n",
      "behdrink# ['nee', 'ja, ik heb deze internetbehandeling al eens gevolgd.']\n",
      "insult# ['nee', 'ja']\n",
      "delirium# ['nee', 'ja']\n",
      "psych# ['nee', 'ja']\n",
      "geslacht0# ['man', 'vrouw']\n",
      "national0# ['nederlands', 'anders, namelijk belg']\n",
      "cultherk0# ['nederlands', 'overige europees']\n",
      "kind0# ['nee', 'ja']\n",
      "dagritme0# ['nee', 'ja']\n",
      "dsm10#1.heb je in de afgelopen 12 maanden gemerkt dat je veel meer alcohol nodig begon te hebben om hetzelfde effect te bereiken of dat dezelfde hoeveelheid minder effect had dan voorheen? ['ja', 'nee']\n",
      "dsm20#2.heb je in de afgelopen 12 maanden het verlangen gehad om te stoppen of zonder succes geprobeerd te stoppen of minderen met alcohol? ['ja', 'nee']\n",
      "dsm30#3.heb je in de afgelopen 12 maanden veel tijd besteed aan het gebruik, verkrijgen, of bijkomen van de effecten van alcohol? ['nee', 'ja']\n",
      "dsm40#4.heb je in de afgelopen 12 maanden vaak alcohol in grotere hoeveelheden of langer gebruikt dan je van plan was, of het moeilijk gevonden te stoppen met het gebruik van alcohol voor je dronken was? ['ja', 'nee']\n",
      "dsm50#5.voelde je je in de afgelopen 12 maanden ziek of onwel bij het stoppen of minderen met alcohol of gebruikte je alcohol om deze gevoelens te voorkomen? ['nee', 'ja']\n",
      "dsm60#6.ging je in de afgelopen 12 maanden door met het gebruik van alcohol terwijl je wist dat het gezondheidsproblemen of emotionele of psychische problemen bij je veroorzaakte? ['nee', 'ja']\n",
      "dsm70#7.heb je in de afgelopen 12 maanden belangrijke activiteiten (bijvoorbeeld sport, werk, omgaan met vrienden of familie) opgegeven of sterk verminderd om alcohol te kunnen verkrijgen of gebruiken? ['nee', 'ja']\n",
      "dsm80#8.belemmerde het gebruik van alcohol je in de afgelopen 12 maanden vaak in je werkzaamheden op school, in je baan of thuis? ['nee', 'ja']\n",
      "dsm90#9.zijn er in de afgelopen 12 maanden periodes geweest waarin je alcohol gebruikte in situaties waarin je gewond kon raken (bijvoorbeeld bij het fietsen, autorijden of varen, het bedienen van een machine of iets dergelijks)? ['nee', 'ja']\n",
      "dsm100#10.heeft het gebruik van alcohol in de afgelopen 12 maanden geleid tot problemen met de politie? ['nee', 'ja']\n",
      "dsm110#11.ging je in de afgelopen 12 maanden door met het gebruik van alcohol terwijl je wist dat dat problemen met je familie, vrienden, op je werk of op school voor je veroorzaakte? ['nee', 'ja']\n",
      "tabak0# ['ja', 'nee']\n",
      "canna0# ['nee', 'ja']\n",
      "coca0# ['nee', 'ja']\n",
      "speed0# ['nee', 'ja']\n",
      "xtc0# ['nee', 'ja']\n",
      "ghb0# ['nee', 'ja']\n",
      "opiat0# ['nee', 'ja']\n",
      "slaap0# ['nee', 'ja']\n",
      "gok0# ['nee', 'ja']\n",
      "tabak300# ['nee', 'ja']\n",
      "canna300# ['nee', 'ja']\n",
      "coca300# ['nee', 'ja']\n",
      "speed300# ['nee', 'ja']\n",
      "xtc300# ['nee', 'ja']\n",
      "opiat300# ['nee', 'ja']\n",
      "slaap300# ['ja', 'nee']\n",
      "gok300# ['nee', 'ja']\n",
      "eetdrang0# ['nee', 'ja']\n",
      "tabak0h# ['1', '0']\n",
      "canna0h# ['0', '1']\n",
      "coca0h# ['0', '1']\n",
      "speed0h# ['0', '1']\n",
      "xtc0h# ['0', '1']\n",
      "ghb0h# ['0', '1']\n",
      "opiat0h# ['0', '1']\n",
      "drugs0h# ['0', '1']\n",
      "slaap0h# ['0', '1']\n",
      "gok0h# ['0', '1']\n",
      "medivr20# ['hoge bloeddruk', 'bloeddruk']\n",
      "medivr30# ['depressie', 'bloeddruk']\n",
      "mediln50# ['5 jaar', '1 jaar']\n",
      "zwanger0# ['nee', 'ja']\n",
      "behversl0# ['nee', 'ja']\n",
      "behtoel0#licht hieronder toe welke behandeling(en) je hebt gehad en wanneer deze heeft (hebben) plaatsgevonden? voorbeeld: van maart 2007 tot januari 2008 heb ik gesprekken gehad met een hulpverlener van het riagg. van april tot juni 2009 ben ik opgenomen geweest in de verslavingskliniek van tactus. ['januari 2010 tot juli 2011', 'via alcohol de baas online']\n",
      "insult0# ['nee', 'ja']\n",
      "delirium0# ['nee', 'ja']\n",
      "psych0# ['nee', 'ja']\n",
      "psywaar10# ['psycholoog', 'psychiater']\n",
      "suicide10# ['nee', 'ja']\n",
      "suicide20#heb je de afgelopen maand plannen gemaakt om jezelf te doden of het geprobeerd? ['nee', 'ja']\n",
      "halluci0# ['nee', 'ja']\n",
      "wanen0# ['nee', 'ja']\n",
      "eq10#mobiliteit ['ik heb geen problemen met lopen', 'ik heb enige problemen met lopen']\n",
      "eq20#zelfzorg ['ik heb geen problemen om mijzelf te wassen of aan te kleden', 'ik heb enige problemen om mijzelf te wassen of aan te kleden']\n",
      "eq30#dagelijkse activiteiten ['ik heb enige problemen met mijn dagelijkse activiteiten', 'ik ben niet in staat om mijn dagelijkse activiteiten uit te voeren']\n",
      "benniet0# ['ja', 'nee']\n",
      "mailadres0#per e-mail via het volgende e-mailadres: ['client@gmail.com', 'client@hotmail.com']\n",
      "geslachtt0# ['vrouw', 'man']\n",
      "dagritmet0# ['ja', 'nee']\n",
      "dsm1t0#1.heb je in de afgelopen 12 maanden gemerkt dat je veel meer alcohol nodig begon te hebben om hetzelfde effect te bereiken of dat dezelfde hoeveelheid minder effect had dan voorheen? ['ja', 'nee']\n",
      "dsm3t0#3.heb je in de afgelopen 12 maanden veel tijd besteed aan het gebruik, verkrijgen, of bijkomen van de effecten van alcohol? ['ja', 'nee']\n",
      "dsm5t0#5.voelde je je in de afgelopen 12 maanden ziek of onwel bij het stoppen of minderen met alcohol of gebruikte je alcohol om deze gevoelens te voorkomen? ['nee', 'ja']\n",
      "dsm6t0#6.ging je in de afgelopen 12 maanden door met het gebruik van alcohol terwijl je wist dat het gezondheidsproblemen of emotionele of psychische problemen bij je veroorzaakte? ['ja', 'nee']\n",
      "dsm7t0#7.heb je in de afgelopen 12 maanden belangrijke activiteiten (bijvoorbeeld sport, werk, omgaan met vrienden of familie) opgegeven of sterk verminderd om alcohol te kunnen verkrijgen of gebruiken? ['nee', 'ja']\n",
      "dsm8t0#8.belemmerde het gebruik van alcohol je in de afgelopen 12 maanden vaak in je werkzaamheden op school, in je baan of thuis? ['nee', 'ja']\n",
      "dsm9t0#9.zijn er in de afgelopen 12 maanden periodes geweest waarin je alcohol gebruikte in situaties waarin je gewond kon raken (bijvoorbeeld bij het fietsen, autorijden of varen, het bedienen van een machine of iets dergelijks)? ['nee', 'ja']\n",
      "dsm11t0#11.ging je in de afgelopen 12 maanden door met het gebruik van alcohol terwijl je wist dat dat problemen met je familie, vrienden, op je werk of op school voor je veroorzaakte? ['ja', 'nee']\n",
      "dag1t0# ['dinsdag 14 oktober (gisteren): 7', 'zondag 12 oktober (gisteren): 6']\n",
      "terugblt0# ['3 jaar', '11 t/m 15 jaar']\n",
      "medicijnt0# ['nee', 'ja']\n",
      "rokent0# ['nee, helemaal niet', 'ja, dagelijks']\n",
      "rovroet0#heb je vroeger wel dagelijks gerookt? ['nee', 'ja']\n",
      "eetdrangt0# ['nee', 'ja']\n",
      "ghqa1t0#a1.heb je jezelf de afgelopen tijd helemaal fit en gezond gevoeld? ['slechter dan gewoonlijk', 'net zo als gewoonlijk']\n",
      "ghqa2t0#a2.heb je de laatste tijd behoefte gehad aan een versterkend middel (tonicum)? ['helemaal niet', 'wat meer dan gewoonlijk']\n",
      "ghqa3t0#a3.heb je jezelf de laatste tijd moe en uit je gewone doen gevoeld? ['wat meer dan gewoonlijk', 'niet meer dan gewoonlijk']\n",
      "ghqb4t0#b4.ben je de laatste tijd prikkelbaar en slecht gehumeurd geweest? ['wat meer dan gewoonlijk', 'niet meer dan gewoonlijk']\n",
      "ghqc1t0#c1.heb je jezelf de laatste tijd goed kunnen bezighouden? ['ongeveer net zo goed als gewoonlijk', 'minder goed dan gewoonlijk']\n",
      "ghqc2t0#c2.ben je de laatste tijd langer over je dagelijkse bezigheden gaan doen? ['net zo lang als gewoonlijk', 'langer dan gewoonlijk']\n",
      "ghqc3t0#c3.heb je de laatste tijd het gevoel dat je de dingen over het geheel genomen goed doet? ['ongeveer net zo goed als gewoonlijk', 'minder goed dan gewoonlijk']\n",
      "ghqc6t0#c6.voelde je jezelf de laatste tijd in staat om beslissingen (over dingen) te nemen? ['net zo goed in staat als gewoonlijk', 'wat minder dan gewoonlijk']\n",
      "ghqc7t0#c7.heb je de laatste tijd plezier kunnen beleven aan je gewone dagelijkse bezigheden? ['evenveel als gewoonlijk', 'wat minder dan gewoonlijk']\n",
      "ghqd4t0#d4.heb je de laatste tijd overwogen om een einde aan je leven te maken? ['zeer zeker niet', 'ik dacht van niet']\n",
      "ghqd5t0#d5.ben je de laatste tijd wel eens zo zenuwachtig geweest dat je niets meer kon doen? ['helemaal niet', 'niet meer dan gewoonlijk']\n",
      "ghqd7t0#d7.drong de gedachte er een eind aan te maken zich steeds weer bij je op? ['zeer zeker niet', 'ik dacht van niet']\n",
      "eq4t0#pijn /klachten ['ik heb geen pijn of andere klachten', 'ik heb enige pijn of andere klachten']\n",
      "eq5t0#stemming ['ik ben niet angstig of somber', 'ik ben matig angstig of somber']\n",
      "eq6t0#vergeleken met mijn gezondheid gedurende het afgelopen jaar, is mijn gezondheidstoestand van de afgelopen week: ['ongeveer hetzelfde', 'slechter']\n",
      "dass2t0#2.ik merkte dat mijn mond droog aanvoelde ['helemaal niet of nooit', 'een beetje of soms']\n",
      "dass3t0#3.ik was niet in staat om ook maar enig positief gevoel te ervaren ['helemaal niet of nooit', 'een beetje of soms']\n",
      "dass4t0#4.ik had moeite met ademhalen (bijv. overmatig snel ademen, buiten adem zijn zonder me in te spannen) ['helemaal niet of nooit', 'een beetje of soms']\n",
      "dass5t0#5.ik vond het moeilijk om het initiatief te nemen om iets te gaan doen ['een beetje of soms', 'helemaal niet of nooit']\n",
      "dass7t0#7.ik merkte dat ik beefde (bijv. met de handen) ['helemaal niet of nooit', 'een beetje of soms']\n",
      "dass8t0#8.ik was erg opgefokt ['een beetje of soms', 'helemaal niet of nooit']\n",
      "dass9t0#9.ik maakte me zorgen over situaties waarin ik in paniek zou raken en mezelf belachelijk zou maken ['helemaal niet of nooit', 'een beetje of soms']\n",
      "dass15t0#15.ik had het gevoel dat ik bijna in paniek raakte ['helemaal niet of nooit', 'een beetje of soms']\n",
      "dass16t0#16.ik was niet in staat om over ook maar iets enthousiast te worden ['helemaal niet of nooit', 'een beetje of soms']\n",
      "dass17t0#17.ik had het gevoel dat ik als persoon niet veel voorstel ['een beetje of soms', 'helemaal niet of nooit']\n",
      "dass20t0#20.ik was angstig zonder enige reden ['helemaal niet of nooit', 'een beetje of soms']\n",
      "dass21t0#21.ik had het gevoel dat mijn leven geen zin had ['helemaal niet of nooit', 'een beetje of soms']\n",
      "stresst0# ['14', '12']\n",
      "dasstott0# ['14', '24']\n",
      "psycht0# ['nee', 'ja']\n",
      "rcq3t0#3.soms denk ik dat ik minder zou moeten drinken ('minder' kan ook zijn 'niets': soms denk ik dat ik niets zou moeten drinken). ['helemaal mee eens', 'mee eens']\n",
      "rcq4t0#4.nadenken over mijn drinken is tijdverspilling. ['helemaal niet mee eens', 'niet mee eens']\n",
      "rcq7t0#7.ik ben in de fase waarin ik zou moeten nadenken over minder alcohol drinken ('minder' kan ook zijn 'niets': ik ben in de fase waarin ik zou moeten nadenken over niets meer te drinken). ['helemaal mee eens', 'mee eens']\n",
      "rcq10t0#10.ik vind dat ik teveel drink. ['helemaal mee eens', 'mee eens']\n",
      "rcq11t0#11.het is voor mij nodig na te denken over het veranderen van mijn drinkgewoonten. ['helemaal mee eens', 'mee eens']\n",
      "rcq12t0#12.minder alcohol heeft voor mij geen zin ('minder' kan ook zijn 'geen': geen alcohol drinken heeft voor mij geen zin). ['helemaal niet mee eens', 'niet mee eens']\n",
      "rcqpret0# ['12', '13']\n",
      "mhfddoelt0# ['minder drinken', 'leren omgaan met drinken']\n",
      "mprblmt0#1.een probleem ['helemaal mee eens', 'mee eens']\n",
      "mvinwrkt0#6.de oorzaak van problemen bij het vinden van werk ['helemaal niet mee eens', 'niet mee eens']\n",
      "dh1t0#1.ik heb hulp nodig om mijn drinken te kunnen hanteren ['helemaal mee eens', 'mee eens']\n",
      "tr4t0#8.dit soort behandelprogramma's zal me niet veel helpen ['helemaal niet mee eens', 'niet mee eens']\n",
      "tr5t0#9.ik ben van plan hier een tijdje mee door te gaan ['helemaal mee eens', 'mee eens']\n",
      "tr6t0#11.ik ben hier mee bezig omdat iemand anders dat wil ['helemaal niet mee eens', 'niet mee eens']\n",
      "tr8t0#15.ik wil behandeld worden voor mijn problemen ['helemaal mee eens', 'mee eens']\n"
     ]
    }
   ],
   "source": [
    "results = find_binary_answer_classes(dropout_data,completer_data)"
   ]
  },
  {
   "cell_type": "code",
   "execution_count": 24,
   "metadata": {},
   "outputs": [],
   "source": [
    "dropout_table = make_numeric(dropout_data[dropout_data[ANSWERID].isin(COLUMNS)])\n",
    "completer_table = make_numeric(completer_data[completer_data[ANSWERID].isin(COLUMNS)])"
   ]
  },
  {
   "cell_type": "code",
   "execution_count": 76,
   "metadata": {},
   "outputs": [],
   "source": [
    "from sklearn.feature_selection import f_classif\n",
    "import numpy as np\n",
    "from sklearn.impute import SimpleImputer\n",
    "\n",
    "def run_anova(dropout_table,completer_table):\n",
    "    X = dropout_table+completer_table\n",
    "    y = len(dropout_table)*[DROPOUTCODE]+len(completer_table)*[COMPLETERCODE]\n",
    "    imp = SimpleImputer(missing_values=np.nan, strategy='mean')\n",
    "    imp.fit(X)\n",
    "    F,p_values = f_classif(imp.transform(X),y)\n",
    "    return(p_values)\n",
    "\n",
    "def column_average(table,column_id):\n",
    "    return(round(np.average([row[column_id] for row in table if not np.isnan(row[column_id])]),2))\n",
    "\n",
    "def sort_p_values(p_values,column_names,dropout_table,completer_table):\n",
    "    return({column_names[i][ANSWER]:(p_values[i],column_names[i][COUNT],column_average(completer_table,i),column_average(dropout_table,i)) \n",
    "            for i in sorted(range(0,len(p_values)),key=lambda i:p_values[i])})"
   ]
  },
  {
   "cell_type": "code",
   "execution_count": 25,
   "metadata": {},
   "outputs": [
    {
     "data": {
      "text/plain": [
       "{'leeftijd': (4.6322007232081313e-07, 47.43, 43.56),\n",
       " 'dag1': (5.5049954236910925e-05, 4.93, 6.33),\n",
       " 'opleidng': (0.001102226979458426, 3.23, 2.89),\n",
       " 'geslacht': (0.0023978688268680983, 0.39, 0.51),\n",
       " 'dagritme': (0.004488127845409525, 0.8, 0.71),\n",
       " 'drugs': (0.008044668229341712, 0.07, 0.13),\n",
       " 'dsm11': (0.039930332834349436, 0.55, 0.62),\n",
       " 'dsm2': (0.04944763686709503, 0.95, 0.91),\n",
       " 'psych': (0.0653998948081495, 0.64, 0.57),\n",
       " 'dsm7': (0.07401935906521508, 0.23, 0.29),\n",
       " 'dsm5': (0.1001909920413593, 0.29, 0.35),\n",
       " 'dsm8': (0.10474548451394548, 0.36, 0.42),\n",
       " 'dsm9': (0.12421897072520555, 0.32, 0.37),\n",
       " 'insult': (0.16899087407186258, 0.01, 0.03),\n",
       " 'eetdrang': (0.29018157129260574, 0.11, 0.13),\n",
       " 'medicijn': (0.3115643877908566, 0.52, 0.56),\n",
       " 'dsm6': (0.3380403597181849, 0.87, 0.84),\n",
       " 'dsm3': (0.46550863926864083, 0.59, 0.62),\n",
       " 'delirium': (0.7124196594796546, 0.05, 0.06),\n",
       " 'dsm4': (0.800440951589716, 0.84, 0.84)}"
      ]
     },
     "execution_count": 25,
     "metadata": {},
     "output_type": "execute_result"
    }
   ],
   "source": [
    "p_values = run_anova(dropout_table,completer_table)\n",
    "sort_p_values(p_values,COLUMNS,dropout_table,completer_table)"
   ]
  },
  {
   "cell_type": "markdown",
   "metadata": {},
   "source": [
    "### 1.2 Experiment with all answer classes"
   ]
  },
  {
   "cell_type": "code",
   "execution_count": 207,
   "metadata": {},
   "outputs": [],
   "source": [
    "GESLACHT = \"geslacht\"\n",
    "GESLACHT0 = \"geslacht0\"\n",
    "GESLACHTT0 = \"geslachtt0\"\n",
    "NONQUESTIONS = \"^(goTo[0-9]|ltgeslacht1|doel)$\"\n",
    "EXCEPTIONANSWERID = \"mdoel\"\n",
    "MINANSWERCOUNT = 10\n",
    "MAXPVALUE = 0.01\n",
    "ANSWER = \"answer\"\n",
    "COUNT = \"count\"\n",
    "\n",
    "def get_binary_answers(data):\n",
    "    questionnaire_types = {}\n",
    "    answers_per_client = {}\n",
    "    for i in range(0,len(data)):\n",
    "        client_id = data.iloc[i][CLIENT]\n",
    "        if not client_id in questionnaire_types:\n",
    "            questionnaire_types[client_id] = data.iloc[i][ANSWERID]\n",
    "            answers_per_client[client_id] = []\n",
    "        answer_id = normalize_answer_id(data.iloc[i][ANSWERID], questionnaire_types[client_id])\n",
    "        if re.search(NONQUESTIONS,answer_id): continue\n",
    "        answer_text = cleanup_answer_text(data.iloc[i][ANSWERTEXT])\n",
    "        answer_title = cleanup_answer_text(data.iloc[i][ANSWERTITLE])\n",
    "        if not pd.isna(answer_text) and answer_text != \"removed\":\n",
    "            if pd.isna(answer_title): answer_title = \"\"\n",
    "            answers_per_client[client_id].append(answer_id+\"#\"+answer_title+\"#\"+answer_text)\n",
    "    return(answers_per_client, questionnaire_types)\n",
    "\n",
    "def count_answers(binary_answers):\n",
    "    answer_counts = {}\n",
    "    for client_id in binary_answers:\n",
    "        for answer in binary_answers[client_id]:\n",
    "            if answer in answer_counts:\n",
    "                answer_counts[answer] += 1\n",
    "            else:\n",
    "                answer_counts[answer] = 1\n",
    "    return({answer:answer_counts[answer] for answer in sorted(answer_counts.keys(),key=lambda a:answer_counts[a],reverse=True)})\n",
    "\n",
    "def make_binary_table(data,binary_answers):\n",
    "    answer_counts = count_answers(binary_answers)\n",
    "    binary_table = []\n",
    "    answers_used = []\n",
    "    for client_id in data[CLIENT].unique():\n",
    "        binary_table.append([])\n",
    "        for answer in answer_counts:\n",
    "            if answer_counts[answer] >= MINANSWERCOUNT:\n",
    "                if answer in binary_answers[client_id]:\n",
    "                    binary_table[-1].append(1)\n",
    "                else:\n",
    "                    binary_table[-1].append(0)\n",
    "    for answer in answer_counts:\n",
    "        if answer_counts[answer] >= MINANSWERCOUNT:\n",
    "            answers_used.append({ANSWER:answer, COUNT:answer_counts[answer]})\n",
    "    return(binary_table, answers_used)\n",
    "\n",
    "def convert_data_to_binary(dropout_data,completer_data):\n",
    "    all_data = pd.concat([dropout_data,completer_data])\n",
    "    binary_answers, questionnaire_types = get_binary_answers(all_data)\n",
    "    dropout_table_binary, answers_used = make_binary_table(dropout_data,binary_answers)\n",
    "    completer_table_binary, answers_used = make_binary_table(completer_data,binary_answers)\n",
    "    return(dropout_table_binary, completer_table_binary, answers_used, binary_answers, questionnaire_types)\n",
    "\n",
    "def select_p_values(p_values,column_names,dropout_table,completer_table):\n",
    "    return({column_names[i][ANSWER]:(p_values[i],column_average(completer_table,i),column_average(dropout_table,i)) \n",
    "            for i in sorted(range(0,len(p_values)),key=lambda i:p_values[i])\n",
    "            if column_average(completer_table,i) < column_average(dropout_table,i) and p_values[i] < MAXPVALUE})"
   ]
  },
  {
   "cell_type": "code",
   "execution_count": 208,
   "metadata": {},
   "outputs": [],
   "source": [
    "dropout_table_binary, completer_table_binary, answers_used, binary_answers, questionnaire_types = convert_data_to_binary(dropout_data,completer_data)"
   ]
  },
  {
   "cell_type": "code",
   "execution_count": 151,
   "metadata": {},
   "outputs": [
    {
     "data": {
      "text/plain": [
       "(1078, 1078, 1078, 1010)"
      ]
     },
     "execution_count": 151,
     "metadata": {},
     "output_type": "execute_result"
    }
   ],
   "source": [
    "len(dropout_table_binary[0]),len(completer_table_binary[0]),len(answers_used), len(binary_answers)"
   ]
  },
  {
   "cell_type": "code",
   "execution_count": 115,
   "metadata": {},
   "outputs": [],
   "source": [
    "p_values = run_anova(dropout_table_binary,completer_table_binary)"
   ]
  },
  {
   "cell_type": "code",
   "execution_count": 192,
   "metadata": {},
   "outputs": [
    {
     "name": "stdout",
     "output_type": "stream",
     "text": [
      "316\n"
     ]
    },
    {
     "data": {
      "text/plain": [
       "[('opiat##nee', (5.940101708792509e-17, 240, 0.09, 0.32)),\n",
       " ('opiath##0', (5.940101708792509e-17, 240, 0.09, 0.32)),\n",
       " ('mateicn10#10.had je gebrek aan onderdak of had je problemen met huisvesting?#niet / geen',\n",
       "  (6.94472981470106e-17, 236, 0.09, 0.31)),\n",
       " ('national##nederlands', (8.719316831085801e-17, 239, 0.09, 0.32)),\n",
       " ('gokken##nee', (9.843857591931877e-17, 716, 0.87, 0.62)),\n",
       " ('mateicn13#13.had je er moeite mee voor een veilige slaapplaats of voor beschermende kleding te zorgen?#niet / geen',\n",
       "  (1.277725495106288e-16, 238, 0.09, 0.32)),\n",
       " ('##-1', (1.5524613433478835e-16, 341, 0.08, 0.3)),\n",
       " ('ghb##nee', (3.9803276216290714e-16, 235, 0.09, 0.31)),\n",
       " ('ghbh##0', (3.9803276216290714e-16, 235, 0.09, 0.31)),\n",
       " ('cultherk##nederlands', (5.793707821605359e-16, 234, 0.09, 0.31))]"
      ]
     },
     "execution_count": 192,
     "metadata": {},
     "output_type": "execute_result"
    }
   ],
   "source": [
    "list(sort_p_values(p_values,answers_used,dropout_table_binary,completer_table_binary).items())[:10]"
   ]
  },
  {
   "cell_type": "code",
   "execution_count": 197,
   "metadata": {},
   "outputs": [
    {
     "name": "stdout",
     "output_type": "stream",
     "text": [
      "opiat 0 245 0\n",
      "opiath 0 0 0\n",
      "mateicn10 245 245 0\n",
      "national 0 245 0\n",
      "gokken 706 0 38\n"
     ]
    }
   ],
   "source": [
    "def print_answer_ids_freqs(dropout_data,completer_data):\n",
    "    all_data = pd.concat([dropout_data,completer_data])\n",
    "    for answer_combi in [\"opiat##nee\",\"opiath##0\",\"mateicn10#10.had je gebrek aan onderdak of had je problemen met huisvesting?#niet / geen\",\n",
    "                         \"national##nederlands\",\"gokken##nee\"]:\n",
    "        answer = answer_combi.split(\"#\")[0]\n",
    "        print(answer,len(all_data[all_data[\"answerId\"]==answer]),len(all_data[all_data[\"answerId\"]==answer+\"0\"]),len(all_data[all_data[\"answerId\"]==answer+\"t0\"]))\n",
    "        \n",
    "print_answer_ids_freqs(dropout_data,completer_data)"
   ]
  },
  {
   "cell_type": "code",
   "execution_count": 198,
   "metadata": {},
   "outputs": [
    {
     "name": "stdout",
     "output_type": "stream",
     "text": [
      "316\n"
     ]
    }
   ],
   "source": [
    "dropout_predictors = list(select_p_values(p_values,answers_used,dropout_table_binary,completer_table_binary).keys())\n",
    "print(len(dropout_predictors))"
   ]
  },
  {
   "cell_type": "code",
   "execution_count": 211,
   "metadata": {},
   "outputs": [],
   "source": [
    "def get_dropout_predictor_scores(data,dropout_predictors,binary_answers,questionnaire_types):\n",
    "    scores = []\n",
    "    for client_id in data[CLIENT].unique():\n",
    "        score = 0\n",
    "        for predictor in dropout_predictors:\n",
    "            if predictor in binary_answers[client_id]: \n",
    "                score += 1\n",
    "        scores.append((score,client_id,questionnaire_types[client_id]))\n",
    "    return(scores)"
   ]
  },
  {
   "cell_type": "code",
   "execution_count": 248,
   "metadata": {},
   "outputs": [
    {
     "name": "stdout",
     "output_type": "stream",
     "text": [
      "[119, 118, 117, 116, 116, 115, 115, 115, 114, 114, 114, 114, 113, 113, 113, 112, 112, 112, 112, 112, 111, 111, 111, 111, 111, 111, 110, 110, 110, 110, 110, 110, 109, 109, 109, 109, 109, 109, 109, 109, 109, 109, 109, 108, 108, 108, 108, 108, 108, 108, 108, 108, 108, 108, 108, 108, 108, 108, 107, 107, 107, 107, 107, 107, 107, 107, 107, 107, 107, 107, 107, 107, 107, 107, 107, 106, 106, 106, 106, 106, 106, 106, 106, 106, 106, 106, 106, 106, 105, 105, 105, 105, 105, 105, 105, 105, 105, 105, 105, 105, 105, 104, 104, 104, 104, 104, 104, 104, 104, 104, 104, 104, 104, 104, 104, 104, 104, 104, 104, 104, 104, 104, 104, 104, 103, 103, 103, 103, 103, 103, 103, 103, 103, 103, 103, 103, 103, 103, 103, 103, 103, 103, 103, 103, 103, 102, 102, 102, 102, 102, 102, 102, 102, 102, 102, 102, 102, 102, 101, 101, 101, 101, 101, 101, 101, 101, 101, 101, 101, 100, 100, 100, 100, 100, 100, 100, 99, 99, 99, 99, 99, 98, 98, 98, 98, 98, 97, 97, 97, 97, 97, 97, 97, 97, 96, 96, 96, 96, 96, 94, 94, 93, 92, 91, 91, 90, 90, 89, 88, 87, 87, 86, 86, 24, 23, 23, 22, 22, 22, 21, 21, 20, 20, 19, 18, 18, 17, 5, 5, 5, 5, 4, 4, 4, 4, 4, 4, 4, 4, 4, 4, 4, 4, 4, 4, 4, 4, 4, 4, 4, 4, 4, 4, 4, 4, 4, 4, 4, 4, 4, 3, 3, 3, 3, 3, 3, 3, 3, 3, 3, 3, 3, 3, 3, 3, 3, 3, 3, 3, 3, 3, 3, 3, 3, 3, 3, 3, 3, 3, 3, 3, 3, 3, 3, 3, 3, 3, 3, 3, 3, 3, 3, 3, 3, 3, 3, 3, 3, 3, 3, 3, 3, 3, 3, 3, 3, 3, 3, 3, 3, 3, 3, 3, 3, 3, 3, 3, 3, 3, 3, 3, 3, 3, 3, 3, 3, 3, 3, 3, 3, 3, 3, 3, 3, 2, 2, 2, 2, 2, 2, 2, 2, 2, 2, 2, 2, 2, 2, 2, 2, 2, 2, 2, 2, 2, 2, 2, 2, 2, 2, 2, 2, 2, 2, 2, 2, 2, 2, 2, 2, 2, 2, 2, 2, 2, 2, 2, 2, 2, 2, 2, 2, 2, 2, 2, 2, 2, 2, 2, 2, 2, 2, 2, 2, 2, 2, 2, 2, 2, 2, 2, 2, 2, 2, 2, 2, 2, 2, 2, 2, 2, 2, 2, 2, 2, 2, 2, 2, 2, 2, 2, 2, 2, 2, 2, 2, 2, 2, 2, 2, 2, 2, 2, 2, 2, 2, 2, 2, 2, 2, 2, 2, 2, 2, 2, 2, 2, 2, 2, 2, 2, 2, 2, 2, 2, 2, 2, 2, 2, 2, 2, 2, 2, 2, 2, 2, 2, 2, 2, 2, 2, 2, 2, 2, 2, 2, 2, 1, 1, 1, 1, 1, 1, 1, 1, 1, 1, 1, 1, 1, 1, 1, 1, 1, 1, 1, 1, 1, 1, 1, 1, 1, 1, 1, 1, 1, 1, 1, 1, 1, 1, 1, 1, 1, 1, 1, 1, 1, 1, 1, 1, 1, 1, 1, 1, 1, 1, 1, 1, 1, 1, 1, 1, 1, 1, 1, 1, 1, 1, 1, 1, 1, 1, 1, 1, 1, 1, 1, 1, 1, 1, 1, 1, 1, 1, 1, 1, 1, 1, 1, 1, 1, 1, 1, 1, 1, 1, 1, 1, 1, 1, 1, 1, 1, 1, 1, 1, 1, 1, 1, 1, 1, 1, 1, 1, 1, 0, 0, 0, 0, 0, 0, 0, 0, 0, 0, 0, 0, 0, 0, 0, 0, 0, 0, 0, 0, 0, 0, 0, 0, 0, 0, 0, 0, 0, 0, 0, 0, 0, 0, 0, 0, 0, 0, 0, 0, 0, 0, 0, 0, 0, 0, 0, 0, 0, 0, 0, 0, 0, 0, 0]\n",
      "[112, 106, 106, 104, 103, 102, 101, 101, 101, 100, 100, 99, 99, 99, 98, 98, 98, 98, 98, 98, 98, 97, 97, 97, 96, 96, 96, 95, 94, 93, 91, 86, 25, 25, 24, 24, 24, 23, 23, 23, 22, 22, 21, 21, 21, 20, 20, 19, 19, 19, 19, 19, 19, 18, 17, 15, 5, 4, 4, 4, 4, 4, 4, 4, 4, 4, 4, 4, 4, 4, 4, 4, 4, 4, 3, 3, 3, 3, 3, 3, 3, 3, 3, 3, 3, 3, 3, 3, 3, 3, 3, 3, 3, 3, 3, 3, 3, 3, 3, 3, 3, 3, 3, 3, 3, 3, 3, 3, 3, 2, 2, 2, 2, 2, 2, 2, 2, 2, 2, 2, 2, 2, 2, 2, 2, 2, 2, 2, 2, 2, 2, 2, 2, 2, 2, 2, 2, 2, 2, 2, 2, 2, 2, 2, 2, 2, 2, 2, 2, 2, 2, 2, 2, 2, 2, 2, 2, 2, 2, 2, 2, 2, 2, 2, 2, 2, 2, 2, 2, 2, 2, 2, 2, 2, 2, 2, 2, 2, 2, 2, 2, 2, 2, 2, 2, 2, 2, 2, 2, 2, 2, 2, 2, 1, 1, 1, 1, 1, 1, 1, 1, 1, 1, 1, 1, 1, 1, 1, 1, 1, 1, 1, 1, 1, 1, 1, 1, 1, 1, 1, 1, 1, 1, 1, 1, 1, 1, 1, 1, 1, 1, 1, 1, 1, 1, 1, 1, 1, 1, 1, 1, 1, 1, 1, 1, 1, 1, 1, 1, 1, 1, 1, 1, 1, 1, 1, 1, 1, 1, 1, 1, 1, 1, 1, 1, 1, 1, 1, 1, 1, 1, 1, 1, 1, 1, 1, 1, 1, 1, 1, 1, 1, 1, 1, 1, 1, 1, 1, 1, 1, 1, 1, 1, 1, 1, 0, 0, 0, 0, 0, 0, 0, 0, 0, 0, 0, 0, 0, 0, 0, 0, 0, 0, 0, 0, 0, 0, 0, 0, 0, 0, 0, 0, 0, 0, 0, 0, 0, 0, 0, 0, 0, 0, 0, 0, 0, 0, 0, 0, 0, 0, 0, 0, 0, 0, 0, 0, 0, 0, 0, 0, 0, 0, 0, 0, 0, 0, 0, 0]\n"
     ]
    }
   ],
   "source": [
    "dropout_predictor_scores_dropout = get_dropout_predictor_scores(dropout_data,dropout_predictors,binary_answers,questionnaire_types)\n",
    "dropout_predictor_scores_completer = get_dropout_predictor_scores(completer_data,dropout_predictors,binary_answers,questionnaire_types)\n",
    "print([score_tuple[0] for score_tuple in sorted(dropout_predictor_scores_dropout,key=lambda s:s[0],reverse=True)])\n",
    "print([score_tuple[0] for score_tuple in sorted(dropout_predictor_scores_completer,key=lambda s:s[0],reverse=True)])"
   ]
  },
  {
   "cell_type": "code",
   "execution_count": 223,
   "metadata": {},
   "outputs": [
    {
     "name": "stdout",
     "output_type": "stream",
     "text": [
      "selected 104: 3 completed: 0.9711538461538461\n",
      "selected 245: 32 completed: 0.8693877551020408\n"
     ]
    }
   ],
   "source": [
    "print(f\"selected 104: 3 completed: {(104-3)/104}\")\n",
    "print(f\"selected 245: 32 completed: {(245-32)/245}\")"
   ]
  },
  {
   "cell_type": "code",
   "execution_count": 244,
   "metadata": {},
   "outputs": [
    {
     "data": {
      "text/plain": [
       "{'geslacht': 706, 'geslacht0': 266, 'geslachtt0': 38}"
      ]
     },
     "execution_count": 244,
     "metadata": {},
     "output_type": "execute_result"
    }
   ],
   "source": [
    "groups = pd.DataFrame.from_dict(questionnaire_types,orient=\"index\").groupby(0).groups\n",
    "{g:len(groups[g]) for g in groups}"
   ]
  },
  {
   "cell_type": "markdown",
   "metadata": {},
   "source": [
    "## Sandbox"
   ]
  },
  {
   "cell_type": "code",
   "execution_count": null,
   "metadata": {},
   "outputs": [],
   "source": [
    "from sklearn.datasets import load_iris\n",
    "from sklearn.model_selection import train_test_split\n",
    "from sklearn.naive_bayes import GaussianNB\n",
    "\n",
    "X, y = load_iris(return_X_y=True)\n",
    "X_train, X_test, y_train, y_test = train_test_split(X, y, test_size=0.5, random_state=0)\n",
    "gnb = GaussianNB()\n",
    "y_pred = gnb.fit(X_train, y_train).predict(X_test)"
   ]
  },
  {
   "cell_type": "code",
   "execution_count": null,
   "metadata": {},
   "outputs": [],
   "source": [
    "y_pred"
   ]
  },
  {
   "cell_type": "code",
   "execution_count": null,
   "metadata": {},
   "outputs": [],
   "source": [
    "y_test\n"
   ]
  },
  {
   "cell_type": "code",
   "execution_count": null,
   "metadata": {},
   "outputs": [],
   "source": []
  }
 ],
 "metadata": {
  "kernelspec": {
   "display_name": "Python 3",
   "language": "python",
   "name": "python3"
  },
  "language_info": {
   "codemirror_mode": {
    "name": "ipython",
    "version": 3
   },
   "file_extension": ".py",
   "mimetype": "text/x-python",
   "name": "python",
   "nbconvert_exporter": "python",
   "pygments_lexer": "ipython3",
   "version": "3.7.3"
  }
 },
 "nbformat": 4,
 "nbformat_minor": 4
}
