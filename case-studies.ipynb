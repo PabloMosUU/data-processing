{
 "cells": [
  {
   "cell_type": "markdown",
   "metadata": {},
   "source": [
    "# Case study"
   ]
  },
  {
   "cell_type": "code",
   "execution_count": 1,
   "metadata": {},
   "outputs": [],
   "source": [
    "import numpy as np\n",
    "import pandas as pd\n",
    "import re\n",
    "import sys"
   ]
  },
  {
   "cell_type": "code",
   "execution_count": 2,
   "metadata": {},
   "outputs": [],
   "source": [
    "DATADIR = \"../usb/releases/20201018/\"\n",
    "DROPOUTDATADIR = \"../usb/releases/20200302/\"\n",
    "CLIENTSFILE = \"clients.csv.gz\"\n",
    "DROPOUTFILE = \"dropout.csv.gz\"\n",
    "ANSWERID = \"answerId_normalized\"\n",
    "ANSWERIDORIGINAL = \"answerId_original\"\n",
    "ANSWERTEXT = \"answerText\"\n",
    "ANSWERTITLE = \"answerTitle\"\n",
    "CLIENT = \"client\"\n",
    "CLIENTID = \"clientID\"\n",
    "DROPOUT = \"dropout\"\n",
    "QUESTIONNUMBER = \"questionNumber\"\n",
    "REMOVED = \"REMOVED\"\n",
    "COMPLETERCODE = \"2\"\n",
    "DROPOUTCODE = \"1\""
   ]
  },
  {
   "cell_type": "code",
   "execution_count": 3,
   "metadata": {},
   "outputs": [],
   "source": [
    "def read_dropout_ids():\n",
    "    dropout = pd.read_csv(DROPOUTDATADIR+DROPOUTFILE)\n",
    "    dropout_ids = list(dropout[dropout[DROPOUT]==DROPOUTCODE][CLIENTID])\n",
    "    completer_ids = list(dropout[dropout[DROPOUT]==COMPLETERCODE][CLIENTID])\n",
    "    return(dropout_ids,completer_ids)"
   ]
  },
  {
   "cell_type": "code",
   "execution_count": 4,
   "metadata": {},
   "outputs": [
    {
     "data": {
      "text/plain": [
       "(653, 359)"
      ]
     },
     "execution_count": 4,
     "metadata": {},
     "output_type": "execute_result"
    }
   ],
   "source": [
    "dropout_ids,completer_ids = read_dropout_ids()\n",
    "len(dropout_ids),len(completer_ids)"
   ]
  },
  {
   "cell_type": "markdown",
   "metadata": {},
   "source": [
    "## Task 1: compare metadata of dropouts and completers"
   ]
  },
  {
   "cell_type": "code",
   "execution_count": 5,
   "metadata": {},
   "outputs": [],
   "source": [
    "GENDER = \"geslacht\"\n",
    "AGE = \"leeftijd\"\n",
    "EDUCATION = \"opleidng\"\n",
    "DAY1 = \"dag1\"\n",
    "MAN = \"Man\"\n",
    "WOMAN = \"Vrouw\"\n",
    "ANSWER = \"answer\"\n",
    "COUNT = \"count\"\n",
    "YESNO = \"YESNO\"\n",
    "YESNOIDS = [\"dagritme\",\"dsm2\",\"dsm3\",\"dsm4\",\"dsm5\",\"dsm6\",\"dsm7\",\"dsm8\",\"dsm9\",\"dsm11\",\n",
    "            \"medicijn\",\"drugs\",\"eetdrang\",\"insult\",\"delirium\",\"psych\",\"tabak\",\"canna\",\n",
    "            \"coca\",\"speed\",\"xtc\",\"ghb\",\"opiat\",\"sleep\",\"gok\",\"behversl\",\"halluci\",\n",
    "            \"suicide\",\"wanen\",\"benniet\"]\n",
    "COLUMNS = [{ANSWER:answer, COUNT:1} for answer in [GENDER,EDUCATION,DAY1,AGE]+YESNOIDS]\n",
    "CONVERSION = { GENDER: {WOMAN:0,MAN:1},\n",
    "               EDUCATION: {\"Basisschool\":0,\"LBO/MAVO\":1,\"MBO\":2,\"HAVO/VWO\":3,\"HBO\":4,\"WO\":5,\"REMOVED\":np.nan},\n",
    "               YESNO: {\"Nee\":0,\"Ja\":1}}\n",
    "\n",
    "def make_numeric(df,column_names):\n",
    "    row_nbrs = {}\n",
    "    data_table = []\n",
    "    questionnaire_types = {}\n",
    "    column_name_ids = {column_names[i]:i for i in range(0,len(column_names))}\n",
    "    answer_text_to_digit = {}\n",
    "    for i in range(0,len(df)):\n",
    "        row = df.iloc[i]\n",
    "        client_id = row[CLIENT]\n",
    "        if not client_id in row_nbrs:\n",
    "            row_nbrs[client_id] = len(data_table)\n",
    "            data_table.append(len(column_names)*[np.nan])\n",
    "        answer_id = row[ANSWERID]\n",
    "        answer_text = cleanup_answer_text(row[ANSWERTEXT])\n",
    "        if answer_id in column_names and not pd.isna(answer_text) and answer_text != \"removed\":\n",
    "            if answer_id == EDUCATION:\n",
    "                data_table[-1][column_name_ids[answer_id]] = CONVERSION[EDUCATION][answer_text]\n",
    "            elif answer_id == AGE:\n",
    "                try:\n",
    "                    data_table[-1][column_name_ids[answer_id]] = int(re.sub(\"\\D\",\"\",answer_text))\n",
    "                except:\n",
    "                    pass\n",
    "            elif answer_id in answer_text_to_digit and answer_text in answer_text_to_digit[answer_id]:\n",
    "                data_table[-1][column_name_ids[answer_id]] = answer_text_to_digit[answer_id][answer_text]\n",
    "            elif not answer_id in answer_text_to_digit:\n",
    "                answer_text_to_digit[answer_id] = { answer_text: 0 }\n",
    "                data_table[-1][column_name_ids[answer_id]] = answer_text_to_digit[answer_id][answer_text]\n",
    "            elif answer_id in answer_text_to_digit and len(answer_text_to_digit[answer_id]) == 1:\n",
    "                answer_text_to_digit[answer_id][answer_text] = 1\n",
    "                data_table[-1][column_name_ids[answer_id]] = answer_text_to_digit[answer_id][answer_text]\n",
    "            else:\n",
    "                print(f\"cannot happen: {answer_id} {answer_text} {len(answer_text_to_digit[answer_id])}\")\n",
    "    return(data_table)"
   ]
  },
  {
   "cell_type": "code",
   "execution_count": 6,
   "metadata": {},
   "outputs": [],
   "source": [
    "def read_data(dropout_ids,completer_ids):\n",
    "    client_data = pd.read_csv(DATADIR+CLIENTSFILE)\n",
    "    dropout_data = client_data[client_data[CLIENT].isin(dropout_ids)]\n",
    "    completer_data = client_data[client_data[CLIENT].isin(completer_ids)]\n",
    "    return(dropout_data,completer_data)"
   ]
  },
  {
   "cell_type": "code",
   "execution_count": 7,
   "metadata": {},
   "outputs": [],
   "source": [
    "dropout_data,completer_data = read_data(dropout_ids,completer_ids)\n",
    "all_data = pd.concat([dropout_data,completer_data])"
   ]
  },
  {
   "cell_type": "code",
   "execution_count": 8,
   "metadata": {},
   "outputs": [
    {
     "name": "stdout",
     "output_type": "stream",
     "text": [
      "missing dropout client id: AdB1263\n",
      "missing dropout client id: AdB1469\n"
     ]
    }
   ],
   "source": [
    "def verify_data_completeness(dropout_data,completer_data,dropout_ids,completer_ids):\n",
    "    dropout_data_ids = list(dropout_data[CLIENT])\n",
    "    for client_id in dropout_ids:\n",
    "        if client_id not in dropout_data_ids:\n",
    "            print(f\"missing dropout client id: {client_id}\")\n",
    "\n",
    "    completer_data_ids = list(completer_data[CLIENT])\n",
    "    for client_id in completer_ids:\n",
    "        if client_id not in completer_data_ids:\n",
    "            print(f\"missing completer client id: {client_id}\")\n",
    "            \n",
    "verify_data_completeness(dropout_data,completer_data,dropout_ids,completer_ids)"
   ]
  },
  {
   "cell_type": "code",
   "execution_count": 77,
   "metadata": {},
   "outputs": [],
   "source": [
    "def get_answer_values(dropout_data, completer_data, column_name):\n",
    "    nbr_of_dropouts = len(dropout_data.groupby(\"client\").groups)\n",
    "    nbr_of_completers = len(completer_data.groupby(\"client\").groups)\n",
    "    dropout_values = pd.DataFrame(dropout_data[dropout_data[\"answerId_normalized\"]==column_name],columns=[\"answerText\"]).groupby(\"answerText\").size()\n",
    "    completer_values = pd.DataFrame(completer_data[completer_data[\"answerId_normalized\"]==column_name],columns=[\"answerText\"]).groupby(\"answerText\").size()\n",
    "    nbr_of_missing = nbr_of_dropouts+nbr_of_completers\n",
    "    answer_values = {}\n",
    "    for key in dropout_values.index:\n",
    "        if not key in dropout_values:\n",
    "            dropout_values[key] = 0\n",
    "        if not key in completer_values:\n",
    "            completer_values[key] = 0\n",
    "        answer_values[key] = dropout_values[key]+completer_values[key]\n",
    "        nbr_of_missing -= dropout_values[key]+completer_values[key]\n",
    "    answer_values[\"MISSING\"] = nbr_of_missing\n",
    "    return(answer_values)"
   ]
  },
  {
   "cell_type": "markdown",
   "metadata": {},
   "source": [
    "### 1.1 Experiment with binary answer classes"
   ]
  },
  {
   "cell_type": "code",
   "execution_count": 9,
   "metadata": {},
   "outputs": [],
   "source": [
    "GESLACHT = \"geslacht\"\n",
    "GESLACHT0 = \"geslacht0\"\n",
    "GESLACHTT0 = \"geslachtt0\"\n",
    "NONQUESTIONS = \"^(goTo[0-9]|ltgeslacht1|doel)$\"\n",
    "EXCEPTIONANSWERID = \"mdoel\"\n",
    "\n",
    "def cleanup_answer_text(text):\n",
    "    if pd.isna(text): return(text)\n",
    "    text = str(text).lower()\n",
    "    text = re.sub(\"\\s+\",\" \",text)\n",
    "    text = text.strip()\n",
    "    return(text)\n",
    "\n",
    "def normalize_answer_id(answer_id, first_answer_id):\n",
    "    if first_answer_id == GESLACHT: \n",
    "        new_answer_id = answer_id\n",
    "    elif first_answer_id == GESLACHT0:\n",
    "        if re.search(\"0h$\",answer_id):\n",
    "            new_answer_id = re.sub(\"0h$\",\"h\",answer_id)\n",
    "        else:\n",
    "            new_answer_id = re.sub(\"0$\",\"\",answer_id)\n",
    "    elif first_answer_id == GESLACHTT0: \n",
    "        new_answer_id = re.sub(\"t0$\",\"\",answer_id)\n",
    "    else: \n",
    "        sys.exit(f\"unknown first answer id: {first_answer_id}!\")\n",
    "    if re.search(\"^(goTo[0-9]|ltgeslacht1|doel)$\",answer_id):\n",
    "        return(\"\")\n",
    "    if (first_answer_id != GESLACHT and new_answer_id == answer_id and \n",
    "        not answer_id == EXCEPTIONANSWERID and not re.search(NONQUESTIONS,answer_id)):\n",
    "        sys.exit(f\"first answer id {first_answer_id} did not change {answer_id}!\")\n",
    "    return(new_answer_id)"
   ]
  },
  {
   "cell_type": "code",
   "execution_count": 10,
   "metadata": {},
   "outputs": [],
   "source": [
    "def find_binary_answer_classes(dropout_data,completer_data):\n",
    "    answer_texts = {}\n",
    "    data = pd.concat([dropout_data,completer_data])\n",
    "    for i in range(0,len(data)):\n",
    "        client_id = data.iloc[i][CLIENT]\n",
    "        answer_text = cleanup_answer_text(data.iloc[i][ANSWERTEXT])\n",
    "        answer_title = cleanup_answer_text(data.iloc[i][ANSWERTITLE])\n",
    "        if pd.isna(answer_title): answer_title = \"\"\n",
    "        answer_id = str(data.iloc[i][ANSWERID])\n",
    "        answer_key = answer_id+\"#\"+answer_title\n",
    "        if not answer_key in answer_texts.keys(): answer_texts[answer_key] = []\n",
    "        if not answer_text in answer_texts[answer_key] and not pd.isna(answer_text) and not answer_text == \"removed\":\n",
    "            answer_texts[answer_key].append(answer_text)\n",
    "    results = []\n",
    "    for answer_key in answer_texts:\n",
    "        if len(answer_texts[answer_key]) == 2: \n",
    "            results.append((answer_key,answer_texts[answer_key]))\n",
    "    return(results)"
   ]
  },
  {
   "cell_type": "code",
   "execution_count": 11,
   "metadata": {},
   "outputs": [],
   "source": [
    "results = find_binary_answer_classes(dropout_data,completer_data)"
   ]
  },
  {
   "cell_type": "code",
   "execution_count": 84,
   "metadata": {},
   "outputs": [],
   "source": [
    "useful_column_names = []\n",
    "for column_name in [re.sub(\"#.*$\",\"\",results[i][0]) for i in range(0,len(results))]:\n",
    "    print(\"#####\", column_name)\n",
    "    answer_values = get_answer_values(dropout_data, completer_data, column_name)\n",
    "    for answer_value in answer_values:\n",
    "        print(answer_values[answer_value], answer_value)\n",
    "    if sum([answer_values[answer_value] for answer_value in answer_values if answer_value == \"MISSING\" or answer_value == \"REMOVED\"]) < 100:\n",
    "        useful_column_names.append(column_name)"
   ]
  },
  {
   "cell_type": "code",
   "execution_count": 81,
   "metadata": {},
   "outputs": [],
   "source": [
    "dropout_table = make_numeric(dropout_data[dropout_data[ANSWERID].isin([COLUMNS[i][ANSWER] for i in range(0,len(COLUMNS))])], useful_column_names)\n",
    "completer_table = make_numeric(completer_data[completer_data[ANSWERID].isin([COLUMNS[i][ANSWER] for i in range(0,len(COLUMNS))])], useful_column_names)"
   ]
  },
  {
   "cell_type": "code",
   "execution_count": 82,
   "metadata": {},
   "outputs": [],
   "source": [
    "from sklearn.feature_selection import f_classif\n",
    "import numpy as np\n",
    "from sklearn.impute import SimpleImputer\n",
    "\n",
    "def run_anova(dropout_table,completer_table):\n",
    "    X = dropout_table+completer_table\n",
    "    y = len(dropout_table)*[DROPOUTCODE]+len(completer_table)*[COMPLETERCODE]\n",
    "    imp = SimpleImputer(missing_values=np.nan, strategy='mean')\n",
    "    imp.fit(X)\n",
    "    F,p_values = f_classif(imp.transform(X),y)\n",
    "    return(p_values)\n",
    "\n",
    "def column_average(table,column_id):\n",
    "    return(np.average([row[column_id] for row in table if not np.isnan(row[column_id])]))\n",
    "\n",
    "def sort_p_values(p_values,column_names,dropout_table,completer_table):\n",
    "    return({column_names[i][ANSWER]:(p_values[i],column_names[i][COUNT],column_average(completer_table,i),column_average(dropout_table,i)) \n",
    "            for i in sorted(range(0,len(p_values)),key=lambda i:p_values[i])})"
   ]
  },
  {
   "cell_type": "code",
   "execution_count": 83,
   "metadata": {},
   "outputs": [
    {
     "name": "stderr",
     "output_type": "stream",
     "text": [
      "/home/erikt/anaconda3/lib/python3.6/site-packages/numpy/lib/function_base.py:393: RuntimeWarning: Mean of empty slice.\n",
      "  avg = a.mean(axis)\n",
      "/home/erikt/anaconda3/lib/python3.6/site-packages/numpy/core/_methods.py:161: RuntimeWarning: invalid value encountered in double_scalars\n",
      "  ret = ret.dtype.type(ret / rcount)\n"
     ]
    },
    {
     "data": {
      "text/plain": [
       "{'dsm3': (2.9135825385975323e-154,\n",
       "  1,\n",
       "  0.28205128205128205,\n",
       "  0.34169278996865204),\n",
       " 'opleidng': (1.1743989814453627e-51,\n",
       "  1,\n",
       "  0.7891737891737892,\n",
       "  0.31347962382445144),\n",
       " 'dsm4': (2.2330370574930088e-43, 1, 0.1282051282051282, 0.8605015673981191),\n",
       " 'dsm6': (2.3919162974087357e-21, 1, 0.6296296296296297, 0.5611285266457681),\n",
       " 'dsm7': (2.3418975342051173e-09, 1, 0.6752136752136753, 0.3667711598746082),\n",
       " 'dsm9': (0.0016659191960769453, 1, 0.4444444444444444, 0.6394984326018809),\n",
       " 'geslacht': (0.004705672286053419,\n",
       "  1,\n",
       "  0.38997214484679665,\n",
       "  0.4823348694316436),\n",
       " 'dsm8': (0.015039984707418842, 1, nan, nan),\n",
       " 'dsm5': (0.03650274804418443, 1, 0.7692307692307693, 0.33072100313479624),\n",
       " 'dag1': (0.036976955997104, 1, nan, nan),\n",
       " 'dsm11': (0.05119417140323804, 1, 0.06017191977077364, 0.10658307210031348),\n",
       " 'dsm2': (0.054631345137410435, 1, 0.14, 0.14937106918238993),\n",
       " 'medicijn': (0.14519363501303997,\n",
       "  1,\n",
       "  0.11396011396011396,\n",
       "  0.19122257053291536),\n",
       " 'leeftijd': (0.27449463245039607, 1, 0.05128205128205128, 0.0877742946708464),\n",
       " 'drugs': (0.31576367379540005, 1, 0.011396011396011397, 0.03134796238244514),\n",
       " 'dagritme': (0.6905504063965615, 1, 0.39886039886039887, 0.36363636363636365)}"
      ]
     },
     "execution_count": 83,
     "metadata": {},
     "output_type": "execute_result"
    }
   ],
   "source": [
    "p_values = run_anova(dropout_table,completer_table)\n",
    "sort_p_values(p_values,COLUMNS,dropout_table,completer_table)"
   ]
  },
  {
   "cell_type": "markdown",
   "metadata": {},
   "source": [
    "### 1.2 Experiment with all answer classes"
   ]
  },
  {
   "cell_type": "code",
   "execution_count": 16,
   "metadata": {},
   "outputs": [],
   "source": [
    "MINANSWERCOUNT = 10\n",
    "MAXPVALUE = 0.01\n",
    "ANSWER = \"answer\"\n",
    "COUNT = \"count\"\n",
    "\n",
    "def get_binary_answers(data):\n",
    "    answers_per_client = {}\n",
    "    for i in range(0,len(data)):\n",
    "        client_id = data.iloc[i][CLIENT]\n",
    "        if not client_id in answers_per_client:\n",
    "            answers_per_client[client_id] = []\n",
    "        answer_id = str(data.iloc[i][ANSWERID])\n",
    "        if re.search(NONQUESTIONS,answer_id): continue\n",
    "        answer_text = cleanup_answer_text(data.iloc[i][ANSWERTEXT])\n",
    "        answer_title = cleanup_answer_text(data.iloc[i][ANSWERTITLE])\n",
    "        if not pd.isna(answer_text): # and answer_text != \"removed\":\n",
    "            if pd.isna(answer_title): answer_title = \"\"\n",
    "            answers_per_client[client_id].append(answer_id+\"#\"+answer_title+\"#\"+answer_text)\n",
    "    return(answers_per_client)\n",
    "\n",
    "def count_answers(binary_answers):\n",
    "    answer_counts = {}\n",
    "    for client_id in binary_answers:\n",
    "        for answer in binary_answers[client_id]:\n",
    "            if answer in answer_counts:\n",
    "                answer_counts[answer] += 1\n",
    "            else:\n",
    "                answer_counts[answer] = 1\n",
    "    return({answer:answer_counts[answer] for answer in sorted(answer_counts.keys(),key=lambda a:answer_counts[a],reverse=True)})\n",
    "\n",
    "def make_binary_table(data,binary_answers):\n",
    "    answer_counts = count_answers(binary_answers)\n",
    "    binary_table = []\n",
    "    answers_used = []\n",
    "    for client_id in data[CLIENT].unique():\n",
    "        binary_table.append([])\n",
    "        for answer in answer_counts:\n",
    "            if answer_counts[answer] >= MINANSWERCOUNT:\n",
    "                if answer in binary_answers[client_id]:\n",
    "                    binary_table[-1].append(1)\n",
    "                else:\n",
    "                    binary_table[-1].append(0)\n",
    "    for answer in answer_counts:\n",
    "        if answer_counts[answer] >= MINANSWERCOUNT:\n",
    "            answers_used.append({ANSWER:answer, COUNT:answer_counts[answer]})\n",
    "    return(binary_table, answers_used)\n",
    "\n",
    "def convert_data_to_binary(dropout_data,completer_data):\n",
    "    all_data = pd.concat([dropout_data,completer_data])\n",
    "    binary_answers = get_binary_answers(all_data)\n",
    "    dropout_table_binary, answers_used = make_binary_table(dropout_data,binary_answers)\n",
    "    completer_table_binary, answers_used = make_binary_table(completer_data,binary_answers)\n",
    "    return(dropout_table_binary, completer_table_binary, answers_used, binary_answers)\n",
    "\n",
    "def select_p_values(p_values,column_names,dropout_table,completer_table):\n",
    "    return({column_names[i][ANSWER]:(p_values[i],column_average(completer_table,i),column_average(dropout_table,i)) \n",
    "            for i in sorted(range(0,len(p_values)),key=lambda i:p_values[i])\n",
    "            if column_average(completer_table,i) < column_average(dropout_table,i) and p_values[i] < MAXPVALUE})"
   ]
  },
  {
   "cell_type": "code",
   "execution_count": 17,
   "metadata": {},
   "outputs": [],
   "source": [
    "dropout_table_binary, completer_table_binary, answers_used, binary_answers = convert_data_to_binary(dropout_data,completer_data)"
   ]
  },
  {
   "cell_type": "code",
   "execution_count": 18,
   "metadata": {},
   "outputs": [
    {
     "data": {
      "text/plain": [
       "(1174, 1174, 1174, 1010)"
      ]
     },
     "execution_count": 18,
     "metadata": {},
     "output_type": "execute_result"
    }
   ],
   "source": [
    "len(dropout_table_binary[0]),len(completer_table_binary[0]),len(answers_used), len(binary_answers)"
   ]
  },
  {
   "cell_type": "code",
   "execution_count": 19,
   "metadata": {},
   "outputs": [],
   "source": [
    "p_values = run_anova(dropout_table_binary,completer_table_binary)"
   ]
  },
  {
   "cell_type": "code",
   "execution_count": 20,
   "metadata": {},
   "outputs": [
    {
     "data": {
      "text/plain": [
       "[('opiat##nee',\n",
       "  (5.940101708792509e-17, 240, 0.08913649025069638, 0.3195084485407066)),\n",
       " ('opiath##0',\n",
       "  (5.940101708792509e-17, 240, 0.08913649025069638, 0.3195084485407066)),\n",
       " ('mateicn10#10.had je gebrek aan onderdak of had je problemen met huisvesting?#niet / geen',\n",
       "  (6.94472981470106e-17, 236, 0.08635097493036212, 0.31490015360983103)),\n",
       " ('national##nederlands',\n",
       "  (8.719316831085801e-17, 239, 0.08913649025069638, 0.31797235023041476)),\n",
       " ('gokken##nee',\n",
       "  (9.843857591931877e-17, 716, 0.8662952646239555, 0.6221198156682027)),\n",
       " ('mateicn13#13.had je er moeite mee voor een veilige slaapplaats of voor beschermende kleding te zorgen?#niet / geen',\n",
       "  (1.277725495106288e-16, 238, 0.08913649025069638, 0.31643625192012287)),\n",
       " ('nan##-1',\n",
       "  (1.5524613433478835e-16, 341, 0.07799442896935933, 0.2995391705069124)),\n",
       " ('ghb##nee',\n",
       "  (3.9803276216290714e-16, 235, 0.08913649025069638, 0.3118279569892473)),\n",
       " ('ghbh##0',\n",
       "  (3.9803276216290714e-16, 235, 0.08913649025069638, 0.3118279569892473)),\n",
       " ('cultherk##nederlands',\n",
       "  (5.793707821605359e-16, 234, 0.08913649025069638, 0.3102918586789555))]"
      ]
     },
     "execution_count": 20,
     "metadata": {},
     "output_type": "execute_result"
    }
   ],
   "source": [
    "list(sort_p_values(p_values,answers_used,dropout_table_binary,completer_table_binary).items())[:10]"
   ]
  },
  {
   "cell_type": "code",
   "execution_count": 21,
   "metadata": {},
   "outputs": [
    {
     "name": "stdout",
     "output_type": "stream",
     "text": [
      "opiat 0 245 0\n",
      "opiath 0 0 0\n",
      "mateicn10 245 245 0\n",
      "national 0 245 0\n",
      "gokken 706 0 38\n",
      "mateicn13 0 245 0\n"
     ]
    }
   ],
   "source": [
    "def print_answer_ids_freqs(dropout_data,completer_data):\n",
    "    all_data = pd.concat([dropout_data,completer_data])\n",
    "    for answer_combi in [\"opiat##nee\",\"opiath##0\",\"mateicn10#10.had je gebrek aan onderdak of had je problemen met huisvesting?#niet / geen\",\n",
    "                         \"national##nederlands\",\"gokken##nee\",\n",
    "                         \"mateicn13#13.had je er moeite mee voor een veilige slaapplaats of voor beschermende kleding te zorgen?#niet / geen\"]:\n",
    "        answer = answer_combi.split(\"#\")[0]\n",
    "        print(answer,\n",
    "              len(all_data[all_data[ANSWERIDORIGINAL]==answer]),\n",
    "              len(all_data[all_data[ANSWERIDORIGINAL]==answer+\"0\"]),\n",
    "              len(all_data[all_data[ANSWERIDORIGINAL]==answer+\"t0\"]))\n",
    "        \n",
    "print_answer_ids_freqs(dropout_data,completer_data)"
   ]
  },
  {
   "cell_type": "code",
   "execution_count": 22,
   "metadata": {},
   "outputs": [
    {
     "name": "stdout",
     "output_type": "stream",
     "text": [
      "321\n"
     ]
    }
   ],
   "source": [
    "dropout_predictors = list(select_p_values(p_values,answers_used,dropout_table_binary,completer_table_binary).keys())\n",
    "print(len(dropout_predictors))"
   ]
  },
  {
   "cell_type": "code",
   "execution_count": 23,
   "metadata": {},
   "outputs": [],
   "source": [
    "def get_dropout_predictor_scores(data,dropout_predictors,binary_answers,questionnaire_types):\n",
    "    scores = []\n",
    "    for client_id in data[CLIENT].unique():\n",
    "        score = 0\n",
    "        for predictor in dropout_predictors:\n",
    "            if predictor in binary_answers[client_id]: \n",
    "                score += 1\n",
    "        scores.append((score,client_id,questionnaire_types[client_id]))\n",
    "    return(scores)\n",
    "\n",
    "def get_questionnaire_types(all_data):\n",
    "    questionnaire_types = {}\n",
    "    for i,row in all_data.iterrows():\n",
    "        client_id = row[CLIENT]\n",
    "        if not client_id in questionnaire_types: questionnaire_types[client_id] = 0\n",
    "        questionnaire_types[client_id] += 1\n",
    "    return(questionnaire_types)"
   ]
  },
  {
   "cell_type": "code",
   "execution_count": 24,
   "metadata": {},
   "outputs": [
    {
     "name": "stdout",
     "output_type": "stream",
     "text": [
      "[121, 120, 119, 117, 117, 117, 116, 116, 116, 116, 116, 115, 115, 115, 115, 114, 114, 114, 114, 114, 113, 113, 113, 113, 113, 113, 112, 112, 112, 112, 112, 111, 111, 111, 111, 111, 111, 110, 110, 110, 110, 110, 110, 110, 110, 110, 110, 110, 109, 109, 109, 109, 109, 109, 109, 109, 109, 109, 109, 109, 109, 109, 109, 109, 109, 109, 109, 109, 109, 108, 108, 108, 108, 108, 108, 108, 108, 108, 108, 108, 108, 108, 108, 108, 107, 107, 107, 107, 107, 107, 107, 107, 107, 107, 107, 107, 107, 107, 106, 106, 106, 106, 106, 106, 106, 106, 106, 106, 106, 106, 106, 106, 106, 106, 106, 106, 106, 106, 106, 106, 105, 105, 105, 105, 105, 105, 105, 105, 105, 105, 105, 105, 105, 105, 105, 105, 105, 105, 105, 105, 105, 105, 105, 105, 105, 104, 104, 104, 104, 104, 104, 104, 104, 104, 103, 103, 103, 103, 103, 103, 103, 103, 103, 103, 103, 103, 102, 102, 102, 102, 102, 102, 102, 102, 101, 101, 101, 101, 100, 100, 100, 100, 100, 100, 100, 99, 99, 99, 99, 99, 99, 99, 99, 98, 98, 98, 97, 97, 97, 96, 96, 96, 94, 92, 92, 91, 91, 91, 91, 90, 90, 89, 89, 24, 23, 23, 22, 22, 22, 21, 21, 20, 20, 19, 18, 18, 17, 5, 5, 5, 5, 4, 4, 4, 4, 4, 4, 4, 4, 4, 4, 4, 4, 4, 4, 4, 4, 4, 4, 4, 4, 4, 4, 4, 4, 4, 4, 4, 4, 4, 3, 3, 3, 3, 3, 3, 3, 3, 3, 3, 3, 3, 3, 3, 3, 3, 3, 3, 3, 3, 3, 3, 3, 3, 3, 3, 3, 3, 3, 3, 3, 3, 3, 3, 3, 3, 3, 3, 3, 3, 3, 3, 3, 3, 3, 3, 3, 3, 3, 3, 3, 3, 3, 3, 3, 3, 3, 3, 3, 3, 3, 3, 3, 3, 3, 3, 3, 3, 3, 3, 3, 3, 3, 3, 3, 3, 3, 3, 3, 3, 3, 3, 3, 3, 2, 2, 2, 2, 2, 2, 2, 2, 2, 2, 2, 2, 2, 2, 2, 2, 2, 2, 2, 2, 2, 2, 2, 2, 2, 2, 2, 2, 2, 2, 2, 2, 2, 2, 2, 2, 2, 2, 2, 2, 2, 2, 2, 2, 2, 2, 2, 2, 2, 2, 2, 2, 2, 2, 2, 2, 2, 2, 2, 2, 2, 2, 2, 2, 2, 2, 2, 2, 2, 2, 2, 2, 2, 2, 2, 2, 2, 2, 2, 2, 2, 2, 2, 2, 2, 2, 2, 2, 2, 2, 2, 2, 2, 2, 2, 2, 2, 2, 2, 2, 2, 2, 2, 2, 2, 2, 2, 2, 2, 2, 2, 2, 2, 2, 2, 2, 2, 2, 2, 2, 2, 2, 2, 2, 2, 2, 2, 2, 2, 2, 2, 2, 2, 2, 2, 2, 2, 2, 2, 2, 2, 2, 2, 1, 1, 1, 1, 1, 1, 1, 1, 1, 1, 1, 1, 1, 1, 1, 1, 1, 1, 1, 1, 1, 1, 1, 1, 1, 1, 1, 1, 1, 1, 1, 1, 1, 1, 1, 1, 1, 1, 1, 1, 1, 1, 1, 1, 1, 1, 1, 1, 1, 1, 1, 1, 1, 1, 1, 1, 1, 1, 1, 1, 1, 1, 1, 1, 1, 1, 1, 1, 1, 1, 1, 1, 1, 1, 1, 1, 1, 1, 1, 1, 1, 1, 1, 1, 1, 1, 1, 1, 1, 1, 1, 1, 1, 1, 1, 1, 1, 1, 1, 1, 1, 1, 1, 1, 1, 1, 1, 1, 1, 0, 0, 0, 0, 0, 0, 0, 0, 0, 0, 0, 0, 0, 0, 0, 0, 0, 0, 0, 0, 0, 0, 0, 0, 0, 0, 0, 0, 0, 0, 0, 0, 0, 0, 0, 0, 0, 0, 0, 0, 0, 0, 0, 0, 0, 0, 0, 0, 0, 0, 0, 0, 0, 0, 0]\n",
      "[113, 108, 107, 106, 105, 104, 103, 102, 102, 102, 101, 101, 101, 100, 100, 100, 100, 100, 100, 99, 98, 98, 98, 98, 98, 98, 97, 97, 96, 95, 93, 89, 25, 25, 24, 24, 24, 23, 23, 23, 22, 22, 21, 21, 21, 20, 20, 19, 19, 19, 19, 19, 19, 18, 17, 15, 5, 4, 4, 4, 4, 4, 4, 4, 4, 4, 4, 4, 4, 4, 4, 4, 4, 4, 3, 3, 3, 3, 3, 3, 3, 3, 3, 3, 3, 3, 3, 3, 3, 3, 3, 3, 3, 3, 3, 3, 3, 3, 3, 3, 3, 3, 3, 3, 3, 3, 3, 3, 3, 2, 2, 2, 2, 2, 2, 2, 2, 2, 2, 2, 2, 2, 2, 2, 2, 2, 2, 2, 2, 2, 2, 2, 2, 2, 2, 2, 2, 2, 2, 2, 2, 2, 2, 2, 2, 2, 2, 2, 2, 2, 2, 2, 2, 2, 2, 2, 2, 2, 2, 2, 2, 2, 2, 2, 2, 2, 2, 2, 2, 2, 2, 2, 2, 2, 2, 2, 2, 2, 2, 2, 2, 2, 2, 2, 2, 2, 2, 2, 2, 2, 2, 2, 2, 1, 1, 1, 1, 1, 1, 1, 1, 1, 1, 1, 1, 1, 1, 1, 1, 1, 1, 1, 1, 1, 1, 1, 1, 1, 1, 1, 1, 1, 1, 1, 1, 1, 1, 1, 1, 1, 1, 1, 1, 1, 1, 1, 1, 1, 1, 1, 1, 1, 1, 1, 1, 1, 1, 1, 1, 1, 1, 1, 1, 1, 1, 1, 1, 1, 1, 1, 1, 1, 1, 1, 1, 1, 1, 1, 1, 1, 1, 1, 1, 1, 1, 1, 1, 1, 1, 1, 1, 1, 1, 1, 1, 1, 1, 1, 1, 1, 1, 1, 1, 1, 1, 0, 0, 0, 0, 0, 0, 0, 0, 0, 0, 0, 0, 0, 0, 0, 0, 0, 0, 0, 0, 0, 0, 0, 0, 0, 0, 0, 0, 0, 0, 0, 0, 0, 0, 0, 0, 0, 0, 0, 0, 0, 0, 0, 0, 0, 0, 0, 0, 0, 0, 0, 0, 0, 0, 0, 0, 0, 0, 0, 0, 0, 0, 0, 0]\n"
     ]
    }
   ],
   "source": [
    "questionnaire_types = get_questionnaire_types(all_data)\n",
    "dropout_predictor_scores_dropout = get_dropout_predictor_scores(dropout_data,dropout_predictors,binary_answers,questionnaire_types)\n",
    "dropout_predictor_scores_completer = get_dropout_predictor_scores(completer_data,dropout_predictors,binary_answers,questionnaire_types)\n",
    "print([score_tuple[0] for score_tuple in sorted(dropout_predictor_scores_dropout,key=lambda s:s[0],reverse=True)])\n",
    "print([score_tuple[0] for score_tuple in sorted(dropout_predictor_scores_completer,key=lambda s:s[0],reverse=True)])"
   ]
  },
  {
   "cell_type": "code",
   "execution_count": 25,
   "metadata": {},
   "outputs": [
    {
     "name": "stdout",
     "output_type": "stream",
     "text": [
      "[(121, 'AdB0669', 259), (120, 'AdB0469', 259), (119, 'AdB0229', 259), (117, 'AdB0255', 259), (117, 'AdB1115', 259), (117, 'AdB1784', 259), (116, 'AdB1082', 259), (116, 'AdB1087', 259), (116, 'AdB1221', 259), (116, 'AdB1434', 259), (116, 'AdB1701', 259), (115, 'AdB0088', 259), (115, 'AdB1032', 259), (115, 'AdB1342', 259), (115, 'AdB1785', 259), (114, 'AdB0279', 259), (114, 'AdB0662', 259), (114, 'AdB0874', 259), (114, 'AdB1128', 259), (114, 'AdB1204', 259), (113, 'AdB0067', 259), (113, 'AdB0700', 259), (113, 'AdB1265', 259), (113, 'AdB1454', 259), (113, 'AdB1537', 259), (113, 'AdB1831', 259), (112, 'AdB0274', 259), (112, 'AdB0371', 259), (112, 'AdB0405', 259), (112, 'AdB1147', 259), (112, 'AdB1911', 259), (111, 'AdB0069', 259), (111, 'AdB0097', 259), (111, 'AdB0259', 259), (111, 'AdB0860', 259), (111, 'AdB1303', 259), (111, 'AdB1884', 259), (110, 'AdB0258', 259), (110, 'AdB0286', 259), (110, 'AdB0907', 259), (110, 'AdB0957', 259), (110, 'AdB1046', 259), (110, 'AdB1357', 259), (110, 'AdB1392', 259), (110, 'AdB1600', 259), (110, 'AdB1694', 259), (110, 'AdB1699', 259), (110, 'AdB1927', 259), (109, 'AdB0510', 259), (109, 'AdB0541', 259), (109, 'AdB0725', 259), (109, 'AdB0796', 259), (109, 'AdB0892', 259), (109, 'AdB0904', 259), (109, 'AdB0974', 259), (109, 'AdB0979', 259), (109, 'AdB1074', 259), (109, 'AdB1132', 259), (109, 'AdB1172', 259), (109, 'AdB1235', 259), (109, 'AdB1249', 259), (109, 'AdB1331', 259), (109, 'AdB1333', 259), (109, 'AdB1407', 259), (109, 'AdB1577', 259), (109, 'AdB1583', 259), (109, 'AdB1662', 259), (109, 'AdB1667', 259), (109, 'AdB1856', 259), (108, 'AdB0041', 259), (108, 'AdB0099', 259), (108, 'AdB0526', 259), (108, 'AdB0764', 259), (108, 'AdB0999', 259), (108, 'AdB1097', 259), (108, 'AdB1140', 259), (108, 'AdB1178', 259), (108, 'AdB1264', 259), (108, 'AdB1501', 259), (108, 'AdB1575', 259), (108, 'AdB1786', 259), (108, 'AdB1805', 259), (108, 'AdB1817', 259), (108, 'AdB1823', 259), (107, 'AdB0194', 259), (107, 'AdB0207', 259), (107, 'AdB0458', 259), (107, 'AdB0498', 259), (107, 'AdB0729', 259), (107, 'AdB0756', 259), (107, 'AdB0889', 259), (107, 'AdB0896', 259), (107, 'AdB0990', 259), (107, 'AdB1190', 259), (107, 'AdB1313', 259), (107, 'AdB1380', 259), (107, 'AdB1566', 259), (107, 'AdB1642', 259), (106, 'AdB0074', 259), (106, 'AdB0224', 259), (106, 'AdB0243', 259), (106, 'AdB0558', 259), (106, 'AdB0613', 259), (106, 'AdB0660', 259)]\n",
      "[(113, 'AdB1899', 259), (108, 'AdB0484', 259), (107, 'AdB1739', 259), (106, 'AdB0515', 259), (105, 'AdB0181', 259)]\n"
     ]
    }
   ],
   "source": [
    "print([score_tuple for score_tuple in sorted(dropout_predictor_scores_dropout,key=lambda s:s[0],reverse=True)][:104])\n",
    "print([score_tuple for score_tuple in sorted(dropout_predictor_scores_completer,key=lambda s:s[0],reverse=True)][:5])"
   ]
  },
  {
   "cell_type": "code",
   "execution_count": 26,
   "metadata": {},
   "outputs": [
    {
     "name": "stdout",
     "output_type": "stream",
     "text": [
      "selected 104: 3 completed: 0.9711538461538461\n",
      "selected 245: 32 completed: 0.8693877551020408\n"
     ]
    }
   ],
   "source": [
    "print(f\"selected 104: 3 completed: {(104-3)/104}\")\n",
    "print(f\"selected 245: 32 completed: {(245-32)/245}\")"
   ]
  },
  {
   "cell_type": "code",
   "execution_count": 27,
   "metadata": {},
   "outputs": [
    {
     "data": {
      "text/plain": [
       "{27: 21, 140: 706, 236: 38, 259: 245}"
      ]
     },
     "execution_count": 27,
     "metadata": {},
     "output_type": "execute_result"
    }
   ],
   "source": [
    "groups = pd.DataFrame.from_dict(questionnaire_types,orient=\"index\").groupby(0).groups\n",
    "{g:len(groups[g]) for g in groups}"
   ]
  },
  {
   "cell_type": "markdown",
   "metadata": {},
   "source": [
    "## Visualization"
   ]
  },
  {
   "cell_type": "code",
   "execution_count": 28,
   "metadata": {},
   "outputs": [],
   "source": [
    "import numpy as np\n",
    "from sklearn.manifold import TSNE"
   ]
  },
  {
   "cell_type": "code",
   "execution_count": 29,
   "metadata": {},
   "outputs": [],
   "source": [
    "def print_shape(table):\n",
    "    print(len(table),len(table[0]))"
   ]
  },
  {
   "cell_type": "code",
   "execution_count": 30,
   "metadata": {},
   "outputs": [],
   "source": [
    "def select_columns(dropout_table,completer_table,p_values):\n",
    "    column_average_dropout = []\n",
    "    column_average_completer = []\n",
    "    for i in range(0,len(p_values)):\n",
    "        column_average_dropout.append(column_average(dropout_table,i))\n",
    "        column_average_completer.append(column_average(completer_table,i))\n",
    "    table_in = dropout_table+completer_table\n",
    "    table_out = []\n",
    "    for row_in in table_in:\n",
    "        row_out = [row_in[i] for i in range(0,len(row_in)) \n",
    "                   if p_values[i] < MAXPVALUE and\n",
    "                   column_average_completer[i] < column_average_dropout[i]]\n",
    "        table_out.append(row_out)\n",
    "    return(table_out)"
   ]
  },
  {
   "cell_type": "code",
   "execution_count": 31,
   "metadata": {},
   "outputs": [],
   "source": [
    "table_dropout_selectors = select_columns(dropout_table_binary,completer_table_binary,p_values)\n",
    "table_dropout_selectors_dropout = table_dropout_selectors[:len(dropout_table_binary)]\n",
    "table_dropout_selectors_completer = table_dropout_selectors[len(dropout_table_binary):]"
   ]
  },
  {
   "cell_type": "code",
   "execution_count": 32,
   "metadata": {},
   "outputs": [],
   "source": [
    "all_data_array = np.array(dropout_table_binary+completer_table_binary)\n",
    "all_data_coordinates = TSNE(n_components=2).fit_transform(all_data_array)\n",
    "dropout_coordinates = all_data_coordinates[:len(dropout_table_binary)]\n",
    "completer_coordinates = all_data_coordinates[len(dropout_table_binary):]"
   ]
  },
  {
   "cell_type": "code",
   "execution_count": 33,
   "metadata": {},
   "outputs": [
    {
     "name": "stdout",
     "output_type": "stream",
     "text": [
      "1010 2\n",
      "359 2\n",
      "651 2\n"
     ]
    }
   ],
   "source": [
    "print_shape(all_data_coordinates)\n",
    "print_shape(completer_coordinates)\n",
    "print_shape(dropout_coordinates)"
   ]
  },
  {
   "cell_type": "code",
   "execution_count": 34,
   "metadata": {},
   "outputs": [
    {
     "data": {
      "image/png": "[encoded data removed]",
      "text/plain": [
       "<Figure size 864x288 with 2 Axes>"
      ]
     },
     "metadata": {},
     "output_type": "display_data"
    }
   ],
   "source": [
    "import matplotlib.pyplot as plt\n",
    "\n",
    "fig,(ax1,ax2) = plt.subplots(1,2,figsize=(12,4))\n",
    "x = [completer_coordinates[i][0] for i in range(0,len(completer_coordinates))]\n",
    "y = [completer_coordinates[i][1] for i in range(0,len(completer_coordinates))]\n",
    "ax1.scatter(x,y,s=10,label=\"completer\")\n",
    "x = [dropout_coordinates[i][0] for i in range(0,len(dropout_coordinates))]\n",
    "y = [dropout_coordinates[i][1] for i in range(0,len(dropout_coordinates))]\n",
    "ax1.scatter(x,y,s=10,label=\"dropout\")\n",
    "ax1.legend(framealpha=0.5)\n",
    "\n",
    "ax1.set_xticks([])\n",
    "ax1.set_yticks([])\n",
    "ax2.set_xticks([])\n",
    "ax2.set_yticks([])\n",
    "questionnaire_types_list = list(questionnaire_types.values())\n",
    "for questionnaire_type in set(questionnaire_types.values()):\n",
    "    x = [all_data_coordinates[i][0] for i in range(0,len(all_data_coordinates)) if questionnaire_types_list[i] == questionnaire_type] \n",
    "    y = [all_data_coordinates[i][1] for i in range(0,len(all_data_coordinates)) if questionnaire_types_list[i] == questionnaire_type]\n",
    "    ax2.scatter(x,y,s=10,label=questionnaire_type)\n",
    "ax2.legend(framealpha=0.5)\n",
    "plt.show()"
   ]
  },
  {
   "cell_type": "code",
   "execution_count": null,
   "metadata": {},
   "outputs": [],
   "source": []
  }
 ],
 "metadata": {
  "kernelspec": {
   "display_name": "Python 3",
   "language": "python",
   "name": "python3"
  },
  "language_info": {
   "codemirror_mode": {
    "name": "ipython",
    "version": 3
   },
   "file_extension": ".py",
   "mimetype": "text/x-python",
   "name": "python",
   "nbconvert_exporter": "python",
   "pygments_lexer": "ipython3",
   "version": "3.6.11"
  }
 },
 "nbformat": 4,
 "nbformat_minor": 4
}
