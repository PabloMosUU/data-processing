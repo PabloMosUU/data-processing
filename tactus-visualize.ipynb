{
 "cells": [
  {
   "cell_type": "markdown",
   "metadata": {},
   "source": [
    "# Visualization of English Tactus Data"
   ]
  },
  {
   "cell_type": "markdown",
   "metadata": {},
   "source": [
    "The first block of code contains the code of the function that reads the data."
   ]
  },
  {
   "cell_type": "code",
   "execution_count": null,
   "metadata": {
    "collapsed": true
   },
   "outputs": [],
   "source": [
    "import csv\n",
    "\n",
    "def readData(inFileName):\n",
    "    inFile = open(inFileName,\"r\")\n",
    "    data = []\n",
    "    csvReader = csv.DictReader(inFile,delimiter=\",\")\n",
    "    for row in csvReader:\n",
    "        if row[\"DATE\"] in clientDatesList1: data.append(row)\n",
    "    inFile.close()\n",
    "    return(data)"
   ]
  },
  {
   "cell_type": "markdown",
   "metadata": {},
   "source": [
    "The second code block holds the function that selects the data from the fields we want to visualize. Each field data item is a list with numbers: how often each type of word was seen in each of the mails. Since one mail can be longer than another, we will use percentages in the data visualization. Therefore, we divide each number by the total number of words of each mail (NBROFTOKENS). "
   ]
  },
  {
   "cell_type": "code",
   "execution_count": null,
   "metadata": {
    "collapsed": true
   },
   "outputs": [],
   "source": [
    "import sys\n",
    "\n",
    "NBROFTOKENS = \"NBROFTOKENS\"\n",
    "\n",
    "def selectData(data,fieldNameList):\n",
    "    fieldDataList = []\n",
    "    for fieldName in fieldNameList:\n",
    "        if not fieldName in data[0]: sys.exit(\"unknown field name: \"+fieldName)\n",
    "        fieldData = [float(data[i][fieldName])/float(data[i][NBROFTOKENS]) for i in range(0,len(data))]\n",
    "        fieldDataList.append(fieldData)\n",
    "    return(fieldDataList)"
   ]
  },
  {
   "cell_type": "markdown",
   "metadata": {},
   "source": [
    "The data will be visualized as a stacked bar plot by the three functions in the third code block. The y-values shown in the plot are fractions: 0.01 corresponds to 1%. The data visualization is automatically saved in the file tactus.png. You can use this image file for presentations."
   ]
  },
  {
   "cell_type": "code",
   "execution_count": null,
   "metadata": {
    "collapsed": true
   },
   "outputs": [],
   "source": [
    "import matplotlib.pyplot as plt\n",
    "\n",
    "PLOTWIDTH = 15\n",
    "PLOTHEIGHT = 4\n",
    "IMAGEFILE = \"tactus.png\"\n",
    "\n",
    "def makeBottomValues(fieldDataList,index):\n",
    "    bottomValues = []\n",
    "    for i in range(0,len(fieldDataList)):\n",
    "        for j in range(0,len(fieldDataList[i])):\n",
    "            while len(bottomValues) < j+1: bottomValues.append(0)\n",
    "            if i < index: bottomValues[j] += fieldDataList[i][j]\n",
    "    return(bottomValues)\n",
    "\n",
    "def makePlot(fieldDataList,fieldNames):\n",
    "    plt.figure(figsize=(PLOTWIDTH,PLOTHEIGHT))\n",
    "    xvalues = range(0,len(fieldDataList[0]))\n",
    "    barplots = []\n",
    "    for i in range(0,len(fieldDataList)):\n",
    "        bottomValues = makeBottomValues(fieldDataList,i)\n",
    "        barplot = plt.bar(xvalues,fieldDataList[i],bottom=bottomValues)\n",
    "        barplots.append(barplot)\n",
    "    plt.legend(tuple([b[0] for b in barplots]),tuple(fieldNames))\n",
    "    plt.xticks(xvalues,[x+1 for x in xvalues])\n",
    "    plt.savefig(IMAGEFILE)\n",
    "    plt.show()\n",
    "    \n",
    "def visualize(inFileName,fieldNameList):\n",
    "    data = readData(inFileName)\n",
    "    fieldDataList = selectData(data,fieldNameList)\n",
    "    makePlot(fieldDataList,fieldNameList)"
   ]
  },
  {
   "cell_type": "markdown",
   "metadata": {},
   "source": [
    "Next, the name of the input file is defined. Furthermore, the dates and times of mails written by clients are specified in a list. Then we call the visualization function with as arguments the name of the input file and a list of fields that we want to visualize."
   ]
  },
  {
   "cell_type": "code",
   "execution_count": null,
   "metadata": {},
   "outputs": [],
   "source": [
    "INFILENAME1 = \"1.txt\"\n",
    "clientDatesList1 = [\"2010-05-06T12:52:39\",\"2010-05-10T18:21:37\",\"2010-05-31T23:58:56\"]\n",
    "\n",
    "visualize(INFILENAME1,[\"social\",\"affect\",\"cogproc\",\"percept\",\"bio\"])"
   ]
  },
  {
   "cell_type": "code",
   "execution_count": null,
   "metadata": {
    "collapsed": true
   },
   "outputs": [],
   "source": []
  }
 ],
 "metadata": {
  "kernelspec": {
   "display_name": "Python 3",
   "language": "python",
   "name": "python3"
  },
  "language_info": {
   "codemirror_mode": {
    "name": "ipython",
    "version": 3
   },
   "file_extension": ".py",
   "mimetype": "text/x-python",
   "name": "python",
   "nbconvert_exporter": "python",
   "pygments_lexer": "ipython3",
   "version": "3.6.1"
  }
 },
 "nbformat": 4,
 "nbformat_minor": 2
}
