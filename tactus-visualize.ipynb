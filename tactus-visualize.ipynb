{
 "cells": [
  {
   "cell_type": "markdown",
   "metadata": {},
   "source": [
    "# Visualizing English Tactus Data"
   ]
  },
  {
   "cell_type": "markdown",
   "metadata": {},
   "source": [
    "The first block of code contains the code of the function that reads the data."
   ]
  },
  {
   "cell_type": "code",
   "execution_count": null,
   "metadata": {
    "collapsed": true
   },
   "outputs": [],
   "source": [
    "import csv\n",
    "\n",
    "CLIENT = \"CLIENT\"\n",
    "DATE = \"DATE\"\n",
    "NBROFSENTS = \"NBROFSENTS\"\n",
    "NBROFTOKENS = \"NBROFTOKENS\"\n",
    "SENDER = \"Sender\"\n",
    "\n",
    "def removeMetaData(row):\n",
    "    if DATE in row: del(row[DATE])\n",
    "    if NBROFSENTS in row: del(row[NBROFSENTS])\n",
    "    if SENDER in row: del(row[SENDER])\n",
    "    return(row)\n",
    "\n",
    "def readData(inFileName):\n",
    "    inFile = open(inFileName,\"r\")\n",
    "    data = []\n",
    "    csvReader = csv.DictReader(inFile,delimiter=\",\")\n",
    "    for row in csvReader:\n",
    "        if (DATE in row and row[DATE] in clientDatesList1) or \\\n",
    "           (SENDER in row and row[SENDER] == CLIENT): data.append(removeMetaData(row))\n",
    "    inFile.close()\n",
    "    return(data)"
   ]
  },
  {
   "cell_type": "markdown",
   "metadata": {},
   "source": [
    "The second code block holds the function that selects the data from the fields we want to visualize. Each field data item is a list with numbers: how often each type of word was seen in each of the mails. Since one mail can be longer than another, we will use percentages in the data visualization. Therefore, we divide each number by the total number of words of each mail (NBROFTOKENS). "
   ]
  },
  {
   "cell_type": "code",
   "execution_count": null,
   "metadata": {
    "collapsed": true
   },
   "outputs": [],
   "source": [
    "import sys\n",
    "\n",
    "NBROFTOKENS = \"NBROFTOKENS\"\n",
    "\n",
    "def selectData(data,fieldNameList):\n",
    "    fieldDataList = []\n",
    "    for fieldName in fieldNameList:\n",
    "        if not fieldName in data[0]: sys.exit(\"unknown field name: \"+fieldName)\n",
    "        fieldData = [float(data[i][fieldName])/float(data[i][NBROFTOKENS]) for i in range(0,len(data))]\n",
    "        fieldDataList.append(fieldData)\n",
    "    return(fieldDataList)"
   ]
  },
  {
   "cell_type": "markdown",
   "metadata": {},
   "source": [
    "The data will be visualized as a stacked bar plot by the three functions in the third code block. The y-values shown in the plot are fractions: 0.01 corresponds to 1%. The data visualization is automatically saved in the file tactus.png. You can use this image file for presentations."
   ]
  },
  {
   "cell_type": "code",
   "execution_count": null,
   "metadata": {
    "collapsed": true
   },
   "outputs": [],
   "source": [
    "import matplotlib.pyplot as plt\n",
    "\n",
    "PLOTWIDTH = 15\n",
    "PLOTHEIGHT = 4\n",
    "BARWIDTH = 1.0\n",
    "IMAGEFILE = \"tactus.png\"\n",
    "\n",
    "def makeBottomValues(fieldDataList,index):\n",
    "    bottomValues = []\n",
    "    for i in range(0,len(fieldDataList)):\n",
    "        for j in range(0,len(fieldDataList[i])):\n",
    "            while len(bottomValues) < j+1: bottomValues.append(0)\n",
    "            if i < index: bottomValues[j] += fieldDataList[i][j]\n",
    "    return(bottomValues)\n",
    "\n",
    "def makePlot(fieldDataList,fieldNames):\n",
    "    plt.figure(figsize=(PLOTWIDTH,PLOTHEIGHT))\n",
    "    xvalues = range(0,len(fieldDataList[0]))\n",
    "    barplots = []\n",
    "    for i in range(0,len(fieldDataList)):\n",
    "        bottomValues = makeBottomValues(fieldDataList,i)\n",
    "        barplot = plt.bar(xvalues,fieldDataList[i],width=BARWIDTH,bottom=bottomValues)\n",
    "        barplots.append(barplot)\n",
    "    plt.legend(tuple([b[0] for b in barplots]),tuple(fieldNames))\n",
    "    plt.xticks(xvalues,[x+1 for x in xvalues])\n",
    "    plt.savefig(IMAGEFILE)\n",
    "    plt.show()\n",
    "    \n",
    "def visualize(inFileName,fieldNameList):\n",
    "    data = readData(inFileName)\n",
    "    fieldDataList = selectData(data,fieldNameList)\n",
    "    makePlot(fieldDataList,fieldNameList)"
   ]
  },
  {
   "cell_type": "markdown",
   "metadata": {},
   "source": [
    "The function summarize presents a list of feature names together with their frequency. Thus we can observe which feature names are interesting in a certain file. WIth summarizeMail, we obtain the frequencies of the features for a single mail. And summarizeFeature provides the frequencies of a single feature per mail."
   ]
  },
  {
   "cell_type": "code",
   "execution_count": null,
   "metadata": {},
   "outputs": [],
   "source": [
    "import operator\n",
    "\n",
    "DATA = \"DATA\"\n",
    "FEATURE = \"FEATURE\"\n",
    "MAIL = \"MAIL\"\n",
    "\n",
    "def summarizeDataFeature(data,featureName):\n",
    "    return({i+1:float(data[i][featureName])/float(data[i][NBROFTOKENS]) \\\n",
    "            for i in range(0,len(data)) if featureName in data[i]})\n",
    "\n",
    "def summarizeDataMail(data,mailId):\n",
    "    summary = {}\n",
    "    if mailId >= 0 and mailId < len(data):\n",
    "        row = data[mailId]\n",
    "        for featureName in row:\n",
    "            if row[featureName].isdigit():\n",
    "                if featureName in summary: summary[featureName] += float(row[featureName])/float(row[NBROFTOKENS])\n",
    "                else: summary[featureName] = float(row[featureName])/float(row[NBROFTOKENS])\n",
    "    return(summary)\n",
    "\n",
    "def summarizeData(data):\n",
    "    summary = {}\n",
    "    for row in data:\n",
    "        for featureName in row:\n",
    "            if row[featureName].isdigit() :\n",
    "                if featureName in summary: summary[featureName] += int(row[featureName])\n",
    "                else: summary[featureName] = int(row[featureName])\n",
    "    return(summary)\n",
    "\n",
    "def printSummary(summary,type=DATA):\n",
    "    for element in sorted(summary.items(), key=operator.itemgetter(1),reverse=True):\n",
    "        featureName,frequency = element\n",
    "        if featureName != NBROFTOKENS: \n",
    "            if type != DATA: print(\"%5.2f%% %s\" % (100.0*frequency,featureName))\n",
    "            else: print(\"%5d %s (%0.2f%%)\" % (frequency,featureName,\n",
    "                                              100.0*float(frequency)/float(summary[NBROFTOKENS])))\n",
    "def summarizeFeature(inFileName,featureName):\n",
    "    data = readData(inFileName)\n",
    "    summary = summarizeDataFeature(data,featureName)\n",
    "    printSummary(summary,FEATURE)        \n",
    "\n",
    "def summarizeMail(inFileName,mailId):\n",
    "    data = readData(inFileName)\n",
    "    summary = summarizeDataMail(data,mailId)\n",
    "    printSummary(summary,MAIL)\n",
    "\n",
    "def summarize(inFileName):\n",
    "    data = readData(inFileName)\n",
    "    summary = summarizeData(data)\n",
    "    printSummary(summary)"
   ]
  },
  {
   "cell_type": "markdown",
   "metadata": {},
   "source": [
    "Next, the name of the input file is defined. Furthermore, the dates and times of mails written by clients are specified in a list. Then we call the visualization function with as arguments the name of the input file and a list of fields that we want to visualize."
   ]
  },
  {
   "cell_type": "code",
   "execution_count": null,
   "metadata": {},
   "outputs": [],
   "source": [
    "INFILENAME1 = \"1.txt\"\n",
    "clientDatesList1 = [\"2010-05-06T12:52:39\",\"2010-05-10T18:21:37\",\"2010-05-31T23:58:56\"]\n",
    "\n",
    "visualize(INFILENAME1,[\"relativ\",\"bio\",\"social\",\"cogproc\",\"family\"])"
   ]
  },
  {
   "cell_type": "code",
   "execution_count": null,
   "metadata": {},
   "outputs": [],
   "source": [
    "INFILENAME2 = \"AdB0016.txt\"\n",
    "visualize(INFILENAME2,[\"relativ\",\"bio\",\"social\",\"cogproc\",\"family\"])"
   ]
  },
  {
   "cell_type": "code",
   "execution_count": null,
   "metadata": {},
   "outputs": [],
   "source": [
    "summarize(INFILENAME1)"
   ]
  },
  {
   "cell_type": "code",
   "execution_count": null,
   "metadata": {},
   "outputs": [],
   "source": [
    "summarizeMail(INFILENAME2,30)"
   ]
  },
  {
   "cell_type": "code",
   "execution_count": null,
   "metadata": {},
   "outputs": [],
   "source": [
    "summarizeFeature(INFILENAME1,\"function\")"
   ]
  },
  {
   "cell_type": "code",
   "execution_count": null,
   "metadata": {
    "collapsed": true
   },
   "outputs": [],
   "source": []
  }
 ],
 "metadata": {
  "kernelspec": {
   "display_name": "Python 3",
   "language": "python",
   "name": "python3"
  },
  "language_info": {
   "codemirror_mode": {
    "name": "ipython",
    "version": 3
   },
   "file_extension": ".py",
   "mimetype": "text/x-python",
   "name": "python",
   "nbconvert_exporter": "python",
   "pygments_lexer": "ipython3",
   "version": "3.6.1"
  }
 },
 "nbformat": 4,
 "nbformat_minor": 2
}
