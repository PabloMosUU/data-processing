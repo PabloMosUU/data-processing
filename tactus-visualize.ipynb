{
 "cells": [
  {
   "cell_type": "markdown",
   "metadata": {},
   "source": [
    "# Visualizing English Tactus Data"
   ]
  },
  {
   "cell_type": "markdown",
   "metadata": {},
   "source": [
    "The first code block loads the visualization software (lines 1 and 2) and defines which of the English mails are written by the clients. The second step is necessary because we will only visualize client mails, and the English data do not contain labels for who wrote each mail."
   ]
  },
  {
   "cell_type": "code",
   "execution_count": null,
   "metadata": {
    "collapsed": true
   },
   "outputs": [],
   "source": [
    "import tactusVisualize\n",
    "from tactusVisualize import summarize, summarizeMail, summarizeFeature, visualize\n",
    "\n",
    "# mails 4, 5, 10\n",
    "tactusVisualize.clientDatesList = [\"2010-05-06T12:52:39\",\"2010-05-10T18:21:37\",\"2010-05-31T23:58:56\"]"
   ]
  },
  {
   "cell_type": "markdown",
   "metadata": {},
   "source": [
    "Next, we visualize a selection of LIWC features of a certain file. The standard method is to stack all values on top of each other in vertical bars. With the extra argument 'format=\"split\"', the bars for each separate feature start on the same height."
   ]
  },
  {
   "cell_type": "code",
   "execution_count": null,
   "metadata": {},
   "outputs": [],
   "source": [
    "visualize(file=\"1.txt\",features=[\"i\",\"relativ\",\"bio\",\"social\",\"cogproc\",\"family\"],format=\"split\")"
   ]
  },
  {
   "cell_type": "code",
   "execution_count": null,
   "metadata": {},
   "outputs": [],
   "source": [
    "visualize(file=\"AdB0016.txt\",features=[\"i\",\"relativ\",\"bio\",\"social\",\"cogproc\",\"family\"],format=\"split\")"
   ]
  },
  {
   "cell_type": "code",
   "execution_count": null,
   "metadata": {},
   "outputs": [],
   "source": [
    "summarize(file=\"1.txt\")"
   ]
  },
  {
   "cell_type": "code",
   "execution_count": null,
   "metadata": {},
   "outputs": [],
   "source": [
    "summarizeMail(file=\"AdB0016.txt\",mail=7)"
   ]
  },
  {
   "cell_type": "code",
   "execution_count": null,
   "metadata": {},
   "outputs": [],
   "source": [
    "summarizeFeature(file=\"1.txt\",feature=\"function\")"
   ]
  },
  {
   "cell_type": "code",
   "execution_count": null,
   "metadata": {},
   "outputs": [],
   "source": [
    "# 20190108 test code for interactive visualization\n",
    "\n",
    "%matplotlib notebook\n",
    "\n",
    "import matplotlib.pyplot as plt\n",
    "\n",
    "PLOTWIDTH = 9\n",
    "PLOTHEIGHT = 4\n",
    "BARWIDTH = 1.0\n",
    "IMAGEFILE = \"tactus.png\"\n",
    "\n",
    "def pickScatter(event):\n",
    "    plt.gca().set_title(\">>>\"+str(event.artist),fontsize=12)\n",
    "#    for e in event:\n",
    "#        plt.gca().set_title(\">>>\"+str(e),fontsize=12)\n",
    "\n",
    "def makePlot(fieldDataList,fieldNames):\n",
    "    plt.figure(figsize=(PLOTWIDTH,PLOTHEIGHT))\n",
    "    xvalues = range(0,len(fieldDataList[0]))\n",
    "    barplots = []\n",
    "    for i in range(0,len(fieldDataList)):\n",
    "        bottomValues = tactusVisualize.makeBottomValues(fieldDataList,i)\n",
    "        barplot = \\\n",
    "            plt.bar(xvalues,fieldDataList[i],width=BARWIDTH,bottom=bottomValues,picker=1)\n",
    "        barplots.append(barplot)\n",
    "    plt.legend(tuple([b[0] for b in barplots]),tuple(fieldNames))\n",
    "    plt.xticks(xvalues,[x+1 for x in xvalues])\n",
    "    plt.gcf().canvas.mpl_connect(\"pick_event\",pickScatter)\n",
    "    plt.savefig(IMAGEFILE)\n",
    "    plt.show()\n",
    "\n",
    "def visualize2(file,features):\n",
    "    data = tactusVisualize.readData(file)\n",
    "    featureDataList = tactusVisualize.selectData(data,features)\n",
    "    makePlot(featureDataList,features)\n",
    "\n",
    "visualize2(\"1.txt\",\"i\")"
   ]
  },
  {
   "cell_type": "code",
   "execution_count": null,
   "metadata": {
    "collapsed": true
   },
   "outputs": [],
   "source": []
  }
 ],
 "metadata": {
  "kernelspec": {
   "display_name": "Python 3",
   "language": "python",
   "name": "python3"
  },
  "language_info": {
   "codemirror_mode": {
    "name": "ipython",
    "version": 3
   },
   "file_extension": ".py",
   "mimetype": "text/x-python",
   "name": "python",
   "nbconvert_exporter": "python",
   "pygments_lexer": "ipython3",
   "version": "3.6.1"
  }
 },
 "nbformat": 4,
 "nbformat_minor": 2
}
