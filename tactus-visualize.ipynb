{
 "cells": [
  {
   "cell_type": "markdown",
   "metadata": {},
   "source": [
    "# Visualizing English Tactus Data"
   ]
  },
  {
   "cell_type": "markdown",
   "metadata": {},
   "source": [
    "The first code block loads the visualization software (lines 1 and 2) and defines which of the English mails are written by the clients. The second step is necessary because we will only visualize client mails, and the English data do not contain labels for who wrote each mail."
   ]
  },
  {
   "cell_type": "code",
   "execution_count": null,
   "metadata": {},
   "outputs": [],
   "source": [
    "import tactusVisualize\n",
    "from tactusVisualize import summarize, summarizeMail, summarizeFeature, visualize\n",
    "\n",
    "# mails 4, 5, 10\n",
    "tactusVisualize.clientDatesList = [\"2010-05-06T12:52:39\",\"2010-05-10T18:21:37\",\"2010-05-31T23:58:56\"]"
   ]
  },
  {
   "cell_type": "markdown",
   "metadata": {},
   "source": [
    "Next, we visualize a selection of LIWC features of a certain file."
   ]
  },
  {
   "cell_type": "code",
   "execution_count": null,
   "metadata": {},
   "outputs": [],
   "source": [
    "visualize(file=\"1.txt\",features=[\"i\",\"relativ\",\"bio\",\"social\",\"cogproc\",\"family\"])"
   ]
  },
  {
   "cell_type": "code",
   "execution_count": null,
   "metadata": {},
   "outputs": [],
   "source": [
    "visualize(file=\"AdB0016.txt\",features=[\"i\",\"relativ\",\"bio\",\"social\",\"cogproc\",\"family\"])"
   ]
  },
  {
   "cell_type": "code",
   "execution_count": null,
   "metadata": {},
   "outputs": [],
   "source": [
    "summarize(file=\"1.txt\")"
   ]
  },
  {
   "cell_type": "code",
   "execution_count": null,
   "metadata": {},
   "outputs": [],
   "source": [
    "summarizeMail(file=\"AdB0016.txt\",mail=7)"
   ]
  },
  {
   "cell_type": "code",
   "execution_count": null,
   "metadata": {},
   "outputs": [],
   "source": [
    "summarizeFeature(file=\"1.txt\",feature=\"function\")"
   ]
  },
  {
   "cell_type": "code",
   "execution_count": null,
   "metadata": {
    "collapsed": true
   },
   "outputs": [],
   "source": []
  }
 ],
 "metadata": {
  "kernelspec": {
   "display_name": "Python 3",
   "language": "python",
   "name": "python3"
  },
  "language_info": {
   "codemirror_mode": {
    "name": "ipython",
    "version": 3
   },
   "file_extension": ".py",
   "mimetype": "text/x-python",
   "name": "python",
   "nbconvert_exporter": "python",
   "pygments_lexer": "ipython3",
   "version": "3.6.1"
  }
 },
 "nbformat": 4,
 "nbformat_minor": 2
}
