{
 "cells": [
  {
   "cell_type": "markdown",
   "metadata": {},
   "source": [
    "# Tactus metadata\n",
    "\n",
    "Extract therapy result assessments from the metadata"
   ]
  },
  {
   "cell_type": "code",
   "execution_count": null,
   "metadata": {},
   "outputs": [],
   "source": [
    "import csv\n",
    "import numpy as np\n",
    "import os\n",
    "import pandas as pd\n",
    "import re\n",
    "import matplotlib.pyplot as plt\n",
    "\n",
    "%matplotlib inline"
   ]
  },
  {
   "cell_type": "code",
   "execution_count": null,
   "metadata": {},
   "outputs": [],
   "source": [
    "DIRECTORY = \"/home/erikt/projects/e-mental-health/usb/tmp/20190917/\""
   ]
  },
  {
   "cell_type": "markdown",
   "metadata": {},
   "source": [
    "All clients (1986) have filled in an intake form. However there are three different formats of intake form, which we distinguish by the label of question 1 about gender:\n",
    "1. 1-geslacht0: 1045 clients\n",
    "2. 1-geslacht: 897 clients\n",
    "3. 1-geslachtt0: 44 clients"
   ]
  },
  {
   "cell_type": "code",
   "execution_count": null,
   "metadata": {},
   "outputs": [],
   "source": [
    "VARIANTS = [\"1-geslacht0\",\"1-geslacht\",\"1-geslachtt0\"]\n",
    "FILENAMEPREFIX = \"AdB\"\n",
    "\n",
    "def countFiles(directory,prefix):\n",
    "    return(len([fileName for fileName in os.listdir(directory) \\\n",
    "                         if re.search(\"^\"+prefix,fileName)]))\n",
    "\n",
    "nbrOfFiles = [countFiles(DIRECTORY+\"/\"+variant,FILENAMEPREFIX) for variant in VARIANTS]\n",
    "plt.bar(VARIANTS,nbrOfFiles)\n",
    "plt.title(\"Number of clients per type of intake form\")\n",
    "nbrOfFiles"
   ]
  },
  {
   "cell_type": "markdown",
   "metadata": {},
   "source": [
    "Few clients fill in one of the subsequents four questionaires: half-way, end, after three months and after six months. We want to use the first two to measure their progress in the therapy so we check how frequently these forms are present "
   ]
  },
  {
   "cell_type": "code",
   "execution_count": null,
   "metadata": {},
   "outputs": [],
   "source": [
    "import sys\n",
    "sys.path.insert(1, '/home/erikt/project/e-mental-health/data-processing')\n",
    "import tactus2table"
   ]
  },
  {
   "cell_type": "code",
   "execution_count": null,
   "metadata": {},
   "outputs": [],
   "source": [
    "TITLE = \"0-title\"\n",
    "TUSSENMETING = \"Lijst tussenmeting\"\n",
    "NAMETING = \"Lijst nameting\"\n",
    "\n",
    "questionnairesCountTussenmeting = {variant:0 for variant in VARIANTS}\n",
    "questionnairesCountNameting = {variant:0 for variant in VARIANTS}\n",
    "for variant in VARIANTS:\n",
    "    for inFileName in os.listdir(DIRECTORY+\"/\"+variant):\n",
    "        if re.search(\"^\"+FILENAMEPREFIX,inFileName):\n",
    "            root = tactus2table.readRootFromFile(DIRECTORY+\"/\"+variant+\"/\"+inFileName)\n",
    "            questionnaires = tactus2table.getQuestionnaires(root,inFileName)\n",
    "            for questionnaire in questionnaires:\n",
    "                if questionnaire[TITLE] == TUSSENMETING:\n",
    "                    questionnairesCountTussenmeting[variant] += 1\n",
    "                if questionnaire[TITLE] == NAMETING:\n",
    "                    questionnairesCountNameting[variant] += 1"
   ]
  },
  {
   "cell_type": "code",
   "execution_count": null,
   "metadata": {},
   "outputs": [],
   "source": [
    "questionnairesCountTussenmeting,questionnairesCountNameting"
   ]
  },
  {
   "cell_type": "code",
   "execution_count": null,
   "metadata": {},
   "outputs": [],
   "source": [
    "barWidth = 0.3\n",
    "index = np.arange(len(VARIANTS))\n",
    "plt.bar(index,nbrOfFiles,barWidth,label=\"intake\")\n",
    "plt.bar(index+barWidth,questionnairesCountTussenmeting.values(),\n",
    "        barWidth,label=\"tussenmeting\")\n",
    "plt.bar(index+2*barWidth,\n",
    "        questionnairesCountNameting.values(),\n",
    "        barWidth,label=\"nameting\")\n",
    "plt.xticks(index+barWidth,VARIANTS)\n",
    "plt.title(\"Number of responses per type of intake form\")\n",
    "plt.legend()\n",
    "list(questionnairesCountTussenmeting.values())"
   ]
  },
  {
   "cell_type": "markdown",
   "metadata": {},
   "source": [
    "Since the response frequencies for clients with intake format \"1-geslacht\" is a lot higher than those of the other two formats, it makes sense to focus on this format. Let's check how many of those 897 clients sent at least one email to the counselor."
   ]
  },
  {
   "cell_type": "code",
   "execution_count": null,
   "metadata": {},
   "outputs": [],
   "source": [
    "VARIANT = \"1-geslacht\"\n",
    "CLIENT = \"CLIENT\"\n",
    "FROM = 1\n",
    "\n",
    "clientSentEmailCounter = 0\n",
    "for inFileName in os.listdir(DIRECTORY+\"/\"+VARIANT):\n",
    "    if re.search(\"^\"+FILENAMEPREFIX,inFileName):\n",
    "        root = tactus2table.readRootFromFile(DIRECTORY+\"/\"+VARIANT+\"/\"+inFileName)\n",
    "        emails = tactus2table.getEmailData(root,inFileName)\n",
    "        clientSentEmail = False\n",
    "        for email in emails:\n",
    "            if email[FROM] == CLIENT: \n",
    "                clientSentEmail = True\n",
    "                break\n",
    "        if clientSentEmail: clientSentEmailCounter += 1\n",
    "            \n",
    "clientSentEmailCounter"
   ]
  },
  {
   "cell_type": "markdown",
   "metadata": {},
   "source": [
    "Of the intermediate questionnaire, question 8 (8-intefft) is most interesting: *DO you consider this Internet therapy to be an effective method for changing alcohol-related habits?* (*Vind je internetbehandeling een effectieve methode om je drinkgewoonte te veranderen?*) A positive answer signals a positive effect of the therapy on the client. Let's see how they responded to this question."
   ]
  },
  {
   "cell_type": "code",
   "execution_count": null,
   "metadata": {},
   "outputs": [],
   "source": [
    "QUESTION8 = \"8-intefft\"\n",
    "QUESTION9 = \"9-inteff1\"\n",
    "\n",
    "responses = {}\n",
    "for inFileName in os.listdir(DIRECTORY+\"/\"+VARIANT):\n",
    "    if re.search(\"^\"+FILENAMEPREFIX,inFileName):\n",
    "        root = tactus2table.readRootFromFile(DIRECTORY+\"/\"+VARIANT+\"/\"+inFileName)\n",
    "        questionnaires = tactus2table.getQuestionnaires(root,inFileName)\n",
    "        for questionnaire in questionnaires:\n",
    "            if questionnaire[TITLE] == TUSSENMETING:\n",
    "                if QUESTION8 in questionnaire:\n",
    "                    response = questionnaire[QUESTION8]\n",
    "                    if response in responses: responses[response] += 1\n",
    "                    else: responses[response] = 1\n",
    "                elif QUESTION9 in questionnaire:\n",
    "                    response = questionnaire[QUESTION9]\n",
    "                    if response in responses: responses[response] += 1\n",
    "                    else: responses[response] = 1\n",
    "                else: print(\"no inteff question in\",inFileName)\n",
    "\n",
    "responses"
   ]
  },
  {
   "cell_type": "markdown",
   "metadata": {},
   "source": [
    "We expected a overwhelming positive response (because the people for which the therapy did not work could have stopped). The answers are indeed mostly positive but interestingly150 of the 470 clients responded with *I don't know* (*ik weet het niet*). Four clients filled in a different form where the question had number 9 instead of 8.  "
   ]
  },
  {
   "cell_type": "code",
   "execution_count": null,
   "metadata": {},
   "outputs": [],
   "source": [
    "inFileName = \"AdB0010.xml.gz\"\n",
    "root = tactus2table.readRootFromFile(DIRECTORY+\"/\"+VARIANT+\"/\"+inFileName)\n",
    "questionnaires = tactus2table.getQuestionnaires(root,inFileName)\n",
    "questionnaires"
   ]
  },
  {
   "cell_type": "code",
   "execution_count": null,
   "metadata": {},
   "outputs": [],
   "source": [
    "data = pd.read_csv(DIRECTORY+\"/\"+FILE)"
   ]
  },
  {
   "cell_type": "code",
   "execution_count": null,
   "metadata": {},
   "outputs": [],
   "source": [
    "FIELDNAME = \"14-drugs\"\n",
    "ages = []\n",
    "for rowId in range(0,len(data)):\n",
    "    ages.append(re.sub(\" *leeftijd in jaren *\",\"\",data[FIELDNAME][rowId]))\n",
    "agesPD = pd.Series(ages)"
   ]
  },
  {
   "cell_type": "code",
   "execution_count": null,
   "metadata": {},
   "outputs": [],
   "source": [
    "data[\"30-week2\"].value_counts().sort_index().plot(kind=\"bar\",figsize=(14,6))\n"
   ]
  },
  {
   "cell_type": "code",
   "execution_count": null,
   "metadata": {},
   "outputs": [],
   "source": [
    "# end form: 18-weekn 19-weekn"
   ]
  },
  {
   "cell_type": "code",
   "execution_count": null,
   "metadata": {},
   "outputs": [],
   "source": [
    "[x for x in data]\n"
   ]
  },
  {
   "cell_type": "code",
   "execution_count": null,
   "metadata": {},
   "outputs": [],
   "source": [
    "data[\"30-week2\"]"
   ]
  },
  {
   "cell_type": "code",
   "execution_count": null,
   "metadata": {},
   "outputs": [],
   "source": []
  }
 ],
 "metadata": {
  "kernelspec": {
   "display_name": "Python 3",
   "language": "python",
   "name": "python3"
  },
  "language_info": {
   "codemirror_mode": {
    "name": "ipython",
    "version": 3
   },
   "file_extension": ".py",
   "mimetype": "text/x-python",
   "name": "python",
   "nbconvert_exporter": "python",
   "pygments_lexer": "ipython3",
   "version": "3.6.7"
  }
 },
 "nbformat": 4,
 "nbformat_minor": 4
}
