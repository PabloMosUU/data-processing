{
 "cells": [
  {
   "cell_type": "markdown",
   "metadata": {},
   "source": [
    "# Tactus metadata\n",
    "\n",
    "Extract therapy result assessments from the metadata"
   ]
  },
  {
   "cell_type": "code",
   "execution_count": null,
   "metadata": {},
   "outputs": [],
   "source": [
    "import csv\n",
    "import gzip\n",
    "import numpy as np\n",
    "import os\n",
    "import pandas as pd\n",
    "import re\n",
    "import matplotlib.pyplot as plt\n",
    "\n",
    "%matplotlib inline"
   ]
  },
  {
   "cell_type": "code",
   "execution_count": null,
   "metadata": {},
   "outputs": [],
   "source": [
    "DIRECTORY = \"/home/erikt/projects/e-mental-health/usb/tmp/20190917/\""
   ]
  },
  {
   "cell_type": "markdown",
   "metadata": {},
   "source": [
    "All clients (1986) have filled in an intake form. However there are three different formats of intake form, which we distinguish by the label of question 1 about gender:\n",
    "1. 1-geslacht0: 1045 clients\n",
    "2. 1-geslacht: 897 clients\n",
    "3. 1-geslachtt0: 44 clients"
   ]
  },
  {
   "cell_type": "code",
   "execution_count": null,
   "metadata": {},
   "outputs": [],
   "source": [
    "VARIANTS = [\"1-geslacht0\",\"1-geslacht\",\"1-geslachtt0\"]\n",
    "FILENAMEPREFIX = \"AdB\"\n",
    "\n",
    "def countFiles(directory,prefix):\n",
    "    return(len([fileName for fileName in os.listdir(directory) \\\n",
    "                         if re.search(\"^\"+prefix,fileName)]))\n",
    "\n",
    "nbrOfFiles = [countFiles(DIRECTORY+\"/\"+variant,FILENAMEPREFIX) for variant in VARIANTS]\n",
    "plt.bar(VARIANTS,nbrOfFiles)\n",
    "plt.title(\"Number of clients per type of intake form\")\n",
    "nbrOfFiles"
   ]
  },
  {
   "cell_type": "markdown",
   "metadata": {},
   "source": [
    "Few clients fill in one of the subsequents four questionaires: half-way, end, after three months and after six months. We want to use the first two to measure their progress in the therapy so we check how frequently these forms are present "
   ]
  },
  {
   "cell_type": "code",
   "execution_count": null,
   "metadata": {},
   "outputs": [],
   "source": [
    "import sys\n",
    "sys.path.insert(1, '/home/erikt/project/e-mental-health/data-processing')\n",
    "import tactus2table"
   ]
  },
  {
   "cell_type": "code",
   "execution_count": null,
   "metadata": {},
   "outputs": [],
   "source": [
    "TITLE = \"0-title\"\n",
    "TUSSENMETING = \"Lijst tussenmeting\"\n",
    "NAMETING = \"Lijst nameting\"\n",
    "\n",
    "tussenmeting = []\n",
    "nameting = []\n",
    "questionnairesCountTussenmeting = {variant:0 for variant in VARIANTS}\n",
    "questionnairesCountNameting = {variant:0 for variant in VARIANTS}\n",
    "for variant in VARIANTS:\n",
    "    for inFileName in os.listdir(DIRECTORY+\"/\"+variant):\n",
    "        if re.search(\"^\"+FILENAMEPREFIX,inFileName):\n",
    "            root = tactus2table.readRootFromFile(DIRECTORY+\"/\"+variant+\"/\"+inFileName)\n",
    "            questionnaires = tactus2table.getQuestionnaires(root,inFileName)\n",
    "            for questionnaire in questionnaires:\n",
    "                if questionnaire[TITLE] == TUSSENMETING:\n",
    "                    questionnairesCountTussenmeting[variant] += 1\n",
    "                    tussenmeting.append(inFileName)\n",
    "                if questionnaire[TITLE] == NAMETING:\n",
    "                    questionnairesCountNameting[variant] += 1\n",
    "                    nameting.append(inFileName)"
   ]
  },
  {
   "cell_type": "code",
   "execution_count": null,
   "metadata": {},
   "outputs": [],
   "source": [
    "questionnairesCountTussenmeting,questionnairesCountNameting"
   ]
  },
  {
   "cell_type": "code",
   "execution_count": null,
   "metadata": {},
   "outputs": [],
   "source": [
    "len(tussenmeting),len(nameting)"
   ]
  },
  {
   "cell_type": "code",
   "execution_count": null,
   "metadata": {},
   "outputs": [],
   "source": [
    "barWidth = 0.3\n",
    "index = np.arange(len(VARIANTS))\n",
    "plt.bar(index,nbrOfFiles,barWidth,label=\"intake\")\n",
    "plt.bar(index+barWidth,questionnairesCountTussenmeting.values(),\n",
    "        barWidth,label=\"tussenmeting\")\n",
    "plt.bar(index+2*barWidth,\n",
    "        questionnairesCountNameting.values(),\n",
    "        barWidth,label=\"nameting\")\n",
    "plt.xticks(index+barWidth,VARIANTS)\n",
    "plt.title(\"Number of responses per type of intake form\")\n",
    "plt.legend()\n",
    "list(questionnairesCountTussenmeting.values())"
   ]
  },
  {
   "cell_type": "markdown",
   "metadata": {},
   "source": [
    "Since the response frequencies for clients with intake format \"1-geslacht\" is a lot higher than those of the other two formats, it makes sense to focus on this format. Let's check how many of those 897 clients sent at least one email to the counselor."
   ]
  },
  {
   "cell_type": "code",
   "execution_count": null,
   "metadata": {},
   "outputs": [],
   "source": [
    "CLIENT = \"CLIENT\"\n",
    "FIELDIDFROM = 1\n",
    "FIELDIDTEXT = 5\n",
    "SHORTPROGRAMME = \"Duurt circa zes weken\"\n",
    "SELFHELP1 = \"zelfhulpvariant\"\n",
    "SELFHELP2 = \"zelf aan de slag te gaan\"\n",
    "SELFHELP3 = \"zelfhulpprogramma\"\n",
    "\n",
    "listClientSentEmail = {}\n",
    "listShortProgramme= []\n",
    "listSelfHelp = []\n",
    "listVariants = {}\n",
    "for variant in VARIANTS:\n",
    "    for inFileName in os.listdir(DIRECTORY+\"/\"+variant):\n",
    "        if re.search(\"^\"+FILENAMEPREFIX,inFileName):\n",
    "            listVariants[inFileName] = variant\n",
    "            root = tactus2table.readRootFromFile(DIRECTORY+\"/\"+variant+\"/\"+inFileName)\n",
    "            emails = tactus2table.getEmailData(root,inFileName)\n",
    "            nbrOfClientEmails = 0\n",
    "            shortProgramme = False\n",
    "            selfHelp = False\n",
    "            for email in emails:\n",
    "                if email[FIELDIDFROM] == CLIENT: \n",
    "                    nbrOfClientEmails += 1\n",
    "                if re.search(SHORTPROGRAMME,email[FIELDIDTEXT]):\n",
    "                    shortProgramme = True\n",
    "                if re.search(SELFHELP1,email[FIELDIDTEXT]) or \\\n",
    "                   re.search(SELFHELP2,email[FIELDIDTEXT]) or \\\n",
    "                   re.search(SELFHELP3,email[FIELDIDTEXT]):\n",
    "                    selfHelp = True\n",
    "            if nbrOfClientEmails > 0: \n",
    "                listClientSentEmail[inFileName] = nbrOfClientEmails\n",
    "                if selfHelp and not shortProgramme: listSelfHelp.append(inFileName)\n",
    "                if shortProgramme: listShortProgramme.append(inFileName)\n",
    "    print(variant,len(listClientSentEmail.keys()),len(listShortProgramme),len(listSelfHelp))"
   ]
  },
  {
   "cell_type": "markdown",
   "metadata": {},
   "source": [
    "The next information was added after inspecting the mail log of the clients"
   ]
  },
  {
   "cell_type": "code",
   "execution_count": null,
   "metadata": {},
   "outputs": [],
   "source": [
    "# did not start 211 266 634\n",
    "# short programme: 655"
   ]
  },
  {
   "cell_type": "markdown",
   "metadata": {},
   "source": [
    "## File selection inspection\n",
    "\n",
    "We want to know which clients were selected for analysis. Here we store an overview of all aspects of the data files. First we read the file containing the list of 990 clients selected by our student."
   ]
  },
  {
   "cell_type": "code",
   "execution_count": null,
   "metadata": {},
   "outputs": [],
   "source": [
    "STUDENTFILE = \"/home/erikt/projects/e-mental-health/usb/releases/20200218/dropout.csv.gz\"\n",
    "DROPOUT = \"dropout\"\n",
    "CLIENTID = \"clientID\"\n",
    "\n",
    "studentSelection = []\n",
    "inFile = gzip.open(STUDENTFILE,\"rt\",encoding=\"utf-8\")\n",
    "csvreader = csv.DictReader(inFile)\n",
    "for row in csvreader:\n",
    "    row[CLIENTID] = re.sub(\"(-an)?.xml(.gz)?$\",\"\",row[CLIENTID])\n",
    "    if row[DROPOUT] == \"1\" or row[DROPOUT] == \"2\": studentSelection.append(row[CLIENTID])\n",
    "inFile.close()\n",
    "\n",
    "(len(studentSelection) == 990)"
   ]
  },
  {
   "cell_type": "markdown",
   "metadata": {},
   "source": [
    "The student did not receive all intake forms. We check for which clients an intake form was available and for which not."
   ]
  },
  {
   "cell_type": "code",
   "execution_count": null,
   "metadata": {},
   "outputs": [],
   "source": [
    "INTAKEFILE = \"/home/erikt/projects/e-mental-health/usb/releases/20200121/intake.csv.gz\"\n",
    "IDFIELD = \"0-id\"\n",
    "\n",
    "intakeForms = []\n",
    "inFile = gzip.open(INTAKEFILE,\"rt\",encoding=\"utf-8\")\n",
    "csvreader = csv.DictReader(inFile)\n",
    "for row in csvreader: intakeForms.append(row[IDFIELD])\n",
    "inFile.close()\n",
    "\n",
    "(len(intakeForms) == 1940)"
   ]
  },
  {
   "cell_type": "code",
   "execution_count": null,
   "metadata": {},
   "outputs": [],
   "source": [
    "def shortenFileName(inFileName):\n",
    "    return(re.sub(\"(-an)?.xml(.gz)?$\",\"\",inFileName))\n",
    "\n",
    "outFile = open(\"out.csv\",\"w\")\n",
    "csvwriter = csv.DictWriter(outFile,[\"file\",\"student\",\"selected\",\"intake\",\"clientMail\",\\\n",
    "            \"shortProgramme\",\"selfHelp\",\"tussenmeting\",\"nameting\",\"variant\"])\n",
    "csvwriter.writeheader()\n",
    "\n",
    "for inFileName in sorted(os.listdir(DIRECTORY)):\n",
    "    if re.search(\"^\"+FILENAMEPREFIX,inFileName):\n",
    "        shortFileName = shortenFileName(inFileName)\n",
    "        row = {\"file\":shortFileName}\n",
    "        if shortFileName in studentSelection: row[\"student\"] = 1\n",
    "        else: row[\"student\"] = 0\n",
    "        if shortFileName in intakeForms: row[\"intake\"] = 1\n",
    "        else: row[\"intake\"] = 0\n",
    "        if inFileName in listClientSentEmail and \\\n",
    "           not inFileName in listShortProgramme and \\\n",
    "           not inFileName in listSelfHelp: row[\"selected\"] = 1\n",
    "        else: row[\"selected\"] = 0\n",
    "        if inFileName in listSelfHelp: row[\"selfHelp\"] = 1            \n",
    "        if inFileName in listClientSentEmail: row[\"clientMail\"] = listClientSentEmail[inFileName]\n",
    "        else: row[\"clientMail\"] = 0\n",
    "        if inFileName in listShortProgramme: row[\"shortProgramme\"] = 1\n",
    "        else: row[\"shortProgramme\"] = 0\n",
    "        if inFileName in listSelfHelp: row[\"selfHelp\"] = 1\n",
    "        else: row[\"selfHelp\"] = 0\n",
    "        if inFileName in tussenmeting: row[\"tussenmeting\"] = 1\n",
    "        else: row[\"tussenmeting\"] = 0\n",
    "        if inFileName in nameting: row[\"nameting\"] = 1\n",
    "        else: row[\"nameting\"] = 0\n",
    "        row[\"variant\"] = listVariants[inFileName]\n",
    "        csvwriter.writerow(row)\n",
    "outFile.close()           "
   ]
  },
  {
   "cell_type": "markdown",
   "metadata": {},
   "source": [
    "Of the intermediate questionnaire, question 8 (8-intefft) is most interesting: *DO you consider this Internet therapy to be an effective method for changing alcohol-related habits?* (*Vind je internetbehandeling een effectieve methode om je drinkgewoonte te veranderen?*) A positive answer signals a positive effect of the therapy on the client. Let's see how they responded to this question."
   ]
  },
  {
   "cell_type": "code",
   "execution_count": null,
   "metadata": {},
   "outputs": [],
   "source": [
    "VARIANT = \"1-geslacht\"\n",
    "QUESTION8 = \"8-intefft\"\n",
    "QUESTION9 = \"9-inteff1\"\n",
    "\n",
    "responses = {}\n",
    "for inFileName in os.listdir(DIRECTORY+\"/\"+VARIANT):\n",
    "    if re.search(\"^\"+FILENAMEPREFIX,inFileName):\n",
    "        root = tactus2table.readRootFromFile(DIRECTORY+\"/\"+VARIANT+\"/\"+inFileName)\n",
    "        questionnaires = tactus2table.getQuestionnaires(root,inFileName)\n",
    "        for questionnaire in questionnaires:\n",
    "            if questionnaire[TITLE] == TUSSENMETING:\n",
    "                if QUESTION8 in questionnaire:\n",
    "                    response = questionnaire[QUESTION8]\n",
    "                    if response in responses: responses[response] += 1\n",
    "                    else: responses[response] = 1\n",
    "                elif QUESTION9 in questionnaire:\n",
    "                    response = questionnaire[QUESTION9]\n",
    "                    if response in responses: responses[response] += 1\n",
    "                    else: responses[response] = 1\n",
    "                else: print(\"no inteff question in\",inFileName)\n",
    "\n",
    "responses"
   ]
  },
  {
   "cell_type": "markdown",
   "metadata": {},
   "source": [
    "We expected a overwhelming positive response (because the people for which the therapy did not work could have stopped). The answers are indeed mostly positive but interestingly150 of the 470 clients responded with *I don't know* (*ik weet het niet*). Four clients filled in a different form where the question had number 9 instead of 8.  "
   ]
  },
  {
   "cell_type": "code",
   "execution_count": null,
   "metadata": {},
   "outputs": [],
   "source": [
    "inFileName = \"AdB0010.xml.gz\"\n",
    "root = tactus2table.readRootFromFile(DIRECTORY+\"/\"+VARIANT+\"/\"+inFileName)\n",
    "questionnaires = tactus2table.getQuestionnaires(root,inFileName)\n",
    "questionnaires"
   ]
  },
  {
   "cell_type": "code",
   "execution_count": null,
   "metadata": {},
   "outputs": [],
   "source": [
    "data = pd.read_csv(DIRECTORY+\"/\"+FILE)"
   ]
  },
  {
   "cell_type": "code",
   "execution_count": null,
   "metadata": {},
   "outputs": [],
   "source": [
    "FIELDNAME = \"14-drugs\"\n",
    "ages = []\n",
    "for rowId in range(0,len(data)):\n",
    "    ages.append(re.sub(\" *leeftijd in jaren *\",\"\",data[FIELDNAME][rowId]))\n",
    "agesPD = pd.Series(ages)"
   ]
  },
  {
   "cell_type": "code",
   "execution_count": null,
   "metadata": {},
   "outputs": [],
   "source": [
    "data[\"30-week2\"].value_counts().sort_index().plot(kind=\"bar\",figsize=(14,6))\n"
   ]
  },
  {
   "cell_type": "code",
   "execution_count": null,
   "metadata": {},
   "outputs": [],
   "source": [
    "# end form: 18-weekn 19-weekn"
   ]
  },
  {
   "cell_type": "code",
   "execution_count": null,
   "metadata": {},
   "outputs": [],
   "source": [
    "[x for x in data]\n"
   ]
  },
  {
   "cell_type": "code",
   "execution_count": null,
   "metadata": {},
   "outputs": [],
   "source": [
    "data[\"30-week2\"]"
   ]
  },
  {
   "cell_type": "code",
   "execution_count": null,
   "metadata": {},
   "outputs": [],
   "source": []
  }
 ],
 "metadata": {
  "kernelspec": {
   "display_name": "Python 3",
   "language": "python",
   "name": "python3"
  },
  "language_info": {
   "codemirror_mode": {
    "name": "ipython",
    "version": 3
   },
   "file_extension": ".py",
   "mimetype": "text/x-python",
   "name": "python",
   "nbconvert_exporter": "python",
   "pygments_lexer": "ipython3",
   "version": "3.6.7"
  }
 },
 "nbformat": 4,
 "nbformat_minor": 4
}
