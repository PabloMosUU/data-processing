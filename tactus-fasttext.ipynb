{
 "cells": [
  {
   "cell_type": "markdown",
   "metadata": {},
   "source": [
    "# Fasttext experiments with tactus data"
   ]
  },
  {
   "cell_type": "markdown",
   "metadata": {},
   "source": [
    "First import required modules: general Python modules and modules from Orange3"
   ]
  },
  {
   "cell_type": "code",
   "execution_count": 1,
   "metadata": {},
   "outputs": [],
   "source": [
    "import csv\n",
    "import fasttext\n",
    "import gzip\n",
    "import os\n",
    "import re\n",
    "import sys\n",
    "\n",
    "sys.path.append(\"/home/erikt/projects/e-mental-health/enron/orange-hackathon/orangehackathon/libs\")\n",
    "import tactusloaderLIB\n",
    "import OWEmailSorterLIB\n",
    "import markduplicatesLIB\n",
    "import removemarkedtextLIB\n",
    "import LIWCLIB"
   ]
  },
  {
   "cell_type": "markdown",
   "metadata": {},
   "source": [
    "Next, read the mails from the data set via Orange 3 and store them in the data structure allMails. This takes several minutes so we do not want to do this often."
   ]
  },
  {
   "cell_type": "code",
   "execution_count": 2,
   "metadata": {},
   "outputs": [],
   "source": [
    "ANODIRECTORY = \"/home/erikt/projects/e-mental-health/usb/releases/20191217/\"\n",
    "ANOSTRING = \"-an\"\n",
    "GZEXTENSION = \".gz\"\n",
    "XMLEXTENSION = \".xml\"\n",
    "\n",
    "os.chdir(ANODIRECTORY)\n",
    "\n",
    "def shortenFileName(fileName):\n",
    "    return(re.sub(XMLEXTENSION,\"\",re.sub(ANOSTRING,\"\",fileName)))"
   ]
  },
  {
   "cell_type": "code",
   "execution_count": 3,
   "metadata": {},
   "outputs": [],
   "source": [
    "def getAllTactusMails():\n",
    "    allMails = {}\n",
    "    for patientId in list(range(1,1988)):\n",
    "        if patientId % 100 == 0: print(patientId,end=\" \")\n",
    "        fileName = tactusloaderLIB.makeFileName(str(patientId))\n",
    "        try:\n",
    "            mails = tactusloaderLIB.processFile(ANODIRECTORY,fileName+GZEXTENSION)\n",
    "            if len(mails[0]) > 0:\n",
    "                sortedMails = OWEmailSorterLIB.filterEmails(mails[0],filter_asc=True)\n",
    "                markedMails = markduplicatesLIB.processCorpus(sortedMails)\n",
    "                strippedMails = removemarkedtextLIB.processCorpus(markedMails)\n",
    "                allMails[shortenFileName(fileName)] = strippedMails\n",
    "        except:\n",
    "            print(\"problem processing file\",fileName)\n",
    "            continue\n",
    "    return(allMails)\n",
    "\n",
    "allMails = {}\n",
    "# allMails = getAllTactusMails()"
   ]
  },
  {
   "cell_type": "markdown",
   "metadata": {},
   "source": [
    "We also need labels for the data. We will use the dropout labels provided by a student's project"
   ]
  },
  {
   "cell_type": "code",
   "execution_count": 4,
   "metadata": {},
   "outputs": [],
   "source": [
    "SELECTEDFILE = \"/home/erikt/projects/e-mental-health/usb/releases/20200305/selected.csv.gz\"\n",
    "DROPOUT = \"dropout\"\n",
    "FILE = \"file\"\n",
    "\n",
    "dropout = {}\n",
    "inFile = gzip.open(SELECTEDFILE,\"rt\",encoding=\"utf-8\")\n",
    "csvreader = csv.DictReader(inFile)\n",
    "for row in csvreader:\n",
    "    row[FILE] = re.sub(\"(-an)?.xml(.gz)?$\",\"\",row[FILE])\n",
    "    if row[DROPOUT] == \"1\" or row[DROPOUT] == \"2\": \n",
    "        dropout[row[FILE]] = row[DROPOUT]\n",
    "inFile.close()"
   ]
  },
  {
   "cell_type": "markdown",
   "metadata": {},
   "source": [
    "Fasttext operates on files so we should store our data in a file to enable fasttext to access it."
   ]
  },
  {
   "cell_type": "code",
   "execution_count": 5,
   "metadata": {},
   "outputs": [],
   "source": [
    "LASTMAILID = -1\n",
    "LABELPREFIX = \"__label__\"\n",
    "OUTFILENAME = \"fasttext.txt\"\n",
    "\n",
    "def getFieldId(corpus,fieldName):\n",
    "    fieldId = -1\n",
    "    for i in range(0,len(corpus.domain.metas)):\n",
    "        if str(corpus.domain.metas[i]) == fieldName:\n",
    "            fieldId = i\n",
    "    return(fieldId)\n",
    "\n",
    "def storeTactusDataInFastTextFile(allMails):\n",
    "    if len(allMails) > 0:\n",
    "        firstClient = list(allMails.keys())[0]\n",
    "        subjectId = getFieldId(allMails[firstClient],\"subject\")\n",
    "        textId = getFieldId(allMails[firstClient],\"text\")\n",
    "\n",
    "        outFile = open(OUTFILENAME,\"w\")\n",
    "        for client in allMails:\n",
    "            if client in dropout:\n",
    "                subject = allMails[client][LASTMAILID].metas[subjectId]\n",
    "                mailText = allMails[client][LASTMAILID].metas[textId]\n",
    "                print(LABELPREFIX+str(dropout[client]),subject,mailText,file=outFile)\n",
    "        outFile.close()\n",
    "    \n",
    "storeTactusDataInFastTextFile(allMails)"
   ]
  },
  {
   "cell_type": "markdown",
   "metadata": {},
   "source": [
    "Now we can start a fasttext experiment using this data set"
   ]
  },
  {
   "cell_type": "code",
   "execution_count": 13,
   "metadata": {},
   "outputs": [
    {
     "name": "stdout",
     "output_type": "stream",
     "text": [
      "1 (158, 0.5379746835443038, 0.5379746835443038)\n",
      "2 (158, 0.5316455696202531, 0.5316455696202531)\n",
      "3 (158, 0.5316455696202531, 0.5316455696202531)\n",
      "4 (158, 0.5316455696202531, 0.5316455696202531)\n",
      "5 (158, 0.5316455696202531, 0.5316455696202531)\n",
      "6 (158, 0.5316455696202531, 0.5316455696202531)\n",
      "7 (158, 0.6139240506329114, 0.6139240506329114)\n",
      "8 (158, 0.7341772151898734, 0.7341772151898734)\n",
      "9 (158, 0.8227848101265823, 0.8227848101265823)\n",
      "10 (158, 0.8481012658227848, 0.8481012658227848)\n",
      "11 (158, 0.8544303797468354, 0.8544303797468354)\n",
      "12 (158, 0.8607594936708861, 0.8607594936708861)\n",
      "13 (158, 0.8670886075949367, 0.8670886075949367)\n",
      "14 (158, 0.8734177215189873, 0.8734177215189873)\n",
      "15 (158, 0.8860759493670886, 0.8860759493670886)\n",
      "16 (158, 0.8924050632911392, 0.8924050632911392)\n",
      "17 (158, 0.8860759493670886, 0.8860759493670886)\n",
      "18 (158, 0.8924050632911392, 0.8924050632911392)\n",
      "19 (158, 0.8987341772151899, 0.8987341772151899)\n",
      "20 (158, 0.8924050632911392, 0.8924050632911392)\n",
      "21 (158, 0.879746835443038, 0.879746835443038)\n",
      "22 (158, 0.879746835443038, 0.879746835443038)\n",
      "23 (158, 0.879746835443038, 0.879746835443038)\n",
      "24 (158, 0.8670886075949367, 0.8670886075949367)\n",
      "25 (158, 0.8607594936708861, 0.8607594936708861)\n",
      "26 (158, 0.8544303797468354, 0.8544303797468354)\n",
      "27 (158, 0.8607594936708861, 0.8607594936708861)\n",
      "28 (158, 0.8607594936708861, 0.8607594936708861)\n",
      "29 (158, 0.8607594936708861, 0.8607594936708861)\n"
     ]
    }
   ],
   "source": [
    "DIM = 300\n",
    "EPOCH = 18\n",
    "TRAIN = \"fasttext-train.txt\"\n",
    "TEST = \"fasttext-test.txt\"\n",
    "WIKIFILENAME = \"wiki.nl.vec\"\n",
    "CCFILENAME = \"cc.nl.300.vec\"\n",
    "WIKIDIR = \"/home/erikt/projects/newsgac/fasttext-runs/\"\n",
    "\n",
    "for epoch in range(1,30,1):\n",
    "    model = fasttext.train_supervised(ANODIRECTORY+TRAIN,dim=DIM,epoch=epoch)\n",
    "    print(epoch,model.test(ANODIRECTORY+TEST))"
   ]
  },
  {
   "cell_type": "markdown",
   "metadata": {},
   "source": [
    "without pretrained vectors:\n",
    "18 (158, 0.8987341772151899, 0.8987341772151899)\n",
    "with pretrained vectors (wiki):\n",
    "3 (158, 0.8607594936708861, 0.8607594936708861)\n",
    "5 (158, 0.8734177215189873, 0.8734177215189873)\n",
    "7 (158, 0.8607594936708861, 0.8607594936708861)\n",
    "10 (158, 0.8670886075949367, 0.8670886075949367)\n",
    "15 (158, 0.8544303797468354, 0.8544303797468354)\n",
    "with pretrained vectors (cc): CRASH (memory problem)"
   ]
  },
  {
   "cell_type": "code",
   "execution_count": null,
   "metadata": {},
   "outputs": [],
   "source": []
  }
 ],
 "metadata": {
  "kernelspec": {
   "display_name": "Python 3",
   "language": "python",
   "name": "python3"
  },
  "language_info": {
   "codemirror_mode": {
    "name": "ipython",
    "version": 3
   },
   "file_extension": ".py",
   "mimetype": "text/x-python",
   "name": "python",
   "nbconvert_exporter": "python",
   "pygments_lexer": "ipython3",
   "version": "3.7.3"
  }
 },
 "nbformat": 4,
 "nbformat_minor": 4
}
